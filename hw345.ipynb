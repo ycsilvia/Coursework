{
 "cells": [
  {
   "cell_type": "markdown",
   "metadata": {},
   "source": [
    "# hw 3\n",
    "\n",
    "## A randomized non-homogeneous poisson process\n",
    "\n",
    "Let's consider the idea of non-homogeneous poisson process (this is a slight abuse of the term) with a randomized intensity function $R(t)$. \n",
    "\n",
    "Let's look at one such model:\n",
    "\n",
    "- there is a baseline intensity parameter $\\lambda > 0$\n",
    "- when the $i$-th event occurs, we generate a random variable $M_i \\sim \\exp(\\lambda)$ called the event's \"mark\" that determines the instaneous increase in the intensity function. Assume the $M_i$ are independent.\n",
    "- there is a decay parameter, $\\alpha > 0$ that determines how long the impact of an event's mark is felt\n",
    "\n",
    "Suppose there have been $N(t)$ events by time $t$, at times $S_1 < ... < S_{N(t)}$ with marks $M_1,...,M_{N(t)}$\n",
    "\n",
    "$R(t) = \\lambda + \\sum_{i=1}^{N(t)} M_i \\exp(-\\alpha(t - S_i))$, meaning the intensity at time t, is a function of the number of events, their specific times, and their marks.\n",
    "\n",
    "Using the algorithm suggested in the hints below, write a function generate_process(lam, mu, alpha, T) that generates the arrival times for one run of such a process until time $T$. The output should be a numpy array. \n",
    "\n",
    "Output $n=10,000$ runs of such a process until $T=1$ for the parameters $\\lambda=2$, $\\mu=1$, $\\alpha=0.5$. This should be a list (of length n) of numpy arrays (of varying lengths). Calculate N(1) for each run and output that as well. This should be a numpy array of length n.\n",
    "\n",
    "Hints: \n",
    "(1) What is the distribution of the first arrival time?\n",
    "(2) at $t>0$, if we know the previous arrival times and their marks, how can we use the interarrival method coupled with the thinning method to sample from this process?"
   ]
  },
  {
   "cell_type": "code",
   "execution_count": null,
   "metadata": {
    "vscode": {
     "languageId": "plaintext"
    }
   },
   "outputs": [],
   "source": [
    "import numpy as np\n",
    "from scipy.stats import expon, uniform\n",
    "\n",
    "def generate_process(lam, mu, alpha, T):\n",
    "    S = np.array([])\n",
    "    M = np.array([])\n",
    "    t = 0\n",
    "    R_max = lam\n",
    "    while True:\n",
    "        dt = expon.rvs(scale=1/R_max)\n",
    "        t += dt\n",
    "        if t < T:\n",
    "            R_t = lam + np.sum(M * np.exp(-alpha * (t - S)))\n",
    "            p_t = R_t / R_max # thining method\n",
    "            if uniform.rvs() < p_t:\n",
    "                S = np.append(S, t)\n",
    "                M_i = expon.rvs(scale=1/mu)\n",
    "                M = np.append(M, M_i)\n",
    "                R_max = R_t + M_i \n",
    "            else:\n",
    "                R_max = R_t\n",
    "        else:\n",
    "            break\n",
    "    return S\n",
    "\n",
    "lam = 2\n",
    "mu = 1\n",
    "alpha = 0.5\n",
    "t = 1\n",
    "\n",
    "runs = [generate_process(lam, mu, alpha, t) for i in range(0, 10_000)]\n",
    "N_1 = np.array([len(x) for x in runs])\n",
    "runs, N_1"
   ]
  }
 ],
 "metadata": {
  "language_info": {
   "name": "python"
  }
 },
 "nbformat": 4,
 "nbformat_minor": 2
}
