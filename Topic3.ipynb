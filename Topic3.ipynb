{
 "cells": [
  {
   "cell_type": "markdown",
   "metadata": {},
   "source": [
    "# Topic 3: Continuous Random Variables\n",
    "## 1: Inverse Transform"
   ]
  },
  {
   "cell_type": "markdown",
   "metadata": {},
   "source": [
    "Sampling From Gamma Distributions"
   ]
  },
  {
   "cell_type": "code",
   "execution_count": 1,
   "metadata": {},
   "outputs": [
    {
     "name": "stdout",
     "output_type": "stream",
     "text": [
      "0.05297231674194336\n",
      "0.01666879653930664\n"
     ]
    },
    {
     "name": "stderr",
     "output_type": "stream",
     "text": [
      "c:\\Users\\Silvia\\anaconda3\\lib\\site-packages\\scipy\\optimize\\_zeros_py.py:303: RuntimeWarning: Derivative was zero.\n",
      "  warnings.warn(msg, RuntimeWarning)\n"
     ]
    }
   ],
   "source": [
    "import numpy as np\n",
    "import time\n",
    "\n",
    "from scipy.optimize import root_scalar\n",
    "from scipy.stats import gamma, uniform\n",
    "\n",
    "def inv_num(n, lmbda):\n",
    "    u = uniform.rvs()\n",
    "    # scipy uses mean parametrization\n",
    "    f = lambda x: gamma.cdf(x, n , scale=1 / lmbda) - u\n",
    "    f_prime = lambda x: gamma.pdf(x, n, scale=1 / lmbda)\n",
    "    sol = root_scalar(f, x0=1, fprime=f_prime)\n",
    "    return sol.root\n",
    "\n",
    "def inv(n, lmbda):\n",
    "    u = uniform.rvs(size=n)\n",
    "    x = (-1 / lmbda) * np.log(np.product(u))\n",
    "    return x\n",
    "\n",
    "\n",
    "nsims = 100\n",
    "n = 10\n",
    "lmbda = 1\n",
    "\n",
    "t1 = time.time()\n",
    "X = [inv_num(n, lmbda) for i in range(0, nsims)]\n",
    "t2 = time.time()\n",
    "\n",
    "t3 = time.time()\n",
    "X = [inv(n, lmbda) for i in range(0, nsims)]\n",
    "t4 = time.time()\n",
    "\n",
    "print(t2 - t1)\n",
    "print(t4 - t3)\n"
   ]
  },
  {
   "cell_type": "markdown",
   "metadata": {},
   "source": [
    "numerical inversion"
   ]
  },
  {
   "cell_type": "code",
   "execution_count": 2,
   "metadata": {},
   "outputs": [
    {
     "data": {
      "text/plain": [
       "array([0.62796377, 0.77787152, 0.54220875, 0.54885055, 0.96936052,\n",
       "       0.78941213, 0.73842109, 0.52988777, 0.47024202, 0.96791047,\n",
       "       0.66192361, 0.84460767, 0.94803742, 0.77115437, 0.81569828,\n",
       "       0.72013743, 0.88852064, 0.68237319, 0.60697317, 0.88646565,\n",
       "       0.81254061, 0.9648589 , 0.49349871, 0.67866584, 0.88347316,\n",
       "       0.86257875, 0.67255609, 0.95140284, 0.86519986, 0.4042707 ,\n",
       "       0.86062056, 0.41477758, 0.7147029 , 0.97147648, 0.79153002,\n",
       "       0.96289947, 0.49507245, 0.7716891 , 0.5347067 , 0.63720307,\n",
       "       0.89184435, 0.74225561, 0.37418719, 0.92235967, 0.89785427,\n",
       "       0.98270816, 0.92047096, 0.68184909, 0.94038837, 0.98025983,\n",
       "       0.99817762, 0.93826192, 0.65628221, 0.88242779, 0.62726996,\n",
       "       0.75163412, 0.9423065 , 0.50840102, 0.87411535, 0.50612227,\n",
       "       0.49913845, 0.95903415, 0.87797554, 0.49117549, 0.85983617,\n",
       "       0.54972386, 0.55600487, 0.68464282, 0.51000146, 0.59987685,\n",
       "       0.7421039 , 0.87619561, 0.46015544, 0.91463178, 0.7889877 ,\n",
       "       0.88606994, 0.81837779, 0.98952714, 0.46203358, 0.86773285,\n",
       "       0.65722347, 0.74773919, 0.62468058, 0.94988511, 0.96716958,\n",
       "       0.79280411, 0.93917499, 0.85353842, 0.82138302, 0.63259967,\n",
       "       0.45818138, 0.9496807 , 0.86439774, 0.4259616 , 0.76532185,\n",
       "       0.97252198, 0.99689023, 0.51899667, 0.85119581, 0.78272343,\n",
       "       0.92003477, 0.38013188, 0.86419863, 0.90711403, 0.95191886,\n",
       "       0.79464852, 0.98277278, 0.7484314 , 0.50025314, 0.48534239,\n",
       "       0.50433839, 0.6996672 , 0.97474597, 0.71279721, 0.77759939,\n",
       "       0.88823346, 0.86823288, 0.43763781, 0.7374836 , 0.50034757,\n",
       "       0.82930709, 0.87094031, 0.98536591, 0.48253094, 0.99175378,\n",
       "       0.37132967, 0.99077332, 0.45325434, 0.49989931, 0.76515761,\n",
       "       0.69156762, 0.98882362, 0.74558702, 0.52034707, 0.87467905,\n",
       "       0.99622708, 0.52583871, 0.53966146, 0.51951793, 0.64802027,\n",
       "       0.99206962, 0.94015016, 0.76587969, 0.98782842, 0.90678472,\n",
       "       0.57398006, 0.44268175, 0.43744744, 0.91730576, 0.78555382,\n",
       "       0.91650955, 0.76545132, 0.42975049, 0.84796593, 0.58161576,\n",
       "       0.7513622 , 0.95634867, 0.87291306, 0.98567742, 0.94499713,\n",
       "       0.786408  , 0.96420301, 0.80275931, 0.98647697, 0.63178304,\n",
       "       0.68122443, 0.35565647, 0.86258266, 0.71242529, 0.9076867 ,\n",
       "       0.3760481 , 0.99971479, 0.96616138, 0.97619067, 0.72362168,\n",
       "       0.87209606, 0.90481208, 0.67985352, 0.52903639, 0.94374975,\n",
       "       0.88524227, 0.81947816, 0.62475306, 0.67911595, 0.83128872,\n",
       "       0.95013236, 0.92185384, 0.78735033, 0.82210145, 0.34434601,\n",
       "       0.87938217, 0.90398515, 0.92214374, 0.5345636 , 0.89121323,\n",
       "       0.85699718, 0.89264074, 0.82626141, 0.9593287 , 0.77255393,\n",
       "       0.53923172, 0.81380192, 0.59232953, 0.93622176, 0.74900859,\n",
       "       0.95635899, 0.39706121, 0.46829427, 0.8067543 , 0.91279479,\n",
       "       0.43312797, 0.7832711 , 0.93633728, 0.7922551 , 0.74680511,\n",
       "       0.90968427, 0.97444629, 0.89452259, 0.74413325, 0.70087492,\n",
       "       0.9430266 , 0.3458238 , 0.77638729, 0.96351418, 0.94544098,\n",
       "       0.47556802, 0.54820159, 0.65993466, 0.48261997, 0.79204897,\n",
       "       0.95442583, 0.87576595, 0.61011126, 0.73174362, 0.78933995,\n",
       "       0.99010239, 0.92621347, 0.95422306, 0.98250315, 0.49602497,\n",
       "       0.94728031, 0.58530348, 0.92573433, 0.82325707, 0.99774622,\n",
       "       0.64573087, 0.89086746, 0.77788   , 0.76306205, 0.83693471,\n",
       "       0.98159693, 0.85316585, 0.57375379, 0.8382704 , 0.47639779,\n",
       "       0.94321653, 0.94906376, 0.91027335, 0.88746542, 0.91308771,\n",
       "       0.64821533, 0.43288763, 0.43677013, 0.6961343 , 0.54285981,\n",
       "       0.50185556, 0.41696674, 0.96472355, 0.7280505 , 0.8575963 ,\n",
       "       0.90488672, 0.77896368, 0.91988939, 0.74767658, 0.48961709,\n",
       "       0.84866422, 0.8723676 , 0.97057274, 0.48186175, 0.36217611,\n",
       "       0.40733192, 0.97840065, 0.62808189, 0.89308748, 0.50147745,\n",
       "       0.55164233, 0.64697806, 0.69752367, 0.88859101, 0.87325684,\n",
       "       0.98847127, 0.57812846, 0.96774157, 0.97090877, 0.98082114,\n",
       "       0.92445981, 0.75449333, 0.81487876, 0.6958528 , 0.89463621,\n",
       "       0.36520371, 0.83459887, 0.87658913, 0.90661074, 0.53447049,\n",
       "       0.74309933, 0.82085696, 0.80344048, 0.68313457, 0.85664506,\n",
       "       0.5301919 , 0.92735799, 0.92173399, 0.70824846, 0.53587815,\n",
       "       0.66616248, 0.95477577, 0.98169956, 0.87953263, 0.5605108 ,\n",
       "       0.49415429, 0.83290584, 0.97027804, 0.65630043, 0.51029286,\n",
       "       0.97046604, 0.48937203, 0.52460495, 0.59542753, 0.80597931,\n",
       "       0.96539613, 0.87274384, 0.63058415, 0.62930241, 0.44927553,\n",
       "       0.83576571, 0.92337105, 0.6013323 , 0.39042108, 0.4967189 ,\n",
       "       0.76971847, 0.99159054, 0.98639717, 0.92806895, 0.87862743,\n",
       "       0.94049296, 0.93705406, 0.45308399, 0.94321522, 0.97440961,\n",
       "       0.95043688, 0.81353418, 0.79247543, 0.64369169, 0.96529675,\n",
       "       0.74946561, 0.87250434, 0.95138453, 0.94027681, 0.92483205,\n",
       "       0.95959322, 0.97063264, 0.52620507, 0.839363  , 0.76211812,\n",
       "       0.38377321, 0.905178  , 0.79861169, 0.36330242, 0.87855648,\n",
       "       0.38271771, 0.96664835, 0.96232271, 0.91759226, 0.8323002 ,\n",
       "       0.92217215, 0.93231198, 0.97432421, 0.79218444, 0.93765626,\n",
       "       0.8355178 , 0.92221572, 0.92734291, 0.98837664, 0.95772524,\n",
       "       0.5810771 , 0.8819775 , 0.63516774, 0.80351876, 0.94897074,\n",
       "       0.86061353, 0.87752942, 0.40048946, 0.72156244, 0.85504899,\n",
       "       0.37954403, 0.61587203, 0.96515318, 0.80323814, 0.90264643,\n",
       "       0.35285941, 0.98973595, 0.49930688, 0.65845434, 0.99404191,\n",
       "       0.81182417, 0.87112527, 0.91084995, 0.93376872, 0.9353105 ,\n",
       "       0.9876152 , 0.97745544, 0.80553534, 0.35198853, 0.60742759,\n",
       "       0.986615  , 0.85774983, 0.53011858, 0.63073907, 0.96181636,\n",
       "       0.95612044, 0.45704414, 0.88257665, 0.86907276, 0.87368175,\n",
       "       0.90407686, 0.49508327, 0.97668478, 0.62586958, 0.96881916,\n",
       "       0.63599539, 0.41482733, 0.82444013, 0.52730836, 0.7878449 ,\n",
       "       0.42197134, 0.51040428, 0.81951064, 0.89357728, 0.69359032,\n",
       "       0.93594275, 0.97026472, 0.80970022, 0.50341891, 0.93547285,\n",
       "       0.89252308, 0.8825492 , 0.8681483 , 0.90160922, 0.94240733,\n",
       "       0.51298246, 0.43769042, 0.83852855, 0.8208775 , 0.92622086,\n",
       "       0.76447089, 0.37318807, 0.9739671 , 0.97734841, 0.36054409,\n",
       "       0.98514863, 0.95356899, 0.83671507, 0.75409039, 0.91869713,\n",
       "       0.91577929, 0.88399078, 0.75311321, 0.63809985, 0.98881456,\n",
       "       0.87568577, 0.80308094, 0.52273038, 0.80094713, 0.78455867,\n",
       "       0.72657867, 0.97677653, 0.95300895, 0.96862202, 0.43675503,\n",
       "       0.82603021, 0.97877875, 0.74186213, 0.69997899, 0.74433684,\n",
       "       0.62436365, 0.92661581, 0.84525726, 0.55864465, 0.93848416,\n",
       "       0.88390201, 0.71839029, 0.63212203, 0.44584701, 0.83044863,\n",
       "       0.40435518, 0.67611319, 0.60013948, 0.54222965, 0.78170755,\n",
       "       0.63909111, 0.90167448, 0.98553941, 0.98906305, 0.67916278,\n",
       "       0.99333381, 0.79337664, 0.35672225, 0.41027966, 0.82509851,\n",
       "       0.71548125, 0.99422608, 0.98733865, 0.96434605, 0.64073611,\n",
       "       0.74078298, 0.37540668, 0.83625468, 0.42983041, 0.52372956,\n",
       "       0.91238248, 0.82304995, 0.71542719, 0.60491897, 0.99840509,\n",
       "       0.35050528, 0.72469096, 0.92517436, 0.73322565, 0.91478513,\n",
       "       0.90625728, 0.51258754, 0.98836318, 0.87261577, 0.90899472,\n",
       "       0.82873112, 0.89325474, 0.96974258, 0.40094162, 0.80400253,\n",
       "       0.91124486, 0.82250702, 0.95128694, 0.45740366, 0.98798463,\n",
       "       0.93259686, 0.45735145, 0.92383695, 0.89413033, 0.69162584,\n",
       "       0.9795295 , 0.95848997, 0.89281032, 0.62724794, 0.63832756,\n",
       "       0.96790815, 0.87563396, 0.98302025, 0.59135888, 0.97231564,\n",
       "       0.89922107, 0.83274977, 0.99853525, 0.70061768, 0.43153717,\n",
       "       0.68551305, 0.80623813, 0.58463022, 0.60410002, 0.39564943,\n",
       "       0.8355527 , 0.61511811, 0.98176747, 0.71255432, 0.52686616,\n",
       "       0.99015058, 0.8304883 , 0.77573823, 0.65386834, 0.52314832,\n",
       "       0.9165675 , 0.90146523, 0.9657715 , 0.88696557, 0.8556208 ,\n",
       "       0.92877295, 0.97577081, 0.6085027 , 0.84339366, 0.92653643,\n",
       "       0.86995624, 0.39379343, 0.88372708, 0.52147962, 0.62232965,\n",
       "       0.46382884, 0.77228102, 0.77731663, 0.94173917, 0.73576733,\n",
       "       0.74866409, 0.57379241, 0.37714321, 0.87997289, 0.52620916,\n",
       "       0.42498421, 0.83437639, 0.77852606, 0.57023883, 0.94243146,\n",
       "       0.90954886, 0.61403736, 0.98059088, 0.66301027, 0.96247271,\n",
       "       0.78462239, 0.56499489, 0.92124996, 0.76966975, 0.81150448,\n",
       "       0.85315066, 0.87059185, 0.97498413, 0.35538688, 0.83298356,\n",
       "       0.99204106, 0.87506871, 0.8910049 , 0.99475655, 0.52341184,\n",
       "       0.97914138, 0.49016084, 0.5598079 , 0.65235169, 0.68313073,\n",
       "       0.70843306, 0.7469898 , 0.90437623, 0.81029221, 0.66117644,\n",
       "       0.99846724, 0.95090089, 0.91443972, 0.8601265 , 0.99514876,\n",
       "       0.98785928, 0.80076498, 0.48104443, 0.80607277, 0.79519434,\n",
       "       0.65621875, 0.45374578, 0.58745847, 0.98978947, 0.8241829 ,\n",
       "       0.38539569, 0.98816825, 0.41715608, 0.98503931, 0.93790793,\n",
       "       0.59632429, 0.53206225, 0.65956002, 0.68799785, 0.67917963,\n",
       "       0.98499932, 0.58747202, 0.73506884, 0.75148046, 0.5489293 ,\n",
       "       0.91464347, 0.91110771, 0.88736461, 0.87985898, 0.96789945,\n",
       "       0.83666028, 0.98509084, 0.99083699, 0.96650726, 0.90163147,\n",
       "       0.75437993, 0.84599251, 0.70655957, 0.93621809, 0.79717694,\n",
       "       0.61610247, 0.35471028, 0.68659832, 0.79427366, 0.90034139,\n",
       "       0.89856577, 0.70650109, 0.92030678, 0.92755138, 0.664826  ,\n",
       "       0.50260095, 0.92568363, 0.97597004, 0.83349423, 0.65053168,\n",
       "       0.67161664, 0.81606167, 0.93506837, 0.69625285, 0.95398186,\n",
       "       0.72465851, 0.88750765, 0.63137058, 0.57774815, 0.52127267,\n",
       "       0.97395945, 0.84962076, 0.83176251, 0.78941407, 0.98414056,\n",
       "       0.98178898, 0.92242014, 0.79208754, 0.92753112, 0.94918839,\n",
       "       0.94537008, 0.9218402 , 0.96498132, 0.97886171, 0.93223898,\n",
       "       0.90037772, 0.80584057, 0.95116346, 0.98548883, 0.68118614,\n",
       "       0.98084131, 0.95955542, 0.97667535, 0.73935939, 0.99223345,\n",
       "       0.67355184, 0.69661459, 0.95099915, 0.65938011, 0.88878575,\n",
       "       0.92828709, 0.75475808, 0.97346455, 0.87660153, 0.86597496,\n",
       "       0.96952671, 0.54639113, 0.81942527, 0.94226967, 0.79276442,\n",
       "       0.87010866, 0.87344276, 0.85279478, 0.4656635 , 0.98717371,\n",
       "       0.98854866, 0.85736923, 0.97960111, 0.79385232, 0.87738591,\n",
       "       0.81859982, 0.97782425, 0.8561282 , 0.78717546, 0.64964985,\n",
       "       0.62560513, 0.96394316, 0.69988429, 0.83546967, 0.89765967,\n",
       "       0.72581642, 0.98935007, 0.65229256, 0.96550533, 0.69544235,\n",
       "       0.38302838, 0.76908401, 0.83526849, 0.95140013, 0.69594157,\n",
       "       0.87143555, 0.69011243, 0.39199114, 0.92383663, 0.79790987,\n",
       "       0.87299678, 0.83336755, 0.83075481, 0.87959974, 0.98438072,\n",
       "       0.92722678, 0.99844477, 0.60461257, 0.36526363, 0.83682143,\n",
       "       0.8669062 , 0.5561681 , 0.44660803, 0.89211834, 0.59785521,\n",
       "       0.35839764, 0.93132822, 0.41060824, 0.94604676, 0.93197013,\n",
       "       0.97599147, 0.67714548, 0.79187977, 0.97822001, 0.66972213,\n",
       "       0.95791144, 0.90144007, 0.91591916, 0.96612598, 0.44822256,\n",
       "       0.49429273, 0.7948945 , 0.5235777 , 0.57739972, 0.97176211,\n",
       "       0.96427563, 0.84378135, 0.75887704, 0.6432695 , 0.91253489,\n",
       "       0.98604079, 0.66938997, 0.88148608, 0.71346292, 0.96217204,\n",
       "       0.70665208, 0.85702222, 0.9552488 , 0.81132291, 0.97450612,\n",
       "       0.90193985, 0.38972593, 0.96769192, 0.6197802 , 0.80512432,\n",
       "       0.95122865, 0.72946393, 0.89625094, 0.89792321, 0.9496306 ,\n",
       "       0.78214417, 0.9236333 , 0.75304463, 0.78733878, 0.94829501,\n",
       "       0.78835249, 0.95528255, 0.58387219, 0.85508406, 0.9366378 ,\n",
       "       0.51537218, 0.95484858, 0.83716079, 0.61968832, 0.72424013,\n",
       "       0.49174856, 0.73427031, 0.52826563, 0.35172295, 0.86126743,\n",
       "       0.90470833, 0.8553955 , 0.95856823, 0.98316068, 0.7878143 ,\n",
       "       0.87898737, 0.94954041, 0.89380938, 0.82727562, 0.96978328,\n",
       "       0.78484296, 0.71015227, 0.55485115, 0.99150966, 0.90645457,\n",
       "       0.78970717, 0.86766696, 0.75900427, 0.5096593 , 0.7390886 ,\n",
       "       0.98536259, 0.7508043 , 0.91621527, 0.94441724, 0.99064648,\n",
       "       0.94374012, 0.7673998 , 0.96157424, 0.52289284, 0.65780641,\n",
       "       0.40417465, 0.82492584, 0.70952124, 0.95968515, 0.89311965,\n",
       "       0.96052077, 0.87130304, 0.71451719, 0.82955081, 0.9500668 ,\n",
       "       0.82516896, 0.98434012, 0.5111734 , 0.96807862, 0.4856791 ,\n",
       "       0.67246368, 0.74112607, 0.94093847, 0.97903122, 0.47500177,\n",
       "       0.96242359, 0.66027644, 0.50661161, 0.87150931, 0.37046081,\n",
       "       0.88952784, 0.52396772, 0.44297287, 0.53491447, 0.61371504,\n",
       "       0.99847403, 0.91850532, 0.47986612, 0.87668048, 0.65120861,\n",
       "       0.95233533, 0.89926404, 0.80697402, 0.59881416, 0.81896434,\n",
       "       0.39141103, 0.60007258, 0.8530643 , 0.86176897, 0.96815913,\n",
       "       0.85203513, 0.94304706, 0.99218682, 0.95029772, 0.8647331 ,\n",
       "       0.80220124, 0.96801953, 0.96544565, 0.85569063, 0.39364291,\n",
       "       0.91588253, 0.96261793, 0.40107194, 0.78758999, 0.83566506,\n",
       "       0.90595042, 0.56748187, 0.8129548 , 0.52434017, 0.95404208,\n",
       "       0.4137812 , 0.94037456, 0.79365142, 0.54158173, 0.80514346,\n",
       "       0.45662332, 0.75994094, 0.77889617, 0.97081792, 0.78190136,\n",
       "       0.52743537, 0.7821739 , 0.46660396, 0.81359907, 0.68437599,\n",
       "       0.60393954, 0.93172883, 0.48639299, 0.53733737, 0.82030277,\n",
       "       0.91808947, 0.82992664, 0.65958653, 0.89566228, 0.70821518,\n",
       "       0.39949884, 0.72100152, 0.9055248 , 0.91554854, 0.86842223,\n",
       "       0.67710561, 0.69059107, 0.91474052, 0.97698486, 0.91918383,\n",
       "       0.56666376, 0.73261011, 0.43114718, 0.8430765 , 0.9839231 ])"
      ]
     },
     "execution_count": 2,
     "metadata": {},
     "output_type": "execute_result"
    }
   ],
   "source": [
    "import numpy as np\n",
    "from scipy.optimize import minimize, root_scalar, Bounds\n",
    "from scipy.stats import uniform\n",
    "\n",
    "F = lambda x: (1/3) * x**2 + (1/3) * x**3 + (1/3) * x**8\n",
    "\n",
    "def F_inv(F, u, domain):\n",
    "    F_root = lambda x: F(x) - u\n",
    "    sol = root_scalar(F_root, bracket=domain)\n",
    "    return sol.root\n",
    "\n",
    "U = uniform.rvs()\n",
    "\n",
    "Y = [F_inv(F, uniform.rvs(), [0, 1]) for _ in range(1000)]\n",
    "\n",
    "def F_inv2(F, u, domain):\n",
    "    F_root = lambda x: np.sum((F(x) - u) ** 2)\n",
    "    sol = minimize(F_root, x0=0.5 * np.ones(len(u)), bounds=Bounds(lb=domain[0], ub=domain[1]))\n",
    "    return sol.x\n",
    "\n",
    "F_inv2(F,uniform.rvs(size=1000),domain=[0,1])"
   ]
  },
  {
   "cell_type": "markdown",
   "metadata": {},
   "source": [
    "## 2: Rejection Sampling"
   ]
  },
  {
   "cell_type": "code",
   "execution_count": 1,
   "metadata": {},
   "outputs": [
    {
     "name": "stdout",
     "output_type": "stream",
     "text": [
      "0.41919374465942383\n",
      "2.0744876861572266\n"
     ]
    }
   ],
   "source": [
    "import numpy as np\n",
    "\n",
    "\n",
    "from scipy.stats import uniform\n",
    "from time import time\n",
    "\n",
    "def inv_method():\n",
    "    u = uniform.rvs()\n",
    "    x = u ** (1/4)\n",
    "    return x\n",
    "\n",
    "def reject():\n",
    "    while True:\n",
    "        U = uniform.rvs(size=2)\n",
    "        if U[1] <= U[0]**3:\n",
    "            return U[0]\n",
    "\n",
    "\n",
    "n = 10000\n",
    "t1 = time()\n",
    "X1 = [inv_method() for i in range(0, n)]\n",
    "t2 = time()\n",
    "\n",
    "t3 = time()\n",
    "X1 = [reject() for i in range(0, n)]\n",
    "t4 = time()\n",
    "\n",
    "print(t2 - t1)\n",
    "print(t4 - t3)"
   ]
  },
  {
   "cell_type": "markdown",
   "metadata": {},
   "source": [
    "Sampling from a gamma distribution"
   ]
  },
  {
   "cell_type": "code",
   "execution_count": 4,
   "metadata": {},
   "outputs": [],
   "source": [
    "import matplotlib.pyplot as plt\n",
    "import numpy as np\n",
    "from scipy.stats import expon, uniform, gamma\n",
    "from scipy.special import gamma as gfunc"
   ]
  },
  {
   "cell_type": "code",
   "execution_count": 5,
   "metadata": {},
   "outputs": [],
   "source": [
    "def sample_gamma(alpha, lmbda):\n",
    "    beta = lmbda / alpha\n",
    "    c = (alpha ** alpha) * np.exp(1 - alpha) / gfunc(alpha)\n",
    "    Y = expon.rvs(scale = 1 / beta)\n",
    "    ratio = gamma.pdf(Y, alpha, scale=1/lmbda) / (c * expon.pdf(Y, scale=1/beta))\n",
    "    while uniform.rvs() > ratio:\n",
    "        Y = expon.rvs(scale = 1 / beta)\n",
    "        ratio = gamma.pdf(Y, alpha, scale=1/lmbda) / (c * expon.pdf(Y, scale=1/beta))\n",
    "    return Y"
   ]
  },
  {
   "cell_type": "code",
   "execution_count": 6,
   "metadata": {},
   "outputs": [],
   "source": [
    "n = 10_000\n",
    "alpha = 2\n",
    "lmbda = 1\n",
    "G = [sample_gamma(alpha, lmbda) for i in range(0,n)]"
   ]
  },
  {
   "cell_type": "code",
   "execution_count": 7,
   "metadata": {},
   "outputs": [
    {
     "data": {
      "text/plain": [
       "[<matplotlib.lines.Line2D at 0x1f3860ee7a0>]"
      ]
     },
     "execution_count": 7,
     "metadata": {},
     "output_type": "execute_result"
    },
    {
     "data": {
      "image/png": "[encoded data removed]",
      "text/plain": [
       "<Figure size 640x480 with 1 Axes>"
      ]
     },
     "metadata": {},
     "output_type": "display_data"
    }
   ],
   "source": [
    "x_range = np.linspace(0, 10)\n",
    "plt.hist(G, bins=100, density=True)\n",
    "plt.plot(x_range, gamma.pdf(x_range, alpha, scale=1/lmbda))"
   ]
  },
  {
   "cell_type": "markdown",
   "metadata": {},
   "source": [
    "Rejection Sampling to get a normal distribution"
   ]
  },
  {
   "cell_type": "code",
   "execution_count": null,
   "metadata": {},
   "outputs": [],
   "source": [
    "import matplotlib.pyplot as plt\n",
    "import numpy as np\n",
    "from scipy.stats import norm, expon, uniform\n",
    "\n",
    "def sample_z():\n",
    "    Y = expon.rvs()\n",
    "    while uniform.rvs() > np.exp(-0.5 * (Y - 1)**2):\n",
    "        Y = expon.rvs()\n",
    "    U = uniform.rvs()\n",
    "    if U < 0.5:\n",
    "        Y = (-1) * Y\n",
    "    return Y\n",
    "\n",
    "n = 10_000\n",
    "X = [sample_z() for i in range(0 , n)]\n",
    "\n",
    "x = np.linspace(-3,3)\n",
    "plt.hist(X, bins=100, density=True)\n",
    "plt.plot(x, norm.pdf(x))"
   ]
  },
  {
   "cell_type": "markdown",
   "metadata": {},
   "source": [
    "## 4: Composition Method"
   ]
  },
  {
   "cell_type": "code",
   "execution_count": 15,
   "metadata": {},
   "outputs": [],
   "source": [
    "import numpy as np\n",
    "from scipy.optimize import minimize_scalar, Bounds\n",
    "from scipy.stats import expon, gamma, uniform"
   ]
  },
  {
   "cell_type": "markdown",
   "metadata": {},
   "source": [
    "## Part I\n",
    "Let's implement the insurance example from the previous sections.\n",
    "\n",
    "First we'll write a function that samples from the distribution of the whole population."
   ]
  },
  {
   "cell_type": "code",
   "execution_count": 16,
   "metadata": {},
   "outputs": [],
   "source": [
    "# part I \n",
    "\n",
    "\n",
    "def sample():\n",
    "    alpha = expon.rvs(scale=1)\n",
    "    lam = expon.rvs(scale=1)\n",
    "    X = gamma.rvs(alpha, scale=1/lam)\n",
    "    return X\n",
    "\n",
    "X = [sample() for _ in range(1000)]"
   ]
  },
  {
   "cell_type": "markdown",
   "metadata": {},
   "source": [
    "## Part II\n",
    "Now, we're interested in estimating the expectation of future claims from an individual who is observed having claims of X=2 in a given year. We will sample from the conditional distribution of $\\alpha$ and $\\lambda$ and for each of this samples, we will then sample from $X$ conditional on those."
   ]
  },
  {
   "cell_type": "code",
   "execution_count": 17,
   "metadata": {},
   "outputs": [],
   "source": [
    "# conditional dist, do rejection sample with exp(1) proposoal density\n",
    "x = 2\n",
    "\n",
    "f = lambda y: gamma.pdf(x, 2, scale=1/y) * expon.pdf(y)\n",
    "g = lambda y: expon.pdf(y)\n",
    "h = lambda y: (-1) * f(y) / g(y)\n",
    "sol = minimize_scalar(h, bounds=(0, 10))\n",
    "C = (-1) * h(sol.x)"
   ]
  },
  {
   "cell_type": "code",
   "execution_count": 18,
   "metadata": {},
   "outputs": [],
   "source": [
    "def rej_sample():\n",
    "    Y = expon.rvs()\n",
    "    while uniform.rvs() > (-1) * h(Y) / C:\n",
    "        Y = expon.rvs()\n",
    "    return Y"
   ]
  },
  {
   "cell_type": "code",
   "execution_count": 19,
   "metadata": {},
   "outputs": [
    {
     "name": "stdout",
     "output_type": "stream",
     "text": [
      "2.894384614107125\n"
     ]
    }
   ],
   "source": [
    "lam = np.array([rej_sample() for _ in range(1000)])\n",
    "X = gamma.rvs(2,scale=1/lam)\n",
    "print(np.mean(X))"
   ]
  }
 ],
 "metadata": {
  "kernelspec": {
   "display_name": "base",
   "language": "python",
   "name": "python3"
  },
  "language_info": {
   "codemirror_mode": {
    "name": "ipython",
    "version": 3
   },
   "file_extension": ".py",
   "mimetype": "text/x-python",
   "name": "python",
   "nbconvert_exporter": "python",
   "pygments_lexer": "ipython3",
   "version": "3.10.9"
  }
 },
 "nbformat": 4,
 "nbformat_minor": 2
}
