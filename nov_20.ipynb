{
 "cells": [
  {
   "cell_type": "code",
   "execution_count": null,
   "metadata": {},
   "outputs": [],
   "source": [
    "import numpy as np\n",
    "import simpy\n",
    "\n",
    "from scipy.stats import expon, uniform"
   ]
  },
  {
   "cell_type": "code",
   "execution_count": null,
   "metadata": {},
   "outputs": [],
   "source": [
    "lam_dt = 10\n",
    "lam_st = 10\n",
    "N = 100\n",
    "\n",
    "def simulate(T):\n",
    "    def arrivals():\n",
    "        for i in range(N):\n",
    "            dt = expon.rvs(scale=1/lam_dt)\n",
    "            st = expon.rvs(scale=1/lam_st)\n",
    "            env.process(service(st))\n",
    "\n",
    "    def service(st):\n",
    "        rqt = server.request()\n",
    "        t0 = env.now\n",
    "        yield rqt\n",
    "        yield env.timeout(st)\n",
    "        server.release(rqt)\n",
    "        X.append(env.now - t0)\n",
    "\n",
    "    X = []\n",
    "    env = simpy.Environment()\n",
    "    server = simpy.Resource(env=env, capacity=1)\n",
    "    env.process(arrivals)\n",
    "    return np.mean(X)"
   ]
  }
 ],
 "metadata": {
  "language_info": {
   "name": "python"
  }
 },
 "nbformat": 4,
 "nbformat_minor": 2
}
