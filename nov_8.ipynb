{
 "cells": [
  {
   "cell_type": "code",
   "execution_count": 1,
   "metadata": {},
   "outputs": [],
   "source": [
    "import numpy as np\n",
    "import simpy\n",
    "from scipy.stats import expon, gamma, uniform"
   ]
  },
  {
   "cell_type": "code",
   "execution_count": 2,
   "metadata": {},
   "outputs": [],
   "source": [
    "def simulate(lam_dt, lam_st, lam_eat, T):\n",
    "\n",
    "    def arrivals():\n",
    "        while True:\n",
    "            dt = expon.rvs(scale=1/lam_dt)\n",
    "            if env.now + dt < T:\n",
    "                yield env.timeout(dt)\n",
    "                env.process(service())\n",
    "            else:\n",
    "                break\n",
    "    \n",
    "    def service():\n",
    "        rqt_rest = restaurant.request()\n",
    "        yield rqt_rest\n",
    "        t0 = env.now\n",
    "        kitchen_process = env.process(kitchen_pr())\n",
    "        bar_process = env.process(bar_pr())\n",
    "        yield simpy.AllOf(env, [kitchen_process, bar_process])\n",
    "        dt_eat = expon.rvs(scale=1/lam_eat)\n",
    "        yield env.timeout(dt_eat)\n",
    "        restaurant.release(rqt_rest)\n",
    "        rev = gamma.rvs(5, scale=1/30) # spend money with gamma distribution\n",
    "        X.append(rev)\n",
    "\n",
    "    def kitchen_pr():\n",
    "        rqt = kitchen.request()\n",
    "        yield rqt\n",
    "        yield env.timeout(expon.rvs(scale=1/lam_st))\n",
    "        kitchen.release(rqt)\n",
    "\n",
    "    def bar_pr():\n",
    "        rqt = bar.request()\n",
    "        yield rqt\n",
    "        yield env.timeout(expon.rvs(scale=1/lam_st))\n",
    "        bar.release(rqt)\n",
    "    \n",
    "\n",
    "\n",
    "    X = []\n",
    "    env = simpy.Environment()\n",
    "    restaurant = simpy.Resource(capacity=10, env=env)\n",
    "    kitchen = simpy.Resource(capacity=1, env=env)\n",
    "    bar = simpy.Resource(capacity=1, env=env)\n",
    "    env.process(arrivals())\n",
    "    env.run()\n",
    "    return np.sum(X)\n"
   ]
  },
  {
   "cell_type": "code",
   "execution_count": 3,
   "metadata": {},
   "outputs": [
    {
     "data": {
      "text/plain": [
       "8.289158059531102"
      ]
     },
     "execution_count": 3,
     "metadata": {},
     "output_type": "execute_result"
    }
   ],
   "source": [
    "# 10 tables in restaurant\n",
    "# party places orders at bar and kitchen\n",
    "# when they get both orders the occupy the table for an exponential amount of time\n",
    "# they spend a gamma amount of money\n",
    "# compute the revenue of the restaurant for each simulation\n",
    "\n",
    "simulate(50, 10, 10, 1)\n"
   ]
  },
  {
   "cell_type": "code",
   "execution_count": 4,
   "metadata": {},
   "outputs": [],
   "source": [
    "def simulate(lam_dt, lam_st, T):\n",
    "\n",
    "    def arrivals():\n",
    "        while True:\n",
    "            dt = expon.rvs(scale=1/lam_dt)\n",
    "            if env.now + dt < T:\n",
    "                yield env.timeout(dt)\n",
    "                env.process(service())\n",
    "            else:\n",
    "                break\n",
    "    \n",
    "    def service():\n",
    "        t0 = env.now\n",
    "        if uniform.rvs() < 0.2: # 20% request are high priority\n",
    "            priority = 0 # high priority\n",
    "        else:\n",
    "            priority = 1 # regular\n",
    "        rqt = server.request(priority=priority) # cut the line but not kick off anyone at service\n",
    "        yield rqt\n",
    "        st = expon.rvs(scale=1/lam_st)\n",
    "        yield env.timeout(st)\n",
    "        server.release(rqt)\n",
    "        X.append(env.now - t0)\n",
    "\n",
    "    X = []\n",
    "    env = simpy.Environment()\n",
    "    server = simpy.PriorityResource(capacity=1, env=env) # priority resource\n",
    "    env.process(arrivals())\n",
    "    env.run()\n",
    "    return np.max(X)\n",
    "\n",
    "\n",
    "\n"
   ]
  },
  {
   "cell_type": "code",
   "execution_count": 5,
   "metadata": {},
   "outputs": [],
   "source": [
    "def simulate(lam_dt, lam_st, T):\n",
    "\n",
    "    def arrivals():\n",
    "        while True:\n",
    "            dt = expon.rvs(scale=1/lam_dt)\n",
    "            if env.now + dt < T:\n",
    "                yield env.timeout(dt)\n",
    "                env.process(service())\n",
    "            else:\n",
    "                break\n",
    "    \n",
    "    def service():\n",
    "        t0 = env.now\n",
    "        if uniform.rvs() < 0.2:\n",
    "            priority = 0\n",
    "            preempt = True\n",
    "        else:\n",
    "            priority = 1\n",
    "            preempt = False\n",
    "        rqt = server.request(priority=priority, preempt=preempt)\n",
    "        yield rqt\n",
    "        st = expon.rvs(scale=1/lam_st)\n",
    "        yield env.timeout(st)\n",
    "        server.release(rqt)\n",
    "        X.append(env.now - t0)\n",
    "\n",
    "    X = []\n",
    "    env = simpy.Environment()\n",
    "    server = simpy.PreemptiveResource(capacity=1, env=env) # preemptive resource: does kick off people in the resource\n",
    "    env.process(arrivals())\n",
    "    env.run()\n",
    "    return np.max(X)\n",
    "\n",
    "\n",
    "\n"
   ]
  },
  {
   "cell_type": "code",
   "execution_count": 6,
   "metadata": {},
   "outputs": [],
   "source": [
    "## in service: priority 1, preempt=False\n",
    "## new request: priority 0, preempt=True\n",
    "## -> kick off\n",
    "\n",
    "\n",
    "\n",
    "## in service: priority 1, preempt=False\n",
    "## in line: priority 0, preempt=False\n",
    "## new request: priority 0, preempt=True # blocked\n",
    "## -> don't cut in line, so also don't kick off \n",
    "\n",
    "\n",
    "\n",
    "\n",
    "\n",
    "\n",
    "\n",
    "\n",
    "\n",
    "\n",
    "\n",
    "\n"
   ]
  },
  {
   "cell_type": "code",
   "execution_count": null,
   "metadata": {},
   "outputs": [],
   "source": []
  },
  {
   "cell_type": "code",
   "execution_count": null,
   "metadata": {},
   "outputs": [],
   "source": []
  },
  {
   "cell_type": "code",
   "execution_count": null,
   "metadata": {},
   "outputs": [],
   "source": []
  }
 ],
 "metadata": {
  "kernelspec": {
   "display_name": "base",
   "language": "python",
   "name": "python3"
  },
  "language_info": {
   "codemirror_mode": {
    "name": "ipython",
    "version": 3
   },
   "file_extension": ".py",
   "mimetype": "text/x-python",
   "name": "python",
   "nbconvert_exporter": "python",
   "pygments_lexer": "ipython3",
   "version": "3.10.9"
  }
 },
 "nbformat": 4,
 "nbformat_minor": 2
}
