{
 "cells": [
  {
   "cell_type": "code",
   "execution_count": 71,
   "metadata": {},
   "outputs": [],
   "source": [
    "import numpy as np\n",
    "from scipy.stats import poisson, uniform, expon\n",
    "import math\n",
    "\n",
    "## record your uni here\n",
    "\n",
    "uni = ''"
   ]
  },
  {
   "cell_type": "markdown",
   "metadata": {},
   "source": [
    "## Problem 1 (25 points)\n",
    "\n",
    "Let $$\\theta = \\int_0^1 \\int_0^y \\exp(-x^2) x^4 dx dy$$\n",
    "\n",
    "\n",
    "Use the monte carlo method to estimate $\\theta$."
   ]
  },
  {
   "cell_type": "code",
   "execution_count": 8,
   "metadata": {},
   "outputs": [
    {
     "name": "stdout",
     "output_type": "stream",
     "text": [
      "0.020152448865945565\n"
     ]
    }
   ],
   "source": [
    "np.random.seed(42)\n",
    "n = 10_000\n",
    "\n",
    "U = uniform.rvs(size=(n,2))\n",
    "\n",
    "f = np.exp(-U[:,0]**2) * (U[:,0] ** 4)\n",
    "loc = U[:,0] > U[:,1]\n",
    "f[loc] = 0\n",
    "\n",
    "theta = np.mean(f)\n",
    "print(theta)"
   ]
  },
  {
   "cell_type": "code",
   "execution_count": 19,
   "metadata": {},
   "outputs": [
    {
     "name": "stdout",
     "output_type": "stream",
     "text": [
      "Estimated theta using Monte Carlo method: 0.09890704428403443\n"
     ]
    }
   ],
   "source": [
    "import random\n",
    "\n",
    "def monte_carlo_estimation(num_samples):\n",
    "    total = 0\n",
    "    for _ in range(num_samples):\n",
    "        x = random.uniform(0, 1)\n",
    "        y = random.uniform(0, x)  # y ranges from 0 to x\n",
    "        total += (math.exp(-x**2) * x**4)\n",
    "    return total / num_samples\n",
    "\n",
    "num_samples = 10000  # You can adjust the number of samples for accuracy\n",
    "estimated_theta = monte_carlo_estimation(num_samples)\n",
    "print(\"Estimated theta using Monte Carlo method:\", estimated_theta)\n"
   ]
  },
  {
   "cell_type": "markdown",
   "metadata": {},
   "source": [
    "## Problem 2\n",
    "## Problem Statement\n",
    "\n",
    "Suppose the number of accidents on a highway on a given day follows a Poisson with distribution with parameter $\\lambda$, depending on weather conditions.\n",
    "\n",
    "- 85\\% of days have good conditions\n",
    "- 10\\% of days have rain\n",
    "- 5\\% of days have snow\n",
    "\n",
    "\n",
    "If a day has good conditions, the number of accidents is expected to be 0.8. If a day has rain, the number of accident is expected to be 2, and if it is snowing, we expect to have 4 accidents.\n",
    "\n"
   ]
  },
  {
   "cell_type": "markdown",
   "metadata": {},
   "source": [
    "## Part I (25 points)\n",
    "\n",
    "Write a function accidents(n) that generates a sample of size from the distribution of daily accidents.\n",
    "\n",
    "Using $10,000$ simulations, calculate the probability that we have (strictly) greater than $4$ accidents in a day, and a $95\\%$ confidence for this probability.\n",
    "\n",
    "For the confidence interval, feel free to use the normal critical value $z_{.025}$ instead of $t_{.025, 9,999}$"
   ]
  },
  {
   "cell_type": "code",
   "execution_count": 55,
   "metadata": {},
   "outputs": [],
   "source": [
    "np.random.seed(42)\n",
    "n = 10000\n",
    "def accidents(n):\n",
    "    U = uniform.rvs(size=n)\n",
    "    X = np.zeros(n)\n",
    "    for i in range(n):\n",
    "        if U[i] <= 0.85:\n",
    "            lam = 0.8\n",
    "        elif U[i] <= 0.95:\n",
    "            lam = 2\n",
    "        else:\n",
    "            lam = 4\n",
    "        X[i] = poisson.rvs(lam)\n",
    "    return X"
   ]
  },
  {
   "cell_type": "code",
   "execution_count": 50,
   "metadata": {},
   "outputs": [
    {
     "data": {
      "text/plain": [
       "array([1., 2., 0., ..., 1., 1., 0.])"
      ]
     },
     "execution_count": 50,
     "metadata": {},
     "output_type": "execute_result"
    }
   ],
   "source": [
    "X = accidents(n)\n",
    "X"
   ]
  },
  {
   "cell_type": "code",
   "execution_count": 54,
   "metadata": {},
   "outputs": [
    {
     "name": "stdout",
     "output_type": "stream",
     "text": [
      "0.0242 0.021188074944889897 0.027211925055110102\n"
     ]
    }
   ],
   "source": [
    "Y = X > 4\n",
    "mean = np.mean(Y)\n",
    "sd = np.std(Y)\n",
    "ci_low = mean - 1.96 * sd / np.sqrt(n)\n",
    "ci_up = mean + 1.96 * sd / np.sqrt(n)\n",
    "\n",
    "print(mean, ci_low, ci_up)"
   ]
  },
  {
   "cell_type": "markdown",
   "metadata": {},
   "source": [
    "## Part II (10 points)\n",
    "\n",
    "If there are 3 accidents in a day, what is the probability it was snowing?\n",
    "\n",
    "Hint: modify the function accidents to also return the type of day it was."
   ]
  },
  {
   "cell_type": "code",
   "execution_count": 67,
   "metadata": {},
   "outputs": [
    {
     "name": "stdout",
     "output_type": "stream",
     "text": [
      "0.1348122866894198\n"
     ]
    }
   ],
   "source": [
    "np.random.seed(42)\n",
    "\n",
    "def accidents(n):\n",
    "    U = uniform.rvs(size=n)\n",
    "    X = np.zeros(n)\n",
    "    lam = np.zeros(n)\n",
    "    for i in range(n):\n",
    "        if U[i] <= 0.85:\n",
    "            lam[i] = 0.8\n",
    "        elif U[i] <= 0.95:\n",
    "            lam[i] = 2\n",
    "        else:\n",
    "            lam[i]= 4\n",
    "        X[i] = poisson.rvs(lam[i])\n",
    "    return X, lam\n",
    "\n",
    "X, lam = accidents(n)\n",
    "loc = X == 3\n",
    "p_3 = np.mean(lam[loc] == 4)\n",
    "print(p_3)"
   ]
  },
  {
   "cell_type": "markdown",
   "metadata": {},
   "source": [
    "## Problem 3 (25 points)\n",
    "\n",
    "Suppose we want to sample from the distribution with the cdf:\n",
    "\n",
    "$$F(x) = 1 - \\exp(-\\sqrt{x})$$\n",
    "\n",
    "Write a function inverse_transform() that samples from this distribution, and calculate the expected value of this distribution using $10,000$ samples."
   ]
  },
  {
   "cell_type": "code",
   "execution_count": 77,
   "metadata": {},
   "outputs": [],
   "source": [
    "np.random.seed(42)\n",
    "n = 10_000\n",
    "\n",
    "def inverse_transform(n):\n",
    "    U = uniform.rvs(size=n)\n",
    "    return np.log(1-U)**2"
   ]
  },
  {
   "cell_type": "code",
   "execution_count": 78,
   "metadata": {},
   "outputs": [
    {
     "data": {
      "text/plain": [
       "1.904873792779115"
      ]
     },
     "execution_count": 78,
     "metadata": {},
     "output_type": "execute_result"
    }
   ],
   "source": [
    "np.mean(inverse_transform(n))"
   ]
  },
  {
   "cell_type": "code",
   "execution_count": 79,
   "metadata": {},
   "outputs": [
    {
     "name": "stdout",
     "output_type": "stream",
     "text": [
      "1.904873792779115\n"
     ]
    }
   ],
   "source": [
    "np.random.seed(42)\n",
    "n = 10_000\n",
    "\n",
    "## 1 - \\exp(-sqrt(x)) = u\n",
    "## -sqrt(x) = log(1 - u)\n",
    "## sqrt(x) = -log(1-u)\n",
    "## x = log(1-u)**2\n",
    "\n",
    "\n",
    "def inverse_transform():\n",
    "    U = uniform.rvs()\n",
    "    return np.log(1-U)**2\n",
    "\n",
    "X = [inverse_transform() for i in range(0, n)]\n",
    "print(np.mean(X))"
   ]
  },
  {
   "cell_type": "markdown",
   "metadata": {},
   "source": [
    "## Problem 4\n",
    "\n",
    "## Part I (10 points)\n",
    "\n",
    "Let $f(x) = 0.5\\sin(x) 1_{\\{0< x < \\pi\\}}$\n",
    "\n",
    "Implement the rejection sampling algorithm for this distribution."
   ]
  },
  {
   "cell_type": "code",
   "execution_count": 80,
   "metadata": {},
   "outputs": [],
   "source": [
    "# we use Unif(0,pi) as our proposal distribution\n",
    "# c = max f(x) / g(x) = max 0.5 * sin(x) / (1 / pi) = 0.5 * pi\n",
    "# f(x) / (c g(x)) = sin(x)\n",
    "\n",
    "def rej_sampling():\n",
    "    U1 = np.pi * uniform.rvs()\n",
    "    while True:\n",
    "        U2 = uniform.rvs()\n",
    "        if U2 < np.sin(U1):\n",
    "            return U1\n",
    "        U1 = np.pi * uniform.rvs()"
   ]
  },
  {
   "cell_type": "markdown",
   "metadata": {},
   "source": [
    "## Part II (10 points)\n",
    "\n",
    "Using $n=10,000$ simulations, calculate a 95% confidence interval for $E[X^3]$ where $X$ has the density listed above."
   ]
  },
  {
   "cell_type": "code",
   "execution_count": 81,
   "metadata": {},
   "outputs": [
    {
     "name": "stdout",
     "output_type": "stream",
     "text": [
      "5.939030211433355 6.183289625575499\n"
     ]
    }
   ],
   "source": [
    "n = 10_000\n",
    "X3 = [rej_sampling()**3 for i in range(n)]\n",
    "EX3 = np.mean(X3)\n",
    "sig = np.std(X3)\n",
    "\n",
    "lower = EX3 - 1.96 * sig / np.sqrt(n)\n",
    "upper = EX3 + 1.96 * sig / np.sqrt(n)\n",
    "print(lower, upper)"
   ]
  }
 ],
 "metadata": {
  "kernelspec": {
   "display_name": "base",
   "language": "python",
   "name": "python3"
  },
  "language_info": {
   "codemirror_mode": {
    "name": "ipython",
    "version": 3
   },
   "file_extension": ".py",
   "mimetype": "text/x-python",
   "name": "python",
   "nbconvert_exporter": "python",
   "pygments_lexer": "ipython3",
   "version": "3.10.9"
  }
 },
 "nbformat": 4,
 "nbformat_minor": 2
}
