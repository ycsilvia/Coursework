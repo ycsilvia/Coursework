{
 "cells": [
  {
   "cell_type": "code",
   "execution_count": 9,
   "metadata": {},
   "outputs": [
    {
     "data": {
      "text/plain": [
       "myToDouble: (s: String)Option[Double]\n",
       "mean: (a: Array[Double])Option[Double]\n",
       "res7: Array[Double] = Array(NaN)\n"
      ]
     },
     "execution_count": 9,
     "metadata": {},
     "output_type": "execute_result"
    },
    {
     "name": "stdout",
     "output_type": "stream",
     "text": [
      "22/10/06 06:50:42 WARN HeartbeatReceiver: Removing executor driver with no recent heartbeats: 910698 ms exceeds timeout 120000 ms\n",
      "22/10/06 06:50:42 WARN SparkContext: Killing executors is not supported by current scheduler.\n"
     ]
    }
   ],
   "source": [
    "    def myToDouble(s: String): Option[Double] = \n",
    "    try {\n",
    "        Some(s.toDouble)\n",
    "    } catch {\n",
    "      case e: Exception => None\n",
    "    }\n",
    "   def mean(a: Array[Double]): Option[Double] = Some(a.sum/a.length) \n",
    "Array(\"\").map(l=>l.split(\",\")).map(l=>l.map(myToDouble)).transpose.map(l => l.flatMap(e => e)).map(mean).flatMap(e => e)"
   ]
  },
  {
   "cell_type": "code",
   "execution_count": 3,
   "metadata": {},
   "outputs": [
    {
     "data": {
      "text/plain": [
       "cleanData: (a: Array[String])(Array[Double], Array[Double])\n",
       "test_dataset1: Array[String] = Array(1.2,3.1,2.4, \" ,1.4,2.1\", 8.1,2.6,bc, 7.1,3.2,9.4)\n",
       "test_dataset2: Array[String] = Array(\"\")\n",
       "test_dataset3: Array[String] = Array(\" ,1.2,9.5\", ,3.1,3.2)\n",
       "r1: (Array[Double], Array[Double]) = (Array(5.466666666666666, 2.575, 4.633333333333334),Array(9.268888888888888, 0.5118750000000001, 11.375555555555556))\n",
       "r2: (Array[Double], Array[Double]) = (Array(NaN),Array(NaN))\n",
       "r3: (Array[Double], Array[Double]) = (Array(NaN, 2.15, 6.35),Array(NaN, 0.9025000000000001, 9.9225))\n"
      ]
     },
     "execution_count": 3,
     "metadata": {},
     "output_type": "execute_result"
    }
   ],
   "source": [
    "//PROBLEM 1: YOUR SOLUTION\n",
    "//Add arguments and the return type to the function signature\n",
    "def cleanData(a: Array[String]): (Array[Double], Array[Double]) = {\n",
    "    //Three helper functions\n",
    "    //myToDouble: converts a string item to a Double or a Some\n",
    "    //mean: calculates the mean\n",
    "    //variance: calculates the variance \n",
    "    \n",
    "    def myToDouble(s: String): Option[Double] = \n",
    "    try {\n",
    "        Some(s.toDouble)\n",
    "    } catch {\n",
    "      case e: Exception => None\n",
    "    }\n",
    "    \n",
    "    def mean(a: Array[Double]): Option[Double] = Some(a.sum/a.length)\n",
    "\n",
    "    def variance(a: Array[Double]): Option[Double] =\n",
    "        mean(a) flatMap(m => mean(a map(x => math pow(x-m,2))))\n",
    "\n",
    "    //Actual calculations\n",
    "    \n",
    "    val p = a.map(l=>l.split(\",\")).map(l=>l.map(myToDouble)).transpose\n",
    "        .map(l => l.flatMap(e => e))\n",
    "    (p.map(mean).flatMap(e => e),p.map(variance).flatMap(e => e))\n",
    "    \n",
    "}\n",
    "\n",
    "\n",
    "//Test cases\n",
    "var test_dataset1 = Array(\"1.2,3.1,2.4\",\" ,1.4,2.1\",\"8.1,2.6,bc\",\"7.1,3.2,9.4\")\n",
    "var test_dataset2 = Array(\"\")\n",
    "var test_dataset3 = Array(\" ,1.2,9.5\",\",3.1,3.2\")\n",
    "val r1 = cleanData(test_dataset1)\n",
    "val r2 = cleanData(test_dataset2)\n",
    "val r3 = cleanData(test_dataset3)\n",
    "\n",
    "//Return values:\n",
    "\n",
    "//r1: (Array[Double], Array[Double]) = (Array(5.466666666666666, 2.575, 4.633333333333334),Array(9.268888888888888, 0.5118750000000001, 11.375555555555556))\n",
    "//r2: (Array[Double], Array[Double]) = (Array(NaN),Array(NaN))\n",
    "//r3: (Array[Double], Array[Double]) = (Array(NaN, 2.15, 6.35),Array(NaN, 0.9025000000000001, 9.9225))"
   ]
  },
  {
   "cell_type": "code",
   "execution_count": 2,
   "metadata": {},
   "outputs": [
    {
     "data": {
      "text/plain": [
       "cleanData: (a: Array[String])(Array[Double], Array[Double])\n",
       "test_dataset1: Array[String] = Array(1.2,3.1,2.4, \" ,1.4,2.1\", 8.1,2.6,bc, 7.1,3.2,9.4)\n",
       "test_dataset2: Array[String] = Array(\"\")\n",
       "test_dataset3: Array[String] = Array(\" ,1.2,9.5\", ,3.1,3.2)\n",
       "r1: (Array[Double], Array[Double]) = (Array(5.466666666666666, 2.575, 4.633333333333334),Array(9.268888888888888, 0.5118750000000001, 11.375555555555556))\n",
       "r2: (Array[Double], Array[Double]) = (Array(NaN),Array(NaN))\n",
       "r3: (Array[Double], Array[Double]) = (Array(NaN, 2.15, 6.35),Array(NaN, 0.9025000000000001, 9.9225))\n"
      ]
     },
     "execution_count": 2,
     "metadata": {},
     "output_type": "execute_result"
    }
   ],
   "source": [
    "//Alternative soultion using zipWithIndex (zipWithIndex returns (value, index) pairs)\n",
    "\n",
    "def cleanData(a: Array[String]): (Array[Double], Array[Double]) = {\n",
    "    //Three helper functions\n",
    "    //myToDouble: converts a string item to a Double or a Some\n",
    "    //mean: calculates the mean\n",
    "    //variance: calculates the variance \n",
    "    \n",
    "    def myToDouble(s: String): Option[Double] = \n",
    "    try {\n",
    "        Some(s.toDouble)\n",
    "    } catch {\n",
    "      case e: Exception => None\n",
    "    }\n",
    "    \n",
    "    def mean(a: Array[Double]): Option[Double] = Some(a.sum/a.length)\n",
    "\n",
    "    //The variance function in this case takes the mean as an additional argument\n",
    "    def variance(a: Array[Double],m: Double): Option[Double] =\n",
    "        mean(a map(x => math pow(x-m,2)))\n",
    "    \n",
    "    //Actual calculations\n",
    "    \n",
    "    val p = a.map(l=>l.split(\",\")).map(l=>l.map(myToDouble)).transpose\n",
    "        .map(l => l.flatMap(e => e))\n",
    "    val means = p.map(mean).flatMap(e => e)\n",
    "    val variances = p.zipWithIndex.map({ case (l,i)=>variance(l,means(i))}).flatMap(e=>e)\n",
    "    (means,variances)\n",
    "    \n",
    "}\n",
    "\n",
    "\n",
    "//Test cases\n",
    "var test_dataset1 = Array(\"1.2,3.1,2.4\",\" ,1.4,2.1\",\"8.1,2.6,bc\",\"7.1,3.2,9.4\")\n",
    "var test_dataset2 = Array(\"\")\n",
    "var test_dataset3 = Array(\" ,1.2,9.5\",\",3.1,3.2\")\n",
    "val r1 = cleanData(test_dataset1)\n",
    "val r2 = cleanData(test_dataset2)\n",
    "val r3 = cleanData(test_dataset3)\n",
    "\n"
   ]
  },
  {
   "cell_type": "code",
   "execution_count": 3,
   "metadata": {},
   "outputs": [
    {
     "name": "stdout",
     "output_type": "stream",
     "text": [
      "true\n",
      "false\n",
      "true\n",
      "false\n",
      "false\n"
     ]
    },
    {
     "data": {
      "text/plain": [
       "isInList: [A](l: List[A], v: A)Boolean\n",
       "x1: List[Int] = List(2, 5, 7, 9, 11)\n",
       "x2: List[String] = List(hello, goodbye, merci)\n"
      ]
     },
     "execution_count": 3,
     "metadata": {},
     "output_type": "execute_result"
    }
   ],
   "source": [
    "//PROBLEM 2: YOUR SOLUTION\n",
    "\n",
    "def isInList[A](l: List[A],v: A): Boolean = l.foldLeft(false)((yes,value)=>if (value == v) true else yes)\n",
    "\n",
    "\n",
    "//Test cases\n",
    "val x1 = List(2,5,7,9,11)\n",
    "val x2 = List(\"hello\",\"goodbye\",\"merci\")\n",
    "\n",
    "println(isInList(x1,7)) //true\n",
    "println(isInList(x1,12))  //false\n",
    "println(isInList(x2,\"hello\")) //true\n",
    "println(isInList(x2,\"namaste\")) //false\n",
    "println(isInList(List(),5)) //false\n",
    "\n"
   ]
  },
  {
   "cell_type": "code",
   "execution_count": 6,
   "metadata": {},
   "outputs": [
    {
     "name": "stdout",
     "output_type": "stream",
     "text": [
      "2.5\n",
      "6.8\n",
      "4.3\n"
     ]
    },
    {
     "data": {
      "text/plain": [
       "average: (list: Seq[Double])Double\n",
       "x1: Array[Double] = Array(1.0, 2.0, 3.0, 4.0)\n",
       "x2: List[Int] = List(2, 5, 7, 9, 11)\n",
       "x3: List[Double] = List(4.3)\n"
      ]
     },
     "execution_count": 6,
     "metadata": {},
     "output_type": "execute_result"
    },
    {
     "name": "stdout",
     "output_type": "stream",
     "text": [
      "22/09/01 17:49:41 WARN HeartbeatReceiver: Removing executor driver with no recent heartbeats: 1025901 ms exceeds timeout 120000 ms\n",
      "22/09/01 17:49:41 WARN SparkContext: Killing executors is not supported by current scheduler.\n"
     ]
    }
   ],
   "source": [
    "//PROBLEM 3: YOUR SOLUTION\n",
    "\n",
    "def average(list: Seq[Double]): Double = \n",
    "    list.foldLeft(0.0,0.0)((avg,v) => ((avg._1*avg._2+v)/(avg._2+1),avg._2+1))._1\n",
    "\n",
    "\n",
    "//Test cases\n",
    "val x1 = Array(1.0,2.0,3.0,4.0)\n",
    "val x2 = List(2,5,7,9,11)\n",
    "val x3 = List(4.3)\n",
    "println(average(x1)) //2.5\n",
    "println(average(x2.map(i=>i.toDouble))) //6.8\n",
    "println(average(x3)) //4.3"
   ]
  },
  {
   "cell_type": "code",
   "execution_count": 5,
   "metadata": {},
   "outputs": [
    {
     "data": {
      "text/plain": [
       "complement: [A, B](p: (A, B) => Boolean)(A, B) => Boolean\n",
       "isSquare: (a: Int, b: Int)Boolean\n",
       "isShorter: (a: Array[Int], b: Array[Int])Boolean\n",
       "r1: Boolean = false\n",
       "r2: Boolean = true\n",
       "r3: Boolean = false\n",
       "r4: Boolean = true\n"
      ]
     },
     "execution_count": 5,
     "metadata": {},
     "output_type": "execute_result"
    }
   ],
   "source": [
    "//PROBLEM 4: YOUR SOLUTION\n",
    "\n",
    "def complement[A,B](p: (A,B)=>Boolean) = (a: A, b: B) => !p(a,b)\n",
    "\n",
    "def isSquare(a: Int,b: Int): Boolean = b==(a*a)\n",
    "def isShorter(a: Array[Int],b: Array[Int]): Boolean = b.length>a.length\n",
    "\n",
    "\n",
    "\n",
    "\n",
    "\n",
    "//Test cases\n",
    "val r1 = complement(isSquare)(4,16) //false\n",
    "val r2 = complement(isSquare)(4,15) //true\n",
    "val r3 = complement(isShorter)(Array(1,2,3,4),Array(5,6,7,8,9)) //false\n",
    "val r4 = complement(isShorter)(Array(1,2,3,4),Array(5,6,7)) //true\n",
    "\n"
   ]
  },
  {
   "cell_type": "markdown",
   "metadata": {},
   "source": [
    "<h1>PROBLEM 1</h1>\n",
    "\n",
    "<h2>Requirements</h2>\n",
    "<li>The function signature for cleanData. The signature must correctly include both the arguments as well as the return type</li>\n",
    "<li>The test cases must run correctly</li>\n",
    "<li>Use map, flatMap, Option, and transpose for this assignment</li>\n",
    "\n",
    "\n",
    "<h2>Description</h2>\n",
    "\n",
    "You are given a dataset in a scala Array with the following properties:\n",
    "\n",
    "* Each element in the array corresponds to one row of the dataset\n",
    "* Each element is in the form of a comma separated string with each value represented the value in the corresponding column of the dataset \n",
    "* The number of columns and the number of rows in the dataset are unknown \n",
    "* Write a function <span style=\"color:green\">cleanData</span> that returns a tuple of two elements. The first element is an Array containing the means of each column and the second an array containing the variance (population variance) of each column\n",
    "\n",
    "Your code should take into account the possibility that not every data item is convertible into a Double and should remove each nonconvertible value from the calculations. If a row has zero valid elements, then the data in that row will be ignored. If a column has zero valid elements, then the mean and variance for that column should be NaN\n",
    "\n",
    "You can assume that the array will contain an entry for each column in every row (i.e., that the rows have the right number of columns). If a value is missing, it will either be represented by a nan or by a whitespace.\n",
    "\n",
    "\n",
    "NOTES:\n",
    "<ol>\n",
    "<li> Use Option to deal with missing values (see the in-class example)\n",
    "<li> \n",
    "<p><p>\n",
    "\n",
    "test_data1 is represented by the table below\n",
    "<p>\n",
    "<table align=\"left\">\n",
    "    <tr><td>1.2 </td><td> 3.1 </td> <td>2.4</td></tr>\n",
    "    <tr><td></td><td> 1.4 </td><td> 2.1 </td></tr>\n",
    "    <tr><td>8.1 </td><td> 2.6 </td><td> bc </td></tr>\n",
    "    <tr><td>7.1 </td><td> 3.2 </td><td> 9.4</td></tr>\n",
    " </table>\n",
    "    \n",
    "<p>\n",
    "<BR CLEAR=left><div>\n",
    "    \n",
    "<li>the formula for population variance is \n",
    "    $ \\sum \\frac{(x - \\mu)^{2}}{n}$\n",
    "\n"
   ]
  },
  {
   "cell_type": "markdown",
   "metadata": {},
   "source": [
    "<h1>Problem 2</h1>\n",
    "Write a function <span style=\"color:blue\">isInList</span> that takes two arguments, a list of elements and a value and returns true if value is a member of the list.\n",
    "\n",
    "Testcases:\n",
    "\n",
    "println(isInList(x1,7)) //true<br>\n",
    "println(isInList(x1,12))  //false<br>\n",
    "println(isInList(x2,\"hello\")) //true<br>\n",
    "println(isInList(x2,\"namaste\")) //false<br>\n",
    "println(isInList(List(),5)) //false<br>"
   ]
  },
  {
   "cell_type": "markdown",
   "metadata": {},
   "source": [
    "<h1>Problem 3</h1>\n",
    "Using fold, write a function <span style=\"color:blue\">average</span> that takes an Array of Double and returns the average of the elements of the list. Assume that the list is not empty  and <b>you must use only one statement, a single foldLeft</b>, in the function\n",
    "\n"
   ]
  },
  {
   "cell_type": "markdown",
   "metadata": {},
   "source": [
    "<h1>Problem 4</h1>\n",
    "Write a function <span style=\"color:blue\">complement</span> that takes a predicate function <b>p</b> of two arguments of any type (a predicate function is a function that returns true or false) and returns a function that takes the same two arguments but returns the complement of p. For example,\n",
    "\n",
    "if <b>p(2,\"Valid\")</b> returns true then <b>complement(p)(2,\"Valid\")</b> should return false\n",
    "\n",
    "if <b>p(2,\"Valid\")</b> returns false then <b>complement(p)(2,\"Valid\")</b> should return true\n",
    "\n",
    "To test your complement function by writing the following predicate functions:\n",
    "<ol>\n",
    "    <li><span style=\"color:blue\">isSquare</span> takes two Int arguments and returns true if the second argument is the square of the first. </li>\n",
    "    <li><span style=\"color:blue\">isShorter</span> takes two arguments, both Array[Int] and returns true if the first array is strictly shorter in length than the second array</li>\n"
   ]
  },
  {
   "cell_type": "code",
   "execution_count": null,
   "metadata": {},
   "outputs": [],
   "source": []
  }
 ],
 "metadata": {
  "kernelspec": {
   "display_name": "spylon-kernel",
   "language": "scala",
   "name": "spylon-kernel"
  },
  "language_info": {
   "codemirror_mode": "text/x-scala",
   "file_extension": ".scala",
   "help_links": [
    {
     "text": "MetaKernel Magics",
     "url": "https://metakernel.readthedocs.io/en/latest/source/README.html"
    }
   ],
   "mimetype": "text/x-scala",
   "name": "scala",
   "pygments_lexer": "scala",
   "version": "0.4.1"
  },
  "toc": {
   "base_numbering": 1,
   "nav_menu": {},
   "number_sections": true,
   "sideBar": true,
   "skip_h1_title": false,
   "title_cell": "Table of Contents",
   "title_sidebar": "Contents",
   "toc_cell": false,
   "toc_position": {},
   "toc_section_display": true,
   "toc_window_display": false
  }
 },
 "nbformat": 4,
 "nbformat_minor": 2
}
