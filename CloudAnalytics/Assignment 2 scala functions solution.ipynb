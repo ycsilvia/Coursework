{
 "cells": [
  {
   "cell_type": "markdown",
   "metadata": {},
   "source": [
    "<h1>Problem 1</h1>"
   ]
  },
  {
   "cell_type": "markdown",
   "metadata": {},
   "source": [
    "<p>\n",
    "    Write a function, <b>isThreeSorted</b>, that behaves like the isSorted function we\n",
    "covered in class except that it works on three items of an array rather than two items.\n",
    "The function should take two arguments, an array and a predicate function on three\n",
    "values, and it should return true or false if the predicate function is satisfied for all\n",
    "triplets in the array. If the array has less than 3 elements, then isThreeSorted should\n",
    "return false.\n",
    "\n",
    "Test your function by writing three additional functions, each of which take an array as an argument, call three sorted with the appropriate predicate function, and return true or false if the condition is satisfied for the array.\n",
    "\n",
    "\n",
    "<p>\n",
    "<ol>\n",
    "    <li><b>alpha(x: Array[String])</b> tests alphabetical sort on Array[String] </li>\n",
    "    <ul><li>Array(\"John\",\"Mary\",\"Qing\") returns true</li>\n",
    "        <li>Array(\"James\", \"Jones\", \"Earl\") returns false</li>\n",
    "        <li></li>\n",
    "    </ul>\n",
    "    <li><b>len(x: Array[String])</b> tests length sort on Array[String]</li>\n",
    "    <ul><li>Array(\"John\", \"Basquiat\", \"Annapurna\") returns true</li>\n",
    "        <li>Array(\"John\", \"Basquiat\", \"Annapurna\", \"Yoda\") returns false</li>\n",
    "        <li></li>\n",
    "    </ul>\n",
    "    <li><b>fib_like_test(x: Array[Int])</b> tests whether Array[Int] satisfies the conditions a fibonacci like condition of 3 or more elements. I.e., every element is the sum of the previous two elements, except for the first two elements in the series. Note that this is not testing whether the array contains a segment of the fibonacci series (see the last example). </li>  \n",
    "    <ul>\n",
    "        <li>Array(1,1,2,3,5,8,13) returns true</li>\n",
    "        <li>Array(1,1) returns false</li>\n",
    "        <li>Array(1,1,2,3,5,9,13) returns false</li>\n",
    "        <li>Array(4,8,12,20,32) returns true</li>\n",
    "    </ul>\n",
    "</ol>\n",
    "\n",
    "\n"
   ]
  },
  {
   "cell_type": "code",
   "execution_count": 1,
   "metadata": {},
   "outputs": [
    {
     "data": {
      "text/plain": [
       "Intitializing Scala interpreter ..."
      ]
     },
     "metadata": {},
     "output_type": "display_data"
    },
    {
     "data": {
      "text/plain": [
       "Spark Web UI available at http://192.168.7.189:4040\n",
       "SparkContext available as 'sc' (version = 3.3.0, master = local[*], app id = local-1663468096420)\n",
       "SparkSession available as 'spark'\n"
      ]
     },
     "metadata": {},
     "output_type": "display_data"
    },
    {
     "data": {
      "text/plain": [
       "isThreeSorted: [A](array: Array[A], p: (A, A, A) => Boolean)Boolean\n"
      ]
     },
     "execution_count": 1,
     "metadata": {},
     "output_type": "execute_result"
    }
   ],
   "source": [
    "\n",
    "def isThreeSorted[A](array: Array[A],p:(A,A,A) => Boolean):Boolean = {\n",
    "  @annotation.tailrec\n",
    "  def loop(n: Int): Boolean = \n",
    "    if (n >= array.length) true\n",
    "    else if (!(p(array(n-2),array(n-1),array(n)))) false\n",
    "    else loop(n+1)\n",
    "  if (array.length<3) false\n",
    "  else loop(2)\n",
    "}\n"
   ]
  },
  {
   "cell_type": "markdown",
   "metadata": {},
   "source": [
    "<h1>Alphabetical tests</h1>"
   ]
  },
  {
   "cell_type": "code",
   "execution_count": null,
   "metadata": {},
   "outputs": [],
   "source": [
    "def alpha3sorted(x: Array[String]) = isThreeSorted(x,((x: String,y: String,z: String)=>\n",
    "                                               if ((x<=y) && (y<=z)) true else false))\n",
    "\n",
    "val t1 = alpha3sorted(Array(\"John\",\"Mary\",\"Qing\"))\n",
    "val t2 = alpha3sorted(Array(\"James\", \"Jones\", \"Earl\"))\n",
    "val t3 = alpha3sorted(Array(\"1\",\"alpha\",\"!89\"))\n",
    "val t4 = alpha3sorted(Array(\"Jomes\",\"James\",\"James\"))\n",
    "val t5 = alpha3sorted(Array(\"aA12!\",\"aa12!\",\"aa12!!\"))"
   ]
  },
  {
   "cell_type": "markdown",
   "metadata": {},
   "source": [
    "<h1>Length tests</h1>\n"
   ]
  },
  {
   "cell_type": "code",
   "execution_count": 2,
   "metadata": {},
   "outputs": [
    {
     "data": {
      "text/plain": [
       "len3sorted: (x: Array[String])Boolean\n",
       "t3: Boolean = true\n",
       "t4: Boolean = false\n"
      ]
     },
     "execution_count": 2,
     "metadata": {},
     "output_type": "execute_result"
    },
    {
     "name": "stdout",
     "output_type": "stream",
     "text": [
      "22/09/17 22:56:48 WARN HeartbeatReceiver: Removing executor driver with no recent heartbeats: 530039 ms exceeds timeout 120000 ms\n",
      "22/09/17 22:56:48 WARN SparkContext: Killing executors is not supported by current scheduler.\n"
     ]
    }
   ],
   "source": [
    "def len3sorted(x: Array[String]) = isThreeSorted(x,((x: String,y: String,z: String)=>\n",
    "                                            if ((x.length <= y.length) &&\n",
    "                                               (y.length <= z.length)) true else false))\n",
    "val t3 = len3sorted(Array(\"John\", \"Basquiat\", \"Annapurna\"))\n",
    "val t4 = len3sorted(Array(\"John\", \"Basquiat\", \"Annapurna\", \"Yoda\"))"
   ]
  },
  {
   "cell_type": "markdown",
   "metadata": {},
   "source": [
    "<h1>Fibonacci like test</h1>"
   ]
  },
  {
   "cell_type": "code",
   "execution_count": null,
   "metadata": {},
   "outputs": [],
   "source": [
    "def fib_like_3sorted(x: Array[Int]) = isThreeSorted(x,(x: Int, y: Int, z: Int) =>\n",
    "                                           if (z == (x + y)) true else false)\n",
    "val t4 = fib_like_3sorted(Array(1,1,2,3,5,8,13))\n",
    "val t5 = fib_like_3sorted(Array(1,1))\n",
    "val t6 = fib_like_3sorted(Array(1,1,2,3,5,9,13))\n",
    "val t7 = fib_like_3sorted(Array(3,5,8))\n",
    "val t8 = fib_like_3sorted(Array(4,8,12,20,32))\n"
   ]
  },
  {
   "cell_type": "markdown",
   "metadata": {},
   "source": [
    "<h1>Problem 2</h1>\n",
    "Write a function <b>extract</b> that takes two arguments, a string and an integer, and returns a string containing every i-th character from the string.  Your function should be tail recursive\n",
    "\n",
    "Note a couple of things:\n",
    "<ul>\n",
    "    <li>The first character returned is the first character in the string (at index 0)</li>\n",
    "    <li>If the string is empty, an empty string is returned</li>\n",
    "    <li>If i is negative or zero, your function should return an empty string</li>\n",
    "</ul>\n",
    "        \n",
    "<span style=\"color:green;font-size:x-large\">Example walkthrough</span>\n",
    "<p>\n",
    "extract(\"7XY9BC8FF4DX\",3)<p>\n",
    "returns 7984 because\n",
    "<li> The first character is 7\n",
    "<li> The second character is at 0 + 3 and the value at 3 is 9\n",
    "<li> The third character is at 3 (index of second character) + 3 and the value at 6 is 8\n",
    "<li> The fourth character is at 6 (index of third character) + 3 and the value at 9 is 4\n",
    "<li> 9 + 3 = 12 is beyond the end of the string so the function ends there\n"
   ]
  },
  {
   "cell_type": "code",
   "execution_count": null,
   "metadata": {},
   "outputs": [],
   "source": [
    "def extract(x: String,i: Int): String = {\n",
    "    def loop(n: Int,r: String): String =\n",
    "        if (n >= x.length+1) r\n",
    "        else loop(n+i,r+x(n-1))\n",
    "    if (i <= 0) \"\"\n",
    "    else loop(1,\"\")\n",
    "}"
   ]
  },
  {
   "cell_type": "markdown",
   "metadata": {},
   "source": [
    "<h2>Tests</h2>"
   ]
  },
  {
   "cell_type": "code",
   "execution_count": null,
   "metadata": {},
   "outputs": [],
   "source": [
    "\n",
    "val e1 = extract(\"7XY9BC8FF4DX\",3) //Returns 7984\n",
    "val e2 = extract(\"\",0) //Returns \"\"\n",
    "val e3 = extract(\"Hello\",1) //Returns Hello\n",
    "val e4 = extract(\"7XY9BC8FF4DX\",-3)\n",
    "val e5 = extract(\"7XY9BC8FF4DX\",0)"
   ]
  },
  {
   "cell_type": "markdown",
   "metadata": {},
   "source": [
    "<h1>Problem 3</h1>\n",
    "Write a higher order version of extract (call it ho_extract) that takes a string and a function, f(Int) and returns every f(Int)-th character of the string. Note a couple of things:\n",
    "<ul>\n",
    "    <li>The first character returned is the first character in the string</li>\n",
    "    <li>If the string is empty, an empty string is returned</li>\n",
    "    <li>f(Int) must return an Int</li> \n",
    "    <li>f(Int) takes values 1, 2, 3, etc. Value 1 corresponds to the 0-th location in the string, value 2 to the 1-th location, etc. </li>\n",
    "    <li>Note that you'll get an endless recursion if the function doesn't return an Int >=1 so be careful!</li>\n",
    "</ul>\n",
    "\n",
    "Once you've tested out the function with the two tests below, add a third test in which the increment is $i*3/2$. For the string \"\"Joe Biden is the President\", your call should return \"JoBs\" (a coincidence, I swear!)"
   ]
  },
  {
   "cell_type": "code",
   "execution_count": 1,
   "metadata": {},
   "outputs": [
    {
     "data": {
      "text/plain": [
       "Intitializing Scala interpreter ..."
      ]
     },
     "metadata": {},
     "output_type": "display_data"
    },
    {
     "data": {
      "text/plain": [
       "Spark Web UI available at http://192.168.7.189:4041\n",
       "SparkContext available as 'sc' (version = 3.3.0, master = local[*], app id = local-1661975756635)\n",
       "SparkSession available as 'spark'\n"
      ]
     },
     "metadata": {},
     "output_type": "display_data"
    },
    {
     "data": {
      "text/plain": [
       "ho_extract: (x: String, f: Int => Int)String\n"
      ]
     },
     "execution_count": 1,
     "metadata": {},
     "output_type": "execute_result"
    }
   ],
   "source": [
    "def ho_extract(x: String,f: Int=>Int): String = {\n",
    "    def loop(n: Int,r: String): String = {\n",
    "        println(n,r)\n",
    "        if (n >= x.length+1) r\n",
    "        else loop(n+f(n),r+x(n-1))}\n",
    "    loop(1,\"\")\n",
    "}\n"
   ]
  },
  {
   "cell_type": "markdown",
   "metadata": {},
   "source": [
    "<h2>Tests</h2>"
   ]
  },
  {
   "cell_type": "code",
   "execution_count": 2,
   "metadata": {},
   "outputs": [
    {
     "name": "stdout",
     "output_type": "stream",
     "text": [
      "(1,)\n",
      "(1,)\n",
      "(3,7)\n",
      "(9,7Y)\n",
      "(27,7YF)\n"
     ]
    },
    {
     "data": {
      "text/plain": [
       "h1: String = \"\"\n",
       "h2: String = 7YF\n"
      ]
     },
     "execution_count": 2,
     "metadata": {},
     "output_type": "execute_result"
    },
    {
     "name": "stdout",
     "output_type": "stream",
     "text": [
      "22/08/31 16:39:55 WARN HeartbeatReceiver: Removing executor driver with no recent heartbeats: 1208156 ms exceeds timeout 120000 ms\n",
      "22/08/31 16:39:55 WARN SparkContext: Killing executors is not supported by current scheduler.\n"
     ]
    }
   ],
   "source": [
    "val h1 = ho_extract(\"\",(i: Int)=>(i*2).toInt) //Returns \"\"\n",
    "val h2 = ho_extract(\"7XY9BC8FF4DX\",(i: Int)=>(i*2)) //Returns \"7YF\"\n",
    "\n",
    "/* Why?\n",
    "7, the first character is returned\n",
    "the second character is at 2 (1+1*2 = 3 and we take the value at i-1) so Y is returned\n",
    "the next character is at 3 + 3*2 or 9 and we return the value at location 8\n",
    "the next character is at 9 + 18 0r 27 which is beyond the end of the string\n",
    "*/\n"
   ]
  },
  {
   "cell_type": "code",
   "execution_count": null,
   "metadata": {},
   "outputs": [],
   "source": [
    "//Test case where the increment is index*3/2\n",
    "\n",
    "val h3 = ho_extract(\"Joe Biden is the President\",(i: Int)=>(i*3/2)) //Returns \"JoBs\"\n",
    "val h4 = ho_extract(\"1234567890\",(i: Int)=>(i*3/2)) //Returns \"125\"\n",
    "\n"
   ]
  },
  {
   "cell_type": "raw",
   "metadata": {},
   "source": [
    "Joe Biden is the President\n",
    "\n",
    "index is 1 returns location 0 or J\n",
    "index is 1 + 3/2 returns 2 or location 1 or o\n",
    "index is 2 + 3/2*2 returns 4 location \n",
    "\n",
    "Note that, in Scala, 3/2 returns 1 (i.e., dividing two integers returns the floor Int of the division). \n",
    "Note also that, because of this and because of the order of operations, i*3/2 will give a different result from 3/2*i\n"
   ]
  },
  {
   "cell_type": "code",
   "execution_count": null,
   "metadata": {},
   "outputs": [],
   "source": []
  }
 ],
 "metadata": {
  "kernelspec": {
   "display_name": "spylon-kernel",
   "language": "scala",
   "name": "spylon-kernel"
  },
  "language_info": {
   "codemirror_mode": "text/x-scala",
   "file_extension": ".scala",
   "help_links": [
    {
     "text": "MetaKernel Magics",
     "url": "https://metakernel.readthedocs.io/en/latest/source/README.html"
    }
   ],
   "mimetype": "text/x-scala",
   "name": "scala",
   "pygments_lexer": "scala",
   "version": "0.4.1"
  },
  "toc": {
   "base_numbering": 1,
   "nav_menu": {},
   "number_sections": true,
   "sideBar": true,
   "skip_h1_title": false,
   "title_cell": "Table of Contents",
   "title_sidebar": "Contents",
   "toc_cell": false,
   "toc_position": {},
   "toc_section_display": true,
   "toc_window_display": false
  }
 },
 "nbformat": 4,
 "nbformat_minor": 2
}
