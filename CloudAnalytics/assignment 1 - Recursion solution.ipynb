{
 "cells": [
  {
   "cell_type": "markdown",
   "id": "fe78c946",
   "metadata": {},
   "source": [
    "<h1>Problem 1</h1>\n",
    "Write a recursive Python function <span style=\"color:blue\">permutations(w)</span> that takes a string as an argument and returns a list containing all the permutations of that string. For e.g.,\n",
    "\n",
    "permutations(\"abc\") should return ['abc', 'acb', 'bac', 'bca', 'cab', 'cba']\n",
    "\n",
    "The easiest way to do this is as follows:\n",
    "\n",
    "<ol>\n",
    "    <li>initialize an empty list that will contain all the permutations (e.g., all_perms)</li>\n",
    "    <li> loop through the string selecting each letter as the first letter in the permutation in turn (e.g., 'a') - you can use iteration for this</li>\n",
    "    <li> call the permutation function on the string formed by the remaining letters (e.g., 'bc')</li>\n",
    "    <li> since the permutation function returns a list of permutations of the words, add the selected letter in step 1 to the front of each element of the returned string (e.g., add 'a' to each element of ['bc','cb']). List comprehension will be useful here</li>\n",
    "    <li> add this new list to the list to be returned (e.g., add ['abc', 'acb'] to all_perms)</li>\n",
    "    <li> after the loop finishes, return the list (once you've repeated the above for 'b' and 'c' as well)</li>\n",
    "</ol>\n",
    "<p>\n",
    "    <span style=\"color:blue\">permutations(\"\")</span> should return []\n",
    "    </p>\n",
    "    <p>\n",
    "    <span style=\"color:blue\">permutations(\"a\")</span> should return [\"a\"]\n",
    "    </p>\n",
    "    <p>\n",
    "    <span style=\"color:blue\">permutations(\"abcd\")</span> should return:\n",
    "<pre>\n",
    "    ['abcd',\n",
    "     'abdc',\n",
    "     'acbd',\n",
    "     'acdb',\n",
    "     'adbc',\n",
    "     'adcb',\n",
    "     'bacd',\n",
    "     'badc',\n",
    "     'bcad',\n",
    "     'bcda',\n",
    "     'bdac',\n",
    "     'bdca',\n",
    "     'cabd',\n",
    "     'cadb',\n",
    "     'cbad',\n",
    "     'cbda',\n",
    "     'cdab',\n",
    "     'cdba',\n",
    "     'dabc',\n",
    "     'dacb',\n",
    "     'dbac',\n",
    "     'dbca',\n",
    "     'dcab',\n",
    "     'dcba']\n",
    "</pre>"
   ]
  },
  {
   "cell_type": "code",
   "execution_count": 8,
   "id": "3d4a06a9",
   "metadata": {},
   "outputs": [],
   "source": [
    "def permutations(w):\n",
    "    all_perms=list()\n",
    "    if len(w) == 1:\n",
    "        return [w]\n",
    "    for i in range(len(w)):\n",
    "        print(w,w[i],len(w))\n",
    "        new_word = w[:i] + w[i+1:]\n",
    "        new_perms = permutations(new_word)\n",
    "        new_perms = [w[i] + p for p in new_perms]\n",
    "        all_perms.extend(new_perms)\n",
    "    return all_perms"
   ]
  },
  {
   "cell_type": "code",
   "execution_count": 9,
   "id": "99bd4ca2",
   "metadata": {},
   "outputs": [
    {
     "name": "stdout",
     "output_type": "stream",
     "text": [
      "abc a 3\n",
      "bc b 2\n",
      "bc c 2\n",
      "abc b 3\n",
      "ac a 2\n",
      "ac c 2\n",
      "abc c 3\n",
      "ab a 2\n",
      "ab b 2\n"
     ]
    },
    {
     "data": {
      "text/plain": [
       "['abc', 'acb', 'bac', 'bca', 'cab', 'cba']"
      ]
     },
     "execution_count": 9,
     "metadata": {},
     "output_type": "execute_result"
    }
   ],
   "source": [
    "w = 'abc'\n",
    "permutations(w) #Should return ['abc', 'acb', 'bac', 'bca', 'cab', 'cba']"
   ]
  },
  {
   "cell_type": "code",
   "execution_count": null,
   "id": "d0759b4b",
   "metadata": {},
   "outputs": [],
   "source": [
    "permutations('abcd') #See above for return value"
   ]
  },
  {
   "cell_type": "code",
   "execution_count": null,
   "id": "50e946a6",
   "metadata": {},
   "outputs": [],
   "source": [
    "permutations(\"\") #Should return []"
   ]
  },
  {
   "cell_type": "markdown",
   "id": "d3065b0c",
   "metadata": {},
   "source": [
    "<h1>Problem 2</h1>\n",
    "Write a tail recursive function length that returns the total length of all the strings contained in a list of strings. \n",
    "\n",
    "For example:\n",
    "\n",
    "x=[\"John\",\"Jill\",\"Billy\"]\n",
    "\n",
    "length(x) \n",
    "\n",
    "should return 13. \n",
    "\n",
    "if \n",
    "\n",
    "x=[]\n",
    "\n",
    "length(x) should return 0.\n",
    "\n",
    "Your code can assume that the list is well-formed. I.e., it contains only strings or is empty"
   ]
  },
  {
   "cell_type": "code",
   "execution_count": null,
   "id": "541d4e05",
   "metadata": {},
   "outputs": [],
   "source": [
    "def length(x):\n",
    "    def do_rec(c,x):\n",
    "        if x:\n",
    "            return do_rec(c+len(x.pop(0)),x)\n",
    "        return c\n",
    "    return do_rec(0,x)\n",
    "\n"
   ]
  },
  {
   "cell_type": "code",
   "execution_count": null,
   "id": "755d9ff5",
   "metadata": {},
   "outputs": [],
   "source": [
    "x=[\"John\",\"Jill\",\"Billy\"]\n",
    "length(x) #Should return 13"
   ]
  },
  {
   "cell_type": "code",
   "execution_count": null,
   "id": "2100ab0e",
   "metadata": {},
   "outputs": [],
   "source": [
    "x=list()\n",
    "length(x) #Should return 0"
   ]
  },
  {
   "cell_type": "markdown",
   "id": "b9a26170",
   "metadata": {},
   "source": [
    "<h1>Problem 3</h1>\n",
    "The registrar at Columbia University wants you to write a tail-recursive function that can quickly check if a room with the necessary number of seats is available for a class. The function takess two arguments:\n",
    "<li>a list of rooms where each room is formatted in a tuple (room#,seats,available). If the room hasn't been allocated to a class, the value of available is 1, otherwise it is 0</li>\n",
    "<li>the maximum number of students who will be allowed to register for the new class</li>\n",
    "\n",
    "Your function should return the first room in the list of rooms that has sufficient seats for the new class and return (0,0,0) if no room assignment is possible\n",
    "\n",
    "For e.g.,\n",
    "\n",
    "<pre>\n",
    "rooms = [(301,70,0),(302,31,1),(317,56,1),(322,70,1),(352,35,0)]\n",
    "\n",
    "find_room(rooms, 69) should return (322, 70, 1)\n",
    "find_room(rooms,71) should return (0,0,0)\n",
    "find_room(rooms, 30) should return (302, 31, 1)\n",
    "</pre>"
   ]
  },
  {
   "cell_type": "code",
   "execution_count": null,
   "id": "a3be9380",
   "metadata": {},
   "outputs": [],
   "source": [
    "rooms = [(301,70,0),(302,31,1),(317,56,1),(322,70,1),(352,35,0)]\n",
    "\n",
    "def find_room(rooms,num_students):\n",
    "    def do_rec(i):\n",
    "        if i>=len(rooms):\n",
    "            return (0,0,0)\n",
    "        if rooms[i][1]>=num_students and rooms[i][2]==1:\n",
    "            return rooms[i]\n",
    "        return do_rec(i+1)\n",
    "    return do_rec(0)"
   ]
  },
  {
   "cell_type": "code",
   "execution_count": null,
   "id": "5d603121",
   "metadata": {},
   "outputs": [],
   "source": [
    "find_room(rooms,71)"
   ]
  },
  {
   "cell_type": "code",
   "execution_count": null,
   "id": "f17ab2b3",
   "metadata": {},
   "outputs": [],
   "source": [
    "find_room([],20)"
   ]
  },
  {
   "cell_type": "code",
   "execution_count": 1,
   "id": "3c0fa5da",
   "metadata": {},
   "outputs": [
    {
     "name": "stdout",
     "output_type": "stream",
     "text": [
      "140491202124736\n",
      "140491202193856\n"
     ]
    }
   ],
   "source": [
    "\n",
    "\n",
    "tuple1 = (1,2,3)\n",
    "print(id(tuple1))\n",
    "tuple1 = (4,2)\n",
    "print(id(tuple1))"
   ]
  },
  {
   "cell_type": "code",
   "execution_count": null,
   "id": "df6b7f10",
   "metadata": {},
   "outputs": [],
   "source": []
  }
 ],
 "metadata": {
  "kernelspec": {
   "display_name": "Python 3 (ipykernel)",
   "language": "python",
   "name": "python3"
  },
  "language_info": {
   "codemirror_mode": {
    "name": "ipython",
    "version": 3
   },
   "file_extension": ".py",
   "mimetype": "text/x-python",
   "name": "python",
   "nbconvert_exporter": "python",
   "pygments_lexer": "ipython3",
   "version": "3.9.7"
  },
  "toc": {
   "base_numbering": 1,
   "nav_menu": {},
   "number_sections": true,
   "sideBar": true,
   "skip_h1_title": false,
   "title_cell": "Table of Contents",
   "title_sidebar": "Contents",
   "toc_cell": false,
   "toc_position": {},
   "toc_section_display": true,
   "toc_window_display": false
  }
 },
 "nbformat": 4,
 "nbformat_minor": 5
}
