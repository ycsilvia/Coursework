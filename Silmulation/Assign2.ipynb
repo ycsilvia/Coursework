{
 "cells": [
  {
   "cell_type": "code",
   "execution_count": null,
   "metadata": {},
   "outputs": [],
   "source": [
    "import numpy as np\n",
    "from scipy.stats import uniform, poisson, geom, ttest_ind"
   ]
  },
  {
   "cell_type": "markdown",
   "metadata": {},
   "source": [
    "## Problem\n",
    "\n",
    "An app with microtransactions offers a free but limited tier. The vast majority of customers do not spend any money on the app, a small group spends a small amount, and another, even smaller group consists of very heavy spenders. Let's suppose all spending is integer valued.\n",
    "\n",
    "We can model the pmf of this as follows:\n",
    "\n",
    "$$p(x) = p_1 \\cdot 1_{\\{x=0\\}} + p_2 \\cdot g_2(x) + p_3 \\cdot g_3(x)$$\n",
    "\n",
    "where $p_1 + p_2 + p_3 = 1$, $g_2$ is the pmf of a poisson distribution with parameter $\\lambda$, and $g_3$ is the pmf of $5+Y$ where $Y\\sim geo(q)$.\n",
    "\n",
    "Currently, the parameters here are:\n",
    "\n",
    "$$p_1 = 0.98, p_2=0.019, p_3 = .001, \\lambda=3, q=0.1$$\n",
    "\n",
    "We are never able to observed what group a person is in, just their revenue.\n",
    "\n",
    "Product management has proposed a change in the conversion funnel that they believe will increase conversions, particularly amongst the second group. They want to perform an A/B test of this with $n$ customers. As the distribution of revenues is quite skewed, they wish to explicitly compute the power of this test in the event that the test group has the same values of $\\lambda$ and $q$, but $p_1 = 0.975, p_2=0.024, p_3=.001$ (i.e. the probability of getting a significant result if this particular alternative is true). Assume they are doing a one-sided two-sample t-test with level $\\alpha=0.01$. \n",
    "\n",
    "Write the following functions.\n",
    "\n",
    "- generate_counterfactuals(n, lam, q) which returns an n x 2 array, where the first column is a poisson random variable with parameter lam for each person, and the second column is a geometric random variable with parameter q for each person.\n",
    "\n",
    "- generate_revenues(n, lam, q, p) which calls generate_counterfactuals, and then generates a revenue for each individual. \n",
    "\n",
    "- run_experiment(n, lam, q, p1, p2) which creates the two test groups of size n each, calculates their mean revenue, and performs a two sample t-test on them. It should return a 1 if we reject the null hypothesis that the groups have the same, and 0 if otherwise. Let p1 be the mixing parameters for the control group and p2 be the mixing parameters for experimental group. For the t-test use scipy.stats.ttest_ind, do not assume equal variance between the two groups.\n",
    "\n",
    "- calc_power(n, m, lam, q, p1, p2) which runs the experiment m times to calculate the power. "
   ]
  },
  {
   "cell_type": "code",
   "execution_count": null,
   "metadata": {},
   "outputs": [],
   "source": [
    "def generate_counterfactuals(n, lam, q):\n",
    "    X = np.zeros((n, 2))\n",
    "    X[:,0] = poisson.rvs(lam, size=n)\n",
    "    X[:,1] = 5 + geom.rvs(q, size=n)\n",
    "    return X\n",
    "    \n",
    "def generate_revenues(n, lam, q, p):\n",
    "    X = generate_counterfactuals(n, lam, q)\n",
    "    Y = np.zeros(n)\n",
    "    U = uniform.rvs(size=n)\n",
    "    ind_1 = U < p[1]\n",
    "    ind_2 = U < p[1] + p[2]\n",
    "    Y[ind_1] = X[ind_1, 0]\n",
    "    Y[~ind_1 & ind_2] = X[~ind_1 & ind_2, 1]\n",
    "    return Y\n",
    "    \n",
    "def run_experiment(n, lam, q, p1, p2):\n",
    "    grp1 = generate_revenues(n, lam, q, p1)\n",
    "    grp2 = generate_revenues(n, lam, q, p2)\n",
    "    result = ttest_ind(grp1, grp2, alternative='less', equal_var=False)\n",
    "    if result.pvalue < 0.01:\n",
    "        return 1\n",
    "    else:\n",
    "        return 0\n",
    "\n",
    "def calc_power(n, m, lam, q, p1, p2):\n",
    "    X = [run_experiment(n, lam, q, p1, p2) for i in range(m)]\n",
    "    return np.mean(X)"
   ]
  },
  {
   "cell_type": "code",
   "execution_count": null,
   "metadata": {},
   "outputs": [],
   "source": []
  },
  {
   "cell_type": "code",
   "execution_count": null,
   "metadata": {},
   "outputs": [],
   "source": []
  }
 ],
 "metadata": {
  "language_info": {
   "name": "python"
  }
 },
 "nbformat": 4,
 "nbformat_minor": 2
}
