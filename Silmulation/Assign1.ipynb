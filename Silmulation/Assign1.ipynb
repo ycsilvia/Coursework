{
 "cells": [
  {
   "cell_type": "code",
   "execution_count": null,
   "metadata": {},
   "outputs": [],
   "source": [
    "import numpy as np\n",
    "from scipy.stats import uniform, norm"
   ]
  },
  {
   "cell_type": "markdown",
   "metadata": {},
   "source": [
    "## Instructions\n",
    "\n",
    "Implement the solution using the following functions:\n",
    "\n",
    "- f(x) which evaluates the function being integrated for all n simulations, which takes a single n x 4 matrix x as an argument, and returns and n x 1 vector of evaluations (i.e. it evaluates each row)\n",
    "- g(x) which defines the change of variables\n",
    "- det_J_g(x) which gives us the jacobian of g evaluated at x\n",
    "- evaluate_integral(n, seed) which takes as arguments n (the number of samples of size 4) and seed (the seed we will use for the random number generator) - you should do the random number generation inside this function - and returns three values: $\\hat{\\theta}$, and the lower and upper $95\\%$ confidence intervals for $\\theta$ (in that order)\n",
    "\n",
    "Do not import any additional functions.\n",
    "\n",
    "Hint: use the trick involving multiplication by an indicator function rather than finding an exact change of variables."
   ]
  },
  {
   "cell_type": "code",
   "execution_count": null,
   "metadata": {},
   "outputs": [],
   "source": [
    "def f(x):\n",
    "    f_0 = np.exp(-(x[:,0]**4 * x[:,1]**2 * x[:,2]**2 * x[:,3]**2))\n",
    "    ind = (x[:,1] - 5) **2 + (x[:,2] - 5) ** 2 + (x[:,3] - 5) ** 2 <= 4\n",
    "    f_0[~ind] = 0\n",
    "    return f_0\n",
    "    \n",
    "def g(x):\n",
    "    g_0 = np.copy(x)\n",
    "    g_0[:,0] = (1 - x[:,0]) ** (-1) - x[:,0]**(-1)\n",
    "    g_0[:,1:] = 3 + 4 * x[:,1:]\n",
    "    return g_0\n",
    "    \n",
    "def det_J_g(x):\n",
    "    return 4 * 4 * 4 * ((1 - x[:,0]) ** (-2) + x[:,0] ** (-2))\n",
    "    \n",
    "def evaluate_integral(n, seed):\n",
    "    U = uniform.rvs(size=(n, 4), random_state=seed)\n",
    "    sims = f(g(U)) * det_J_g(U)\n",
    "    theta_hat = np.mean(sims)\n",
    "    S = np.std(sims)\n",
    "    ci_half_width = norm.isf(.025) * S / np.sqrt(n)\n",
    "    theta_low = theta_hat - ci_half_width\n",
    "    theta_high = theta_hat + ci_half_width\n",
    "    return theta_hat, theta_low, theta_high"
   ]
  },
  {
   "cell_type": "code",
   "execution_count": null,
   "metadata": {},
   "outputs": [],
   "source": [
    "n = 10_000_000\n",
    "seed = 54\n",
    "\n",
    "evaluate_integral(n, seed)"
   ]
  }
 ],
 "metadata": {
  "language_info": {
   "name": "python"
  }
 },
 "nbformat": 4,
 "nbformat_minor": 2
}
