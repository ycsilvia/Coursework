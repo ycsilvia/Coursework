{
 "cells": [
  {
   "cell_type": "code",
   "execution_count": 2,
   "metadata": {},
   "outputs": [],
   "source": [
    "import hyperopt\n",
    "import numpy as np\n",
    "import simpy\n",
    "\n",
    "\n",
    "from scipy.optimize import minimize\n",
    "from scipy.stats import expon"
   ]
  },
  {
   "cell_type": "code",
   "execution_count": 3,
   "metadata": {},
   "outputs": [
    {
     "name": "stdout",
     "output_type": "stream",
     "text": [
      "  message: Optimization terminated successfully.\n",
      "  success: True\n",
      "   status: 0\n",
      "      fun: -2.2499999999999982\n",
      "        x: [-1.000e+00 -1.500e+00]\n",
      "      nit: 2\n",
      "      jac: [-2.980e-08 -5.960e-08]\n",
      " hess_inv: [[ 8.462e-01 -2.308e-01]\n",
      "            [-2.308e-01  6.538e-01]]\n",
      "     nfev: 9\n",
      "     njev: 3\n"
     ]
    }
   ],
   "source": [
    "def obj(z):\n",
    "    x = z[0]\n",
    "    y = z[1]\n",
    "    return x**2 + y**2 + 2 * x + 3 * y + 1\n",
    "\n",
    "res = minimize(obj, [0, 0])\n",
    "print(res)"
   ]
  },
  {
   "cell_type": "code",
   "execution_count": 4,
   "metadata": {},
   "outputs": [
    {
     "name": "stdout",
     "output_type": "stream",
     "text": [
      "  0%|          | 0/100 [00:00<?, ?trial/s, best loss=?]"
     ]
    },
    {
     "name": "stdout",
     "output_type": "stream",
     "text": [
      "100%|██████████| 100/100 [00:00<00:00, 270.40trial/s, best loss: -2.244976618661607]\n"
     ]
    }
   ],
   "source": [
    "res_2 = hyperopt.fmin(fn=obj,\n",
    "                      algo=hyperopt.tpe.suggest,\n",
    "                      max_evals=100,\n",
    "                      rstate=np.random.default_rng(42),\n",
    "                      space=[hyperopt.hp.normal('x',0,10),\n",
    "                             hyperopt.hp.normal('y',0,10)])\n"
   ]
  },
  {
   "cell_type": "code",
   "execution_count": 5,
   "metadata": {},
   "outputs": [
    {
     "data": {
      "text/plain": [
       "{'x': -0.990991143473577, 'y': -1.5703009377069734}"
      ]
     },
     "execution_count": 5,
     "metadata": {},
     "output_type": "execute_result"
    }
   ],
   "source": [
    "res_2"
   ]
  },
  {
   "cell_type": "code",
   "execution_count": 6,
   "metadata": {},
   "outputs": [
    {
     "name": "stdout",
     "output_type": "stream",
     "text": [
      "100%|██████████| 50/50 [01:44<00:00,  2.10s/trial, best loss: -273.15]\n"
     ]
    }
   ],
   "source": [
    "### fast food restaurant with capacity 50 people\n",
    "### n_1 checkout workers\n",
    "### n_2 kitchen workers\n",
    "### customers arrive according to HPP with intensity lam_dt=100\n",
    "### checkout worker takes an exponential amount of time to take an order lam_st1 = 50\n",
    "### kitchen takes an exponential amount of time to make an order lam_st2 = 25\n",
    "### if a customer arrives and the store is full, they leave\n",
    "### every customer spends $5\n",
    "### at T=1, everyone gets kicked out of the store\n",
    "### each worker gets paid $22\n",
    "### find the optimal values of n_1 and n_2 to maximize profit\n",
    "\n",
    "\n",
    "\n",
    "lam_dt = 100\n",
    "lam_st1 = 50\n",
    "lam_st2 = 25\n",
    "\n",
    "def simulation(n):\n",
    "\n",
    "    n_checkout = n[0]\n",
    "    n_kitchen = n[1]\n",
    "    n_workers = n_checkout + n_kitchen\n",
    "    cust_capacity = 50 - n_workers\n",
    "    rev = []\n",
    "\n",
    "    def arrivals():\n",
    "        while True:\n",
    "            dt = expon.rvs(scale=1/lam_dt)\n",
    "            st1 = expon.rvs(scale=1/lam_st1)\n",
    "            st2 = expon.rvs(scale=1/lam_st2) # generate together to maximum the correlation ?\n",
    "            # rather than generate seperately\n",
    "            yield env.timeout(dt)\n",
    "            if store.count < cust_capacity:\n",
    "                rqt_st = store.request()\n",
    "                yield rqt_st\n",
    "                env.process(service(rqt_st, st1, st2))\n",
    "\n",
    "    def service(rqt_st, st1, st2):\n",
    "        rqt1 = checkout.request()\n",
    "        yield rqt1\n",
    "        yield env.timeout(st1)\n",
    "        checkout.release(rqt1)\n",
    "        rqt2 = kitchen.request()\n",
    "        yield rqt2\n",
    "        yield env.timeout(st2)\n",
    "        kitchen.release(rqt2)\n",
    "        store.release(rqt_st)\n",
    "        rev.append(5)\n",
    "\n",
    "    if cust_capacity <=0:\n",
    "        return 100_000\n",
    "    else:\n",
    "        env = simpy.Environment()\n",
    "        store = simpy.Resource(env=env, capacity=cust_capacity)\n",
    "        checkout = simpy.Resource(env=env, capacity=n_checkout)\n",
    "        kitchen = simpy.Resource(env=env, capacity=n_kitchen)\n",
    "        env.process(arrivals())\n",
    "        env.run(until=1)\n",
    "\n",
    "        return 22 * n_workers - np.sum(rev)\n",
    "\n",
    "\n",
    "def obj(n):\n",
    "    np.random.seed(37)\n",
    "    nsims = 100\n",
    "    revs = [simulation(n) for i in range(nsims)]\n",
    "    return np.mean(revs)\n",
    "\n",
    "\n",
    "res = hyperopt.fmin(fn=obj, \n",
    "                    algo=hyperopt.tpe.suggest, \n",
    "                    max_evals=50,\n",
    "                    rstate=np.random.default_rng(42),\n",
    "                    space=[hyperopt.hp.quniform('n_check', 1, 30, 1),\n",
    "                           hyperopt.hp.quniform('n_kitchen', 1, 30, 1)])\n",
    "\n",
    "\n",
    "\n",
    "# maximum correlations"
   ]
  },
  {
   "cell_type": "code",
   "execution_count": null,
   "metadata": {},
   "outputs": [],
   "source": []
  }
 ],
 "metadata": {
  "kernelspec": {
   "display_name": "base",
   "language": "python",
   "name": "python3"
  },
  "language_info": {
   "codemirror_mode": {
    "name": "ipython",
    "version": 3
   },
   "file_extension": ".py",
   "mimetype": "text/x-python",
   "name": "python",
   "nbconvert_exporter": "python",
   "pygments_lexer": "ipython3",
   "version": "3.10.9"
  }
 },
 "nbformat": 4,
 "nbformat_minor": 2
}
