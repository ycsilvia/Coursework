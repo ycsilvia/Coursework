{
 "cells": [
  {
   "cell_type": "code",
   "execution_count": 1,
   "metadata": {},
   "outputs": [],
   "source": [
    "import numpy as np\n",
    "import simpy\n",
    "\n",
    "from scipy.stats import expon, poisson, uniform"
   ]
  },
  {
   "cell_type": "code",
   "execution_count": 2,
   "metadata": {},
   "outputs": [
    {
     "name": "stdout",
     "output_type": "stream",
     "text": [
      "[0.5865605280722542, 0.6695928285627948, 0.9188938518506995, 0.9642989092139909, 1.1333121392593832, 3.3134388068301632, 4.322387588697286, 4.919029294308295, 5.566098674857381, 5.65443383156199, 9.467165096468172]\n"
     ]
    }
   ],
   "source": [
    "lam = 1\n",
    "\n",
    "def arrivals(lam, S):\n",
    "    while True:\n",
    "        dt = expon.rvs(scale=1/lam) # exponential inter-arrival time distribution\n",
    "        yield env.timeout(dt)\n",
    "        S.append(env.now)\n",
    "\n",
    "S = []\n",
    "env = simpy.Environment() # sets up a simulation environment using SimPy\n",
    "env.process(arrivals(lam, S))\n",
    "env.run(until=10)\n",
    "print(S)"
   ]
  },
  {
   "cell_type": "code",
   "execution_count": 3,
   "metadata": {},
   "outputs": [
    {
     "data": {
      "text/plain": [
       "<Timeout(0.020036523117305853) object at 0x2a4fee44850>"
      ]
     },
     "execution_count": 3,
     "metadata": {},
     "output_type": "execute_result"
    }
   ],
   "source": [
    "env.timeout(expon.rvs(scale=1/lam))"
   ]
  },
  {
   "cell_type": "code",
   "execution_count": 4,
   "metadata": {},
   "outputs": [],
   "source": [
    "lam = 1\n",
    "\n",
    "def arrivals(lam, S):\n",
    "    while True:\n",
    "        dt = expon.rvs(scale=1/lam)\n",
    "        yield env.timeout(dt)\n",
    "        env.process(service(server))\n",
    "\n",
    "def service(server):\n",
    "    rqt = server.request()\n",
    "    yield rqt\n",
    "    st = expon.rvs(scale=1/3)\n",
    "    yield env.timeout(st)\n",
    "    server.release(rqt)\n",
    "\n",
    "\n",
    "env = simpy.Environment()\n",
    "server = simpy.Resource(env=env, capacity=1)\n",
    "env.process(arrivals(lam, server))\n",
    "env.run(until=10)"
   ]
  },
  {
   "cell_type": "code",
   "execution_count": 17,
   "metadata": {},
   "outputs": [
    {
     "name": "stdout",
     "output_type": "stream",
     "text": [
      "person 0 arrives at time 0.1881074291489169\n",
      "[]\n",
      "person 0 goes into service at time 0.1881074291489169\n",
      "person 0 releases the server at time 0.21044614603287537\n",
      "person 1 arrives at time 0.591386010296555\n",
      "[]\n",
      "person 1 goes into service at time 0.591386010296555\n",
      "person 2 arrives at time 0.8321812451507794\n",
      "person 1 releases the server at time 0.9945803280403132\n",
      "[]\n",
      "person 2 goes into service at time 0.9945803280403132\n",
      "person 3 arrives at time 1.8331695510028214\n",
      "person 4 arrives at time 2.3971487842126233\n",
      "person 2 releases the server at time 2.6773668022350186\n",
      "[<Request() object at 0x2a48f83a410>]\n",
      "person 3 goes into service at time 2.6773668022350186\n",
      "person 3 releases the server at time 2.9150211614292876\n",
      "[]\n",
      "person 4 goes into service at time 2.9150211614292876\n",
      "person 4 releases the server at time 3.013715402848946\n",
      "person 5 arrives at time 5.755423711451167\n",
      "[]\n",
      "person 5 goes into service at time 5.755423711451167\n",
      "person 5 releases the server at time 5.7913286802822865\n",
      "person 6 arrives at time 6.000974696786354\n",
      "[]\n",
      "person 6 goes into service at time 6.000974696786354\n",
      "person 7 arrives at time 6.6483367147701475\n",
      "person 6 releases the server at time 7.821903773165\n",
      "[]\n",
      "person 7 goes into service at time 7.821903773165\n",
      "person 7 releases the server at time 7.892132922740221\n",
      "person 8 arrives at time 8.964916482964544\n",
      "[]\n",
      "person 8 goes into service at time 8.964916482964544\n",
      "person 9 arrives at time 9.118456380915955\n",
      "person 8 releases the server at time 9.36292667024243\n",
      "[]\n",
      "person 9 goes into service at time 9.36292667024243\n",
      "person 10 arrives at time 9.49172530526579\n",
      "person 11 arrives at time 9.602966907151075\n",
      "person 9 releases the server at time 9.631693304855501\n",
      "[<Request() object at 0x2a48f839120>]\n",
      "person 10 goes into service at time 9.631693304855501\n",
      "person 10 releases the server at time 9.653522910867116\n",
      "[]\n",
      "person 11 goes into service at time 9.653522910867116\n",
      "person 11 releases the server at time 10.6843452176859\n"
     ]
    }
   ],
   "source": [
    "lam = 1\n",
    "\n",
    "def arrivals(lam, server):\n",
    "    i = 0\n",
    "    while True:\n",
    "        dt = expon.rvs(scale=1/lam)\n",
    "        if env.now + dt < 10:\n",
    "            yield env.timeout(dt)\n",
    "            print('person {} arrives at time {}'.format(i, env.now))\n",
    "            env.process(service(server, i))\n",
    "            i = i + 1\n",
    "        else:\n",
    "            break\n",
    "\n",
    "def service(server, i):\n",
    "    rqt = server.request()\n",
    "    yield rqt\n",
    "    print('person {} goes into service at time {}'.format(i, env.now))\n",
    "    st = expon.rvs(scale=1/3)\n",
    "    yield env.timeout(st)\n",
    "    print('person {} releases the server at time {}'.format(i, env.now))\n",
    "    server.release(rqt)\n",
    "\n",
    "\n",
    "env = simpy.Environment()\n",
    "server = simpy.Resource(env=env, capacity=1) # SimPy Resource object \n",
    "env.process(arrivals(lam, server))\n",
    "env.run()"
   ]
  },
  {
   "cell_type": "code",
   "execution_count": 14,
   "metadata": {},
   "outputs": [
    {
     "data": {
      "text/plain": [
       "0"
      ]
     },
     "execution_count": 14,
     "metadata": {},
     "output_type": "execute_result"
    }
   ],
   "source": [
    "server.users # list of the request that currently in resource, single server -> single request\n",
    "server.count # number of people that currently in server, single server -> 0 or 1\n",
    "server.queue # list of the request in order that currently in the queue of server\n",
    "len(server.queue) # number of people in the queue\n",
    "len(server.queue) + server.count # total number of people in system"
   ]
  },
  {
   "cell_type": "code",
   "execution_count": 13,
   "metadata": {},
   "outputs": [
    {
     "data": {
      "text/plain": [
       "0"
      ]
     },
     "execution_count": 13,
     "metadata": {},
     "output_type": "execute_result"
    }
   ],
   "source": [
    "server.count"
   ]
  },
  {
   "cell_type": "markdown",
   "metadata": {},
   "source": [
    "implement a finite capacity single-server queue (arrivals accoring to homogeneous poisson pr)     \n",
    "exponential service times     \n",
    "capacity n     \n",
    "if there are n people in system, arrivals are turned away     "
   ]
  },
  {
   "cell_type": "code",
   "execution_count": 7,
   "metadata": {},
   "outputs": [
    {
     "name": "stdout",
     "output_type": "stream",
     "text": [
      "person 0 arrives at time 0.2568127077836524\n",
      "person 0 goes into service at time 0.2568127077836524\n",
      "person 0 releases the server at time 0.6503177998560127\n",
      "person 1 arrives at time 2.0885597581463156\n",
      "person 1 goes into service at time 2.0885597581463156\n",
      "person 1 releases the server at time 2.120899527730544\n",
      "person 2 arrives at time 2.6620661787152136\n",
      "person 2 goes into service at time 2.6620661787152136\n",
      "person 3 arrives at time 2.731232745774811\n",
      "person 2 releases the server at time 3.117991188815637\n",
      "person 3 goes into service at time 3.117991188815637\n",
      "person 3 releases the server at time 3.559559778586787\n",
      "person 4 arrives at time 5.32186666706051\n",
      "person 4 goes into service at time 5.32186666706051\n",
      "person 4 releases the server at time 5.791534639014413\n",
      "person 5 arrives at time 5.9400276559683896\n",
      "person 5 goes into service at time 5.9400276559683896\n",
      "person 5 releases the server at time 6.087748151875157\n",
      "person 6 arrives at time 7.013326020108824\n",
      "person 6 goes into service at time 7.013326020108824\n",
      "person 6 releases the server at time 7.181728170419227\n",
      "person 7 arrives at time 8.484050051624106\n",
      "person 7 goes into service at time 8.484050051624106\n",
      "person 7 releases the server at time 8.52508207854559\n",
      "person 8 arrives at time 8.628323723197186\n",
      "person 8 goes into service at time 8.628323723197186\n",
      "person 8 releases the server at time 8.694325297350773\n",
      "person 9 arrives at time 9.10101499617961\n",
      "person 9 goes into service at time 9.10101499617961\n",
      "person 9 releases the server at time 9.108959168025336\n"
     ]
    }
   ],
   "source": [
    "lam = 1\n",
    "n = 5\n",
    "\n",
    "def arrivals(lam, server):\n",
    "    i = 0\n",
    "    while True:\n",
    "        dt = expon.rvs(scale=1/lam)\n",
    "        if env.now + dt < 10:\n",
    "            yield env.timeout(dt)\n",
    "            print('person {} arrives at time {}'.format(i, env.now))\n",
    "            if server.count + len(server.queue) < n:\n",
    "                env.process(service(server, i))\n",
    "            else:\n",
    "                print('person {} leaves at time {} because system full'.format(i, env.now))\n",
    "            i = i + 1\n",
    "        else:\n",
    "            break\n",
    "\n",
    "def service(server, i):\n",
    "    rqt = server.request()\n",
    "    yield rqt\n",
    "    print('person {} goes into service at time {}'.format(i, env.now))\n",
    "    st = expon.rvs(scale=1/3)\n",
    "    yield env.timeout(st)\n",
    "    print('person {} releases the server at time {}'.format(i, env.now))\n",
    "    server.release(rqt)\n",
    "\n",
    "\n",
    "env = simpy.Environment()\n",
    "server = simpy.Resource(env=env, capacity=1)\n",
    "env.process(arrivals(lam, server))\n",
    "env.run()"
   ]
  },
  {
   "cell_type": "code",
   "execution_count": 8,
   "metadata": {},
   "outputs": [],
   "source": [
    "# kitchen & bar\n",
    "\n",
    "def arrivals(lam):\n",
    "    while True:\n",
    "        dt = expon.rvs(scale=1/lam)\n",
    "        if env.now + dt < 10:\n",
    "            yield env.timeout(dt)\n",
    "            env.process(service(kitchen, food_time))\n",
    "            env.process(service(bar, drink_time))\n",
    "        else:\n",
    "            break\n",
    "\n",
    "def service(server, time):\n",
    "    rqt = server.request()\n",
    "    yield rqt\n",
    "    st = expon.rvs(scale=1/3)\n",
    "    yield env.timeout(st)\n",
    "    server.release(rqt)\n",
    "    time.append(env.now)\n",
    "\n",
    "drink_time = []\n",
    "food_time = []\n",
    "env = simpy.Environment()\n",
    "kitchen = simpy.Resource(env=env, capacity=1)\n",
    "bar = simpy.Resource(env=env, capacity=1)\n",
    "env.process(arrivals(lam))\n",
    "env.run()"
   ]
  },
  {
   "cell_type": "code",
   "execution_count": 9,
   "metadata": {},
   "outputs": [
    {
     "data": {
      "text/plain": [
       "([1.9886374794136252,\n",
       "  2.278403676964766,\n",
       "  2.433647028246644,\n",
       "  2.551220015805925,\n",
       "  2.564889522697002,\n",
       "  5.115844673566181,\n",
       "  6.096630794735699,\n",
       "  6.368603485896093,\n",
       "  6.536256015507288,\n",
       "  7.25638659897314,\n",
       "  8.525536067475882],\n",
       " [1.2765829985592116,\n",
       "  1.993139049774007,\n",
       "  2.3247581314159316,\n",
       "  2.4305700246886373,\n",
       "  2.6275552990008655,\n",
       "  5.161686049324214,\n",
       "  5.749927492409811,\n",
       "  6.337050661553985,\n",
       "  6.648527028255339,\n",
       "  7.061254269007039,\n",
       "  8.65978121233904])"
      ]
     },
     "execution_count": 9,
     "metadata": {},
     "output_type": "execute_result"
    }
   ],
   "source": [
    "drink_time,food_time"
   ]
  },
  {
   "cell_type": "code",
   "execution_count": 10,
   "metadata": {},
   "outputs": [],
   "source": [
    "def simulate():\n",
    "\n",
    "    def arrivals(lam):\n",
    "        while True:\n",
    "            dt = expon.rvs(scale=1/lam)\n",
    "            if env.now + dt < 10:\n",
    "                yield env.timeout(dt)\n",
    "                env.process(service(kitchen, food_time))\n",
    "                env.process(service(bar, drink_time))\n",
    "            else:\n",
    "                break\n",
    "\n",
    "    def service(server, time):\n",
    "        rqt = server.request()\n",
    "        yield rqt\n",
    "        st = expon.rvs(scale=1/3)\n",
    "        yield env.timeout(st)\n",
    "        server.release(rqt)\n",
    "        time.append(env.now)\n",
    "\n",
    "    drink_time = []\n",
    "    food_time = []\n",
    "    env = simpy.Environment()\n",
    "    kitchen = simpy.Resource(env=env, capacity=1)\n",
    "    bar = simpy.Resource(env=env, capacity=1)\n",
    "    env.process(arrivals(lam))\n",
    "    env.run()\n",
    "\n",
    "    drink_array = np.array(drink_time)\n",
    "    food_array = np.array(food_time)\n",
    "\n",
    "    max_diff = np.max(np.absolute(drink_array - food_array))\n",
    "\n",
    "    return max_diff\n",
    "\n",
    "def run_simulations(n):\n",
    "    drink_times = [simulate() for i in range(n)]\n",
    "    return drink_times\n",
    "\n",
    "\n"
   ]
  },
  {
   "cell_type": "code",
   "execution_count": 11,
   "metadata": {},
   "outputs": [
    {
     "data": {
      "text/plain": [
       "[1.0889312779321125,\n",
       " 0.6849447107225783,\n",
       " 1.3819199449644604,\n",
       " 0.9951920373595282,\n",
       " 0.982697735758645,\n",
       " 1.7025260754116414,\n",
       " 0.4461848746348278,\n",
       " 0.5392137487039905,\n",
       " 1.1355182441934524,\n",
       " 1.0880879028999964]"
      ]
     },
     "execution_count": 11,
     "metadata": {},
     "output_type": "execute_result"
    }
   ],
   "source": [
    "run_simulations(10)"
   ]
  },
  {
   "cell_type": "code",
   "execution_count": null,
   "metadata": {},
   "outputs": [],
   "source": []
  }
 ],
 "metadata": {
  "kernelspec": {
   "display_name": "base",
   "language": "python",
   "name": "python3"
  },
  "language_info": {
   "codemirror_mode": {
    "name": "ipython",
    "version": 3
   },
   "file_extension": ".py",
   "mimetype": "text/x-python",
   "name": "python",
   "nbconvert_exporter": "python",
   "pygments_lexer": "ipython3",
   "version": "3.10.9"
  }
 },
 "nbformat": 4,
 "nbformat_minor": 2
}
