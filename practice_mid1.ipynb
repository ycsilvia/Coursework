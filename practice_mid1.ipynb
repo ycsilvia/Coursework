{
 "cells": [
  {
   "cell_type": "markdown",
   "metadata": {},
   "source": [
    "19"
   ]
  },
  {
   "cell_type": "code",
   "execution_count": null,
   "metadata": {},
   "outputs": [],
   "source": [
    "import numpy as np\n",
    "\n",
    "from scipy.stats import uniform, expon, poisson"
   ]
  },
  {
   "cell_type": "markdown",
   "metadata": {},
   "source": [
    "Suppose we want to sample from an overdispersed poisson. This is a poisson distribution where parameter $\\lambda$ is random for each sample - $\\lambda$ it self is a sample from an exponential distribution with parameter $\\beta$. (We'll use beta=1)\n",
    "\n",
    "Generate 10,000 samples from this distribution, and compute the probability that we get a value greater than or equal to 5. How much greater is this than the probability that a Poisson(1) is greater than or equal to 5?"
   ]
  },
  {
   "cell_type": "code",
   "execution_count": null,
   "metadata": {},
   "outputs": [],
   "source": [
    "n = 10_000\n",
    "\n",
    "# estimate probability the overdispersed poisson is geq 5\n",
    "X = poisson.rvs(expon.rvs(scale=1, size=n))\n",
    "prob_gr_5 = np.mean(X >= 5)\n",
    "\n",
    "# exact probability the regular poisson is geq 5\n",
    "prob_reg_gr_5 = 1 - poisson.cdf(4, 1)\n",
    "\n",
    "# ratio thereof\n",
    "ratio = prob_gr_5 / prob_reg_gr_5\n",
    "print(prob_gr_5, prob_reg_gr_5, ratio)"
   ]
  },
  {
   "cell_type": "markdown",
   "metadata": {},
   "source": [
    "20"
   ]
  },
  {
   "cell_type": "code",
   "execution_count": null,
   "metadata": {},
   "outputs": [],
   "source": [
    "import numpy as np\n",
    "from scipy.stats import uniform"
   ]
  },
  {
   "cell_type": "markdown",
   "metadata": {},
   "source": [
    "implement a function that uses the inverse transform to sample from the discrete distribution with the following pmf:\n",
    "\n",
    "$$p(x)=\\begin{cases} 0.2 & x=1 \\\\\n",
    "0.3 & x=2 \\\\\n",
    "0.25 & x=3 \\\\\n",
    "0.15 & x=4 \\\\\n",
    "0.1 & x=5\n",
    "\\end{cases}$$\n",
    "\n",
    "The function sample(U) should take in a vector of unif(0,1) random numbers and return a vector of samples from the above distribution. Code must be vectorized. Use the standard inverse transform, not the optimized version."
   ]
  },
  {
   "cell_type": "code",
   "execution_count": null,
   "metadata": {},
   "outputs": [],
   "source": [
    "def sample(U):\n",
    "    X = 5 * np.ones(len(U))\n",
    "    ind1 = U <= 0.2\n",
    "    ind2 = (U <= 0.5) & (U > 0.2)\n",
    "    ind3 = (U <= 0.75) & (U > 0.5)\n",
    "    ind4 = (U <= 0.9) & (U > 0.75)\n",
    "    X[ind1] = 1\n",
    "    X[ind2] = 2\n",
    "    X[ind3] = 3\n",
    "    X[ind4] = 4\n",
    "    return X\n"
   ]
  },
  {
   "cell_type": "code",
   "execution_count": null,
   "metadata": {},
   "outputs": [],
   "source": []
  }
 ],
 "metadata": {
  "kernelspec": {
   "display_name": "base",
   "language": "python",
   "name": "python3"
  },
  "language_info": {
   "name": "python",
   "version": "3.10.9"
  }
 },
 "nbformat": 4,
 "nbformat_minor": 2
}
