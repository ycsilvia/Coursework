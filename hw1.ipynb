{
 "cells": [
  {
   "cell_type": "code",
   "execution_count": 17,
   "metadata": {},
   "outputs": [],
   "source": [
    "import numpy as np\n",
    "from scipy.stats import uniform, norm\n",
    "\n",
    "uni = 'yc4153'"
   ]
  },
  {
   "cell_type": "markdown",
   "metadata": {},
   "source": [
    "## Problem\n",
    "\n",
    "We wish to estimate the following using simulation:\n",
    "\n",
    "$$\\theta = \\underset{A}{\\int \\int \\int \\int}  \\exp(-x_1^4 (x_2 x_3 x_4)^2)\\, dx_1\\, dx_2\\, dx_2\\, dx_4$$\n",
    "\n",
    "where A is the region defined below. (this is a quadruple integral over the region A)\n",
    "\n",
    "$$A=\\{-\\infty \\leq x_1 \\leq \\infty, (x_2 - 5)^2 + (x_3 - 5)^2 + (x_4 - 5)^2 \\leq 4\\}$$"
   ]
  },
  {
   "cell_type": "code",
   "execution_count": 24,
   "metadata": {},
   "outputs": [
    {
     "name": "stdout",
     "output_type": "stream",
     "text": [
      "3.819803971410758\n",
      "3.260788704849817 4.378819237971698\n",
      "Estimated Theta: 3.819803971410758\n",
      "95% Confidence Interval: [3.260789, 4.378819]\n"
     ]
    }
   ],
   "source": [
    "def f(x):\n",
    "    f_0 = np.exp((-x[:,0]**4)*(x[:,1]*x[:,2]*x[:,2])**2)\n",
    "    ind = ((x[:,1]-5)**2 + (x[:,2]-5)**2 + (x[:,3]-5)**2) <= 4\n",
    "    f_0[~ind] = 0\n",
    "    return f_0\n",
    "    \n",
    "    \n",
    "def g(x):\n",
    "    g_x = np.zeros(x.shape)\n",
    "    g_x[:,0] = 1/(1-x[:,0]) - 1/x[:,0]\n",
    "    g_x[:,1] = 3 + 4 * x[:,1]\n",
    "    g_x[:,2] = 3 + 4 * x[:,2]\n",
    "    g_x[:,3] = 3 + 4 * x[:,3]\n",
    "    return g_x\n",
    "    \n",
    "    \n",
    "def det_J_g(x):\n",
    "    det = (1/((1-x[:,0])**2) + 1/x[:,0]**2) * (4 ** 3)\n",
    "    return det\n",
    "    \n",
    "    \n",
    "def evaluate_integral(n, seed):\n",
    "    U = uniform.rvs(size=(n, 4), random_state=seed)\n",
    "    sims = f(g(U)) * det_J_g(U)\n",
    "    theta_hat = np.mean(sims)\n",
    "    print(theta_hat)\n",
    "\n",
    "    S = np.std(sims)\n",
    "    se = norm.isf(.025) * S /np.sqrt(n)\n",
    "    ci_low = theta_hat - se\n",
    "    ci_high = theta_hat + se\n",
    "    print(ci_low, ci_high)\n",
    "    \n",
    "    return theta_hat, ci_low, ci_high\n",
    "\n",
    "# Usage example:\n",
    "n = 10000  # Number of samples\n",
    "seed = 42  # Random seed for reproducibility\n",
    "\n",
    "estimated_theta, lower_ci, upper_ci = evaluate_integral(n, seed)\n",
    "print(\"Estimated Theta:\", estimated_theta)\n",
    "print(\"95% Confidence Interval: [{:.6f}, {:.6f}]\".format(lower_ci, upper_ci))"
   ]
  }
 ],
 "metadata": {
  "kernelspec": {
   "display_name": "base",
   "language": "python",
   "name": "python3"
  },
  "language_info": {
   "codemirror_mode": {
    "name": "ipython",
    "version": 3
   },
   "file_extension": ".py",
   "mimetype": "text/x-python",
   "name": "python",
   "nbconvert_exporter": "python",
   "pygments_lexer": "ipython3",
   "version": "3.10.9"
  },
  "orig_nbformat": 4
 },
 "nbformat": 4,
 "nbformat_minor": 2
}
