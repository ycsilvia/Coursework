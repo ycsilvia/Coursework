{
 "cells": [
  {
   "cell_type": "markdown",
   "metadata": {},
   "source": [
    "# Overview\n",
    "In this lecture, we discuss the basics of a random number generation algorithm and how to use Python to generate random numbers. By the end of the lecture, you should be able to:\n",
    "\n",
    "(1) Understand the basics of how a random number generator.\n",
    "\n",
    "(2) Able to implement a linear congruential generator\n",
    "\n",
    "(3) Understand how to use np.random.RandomState() and np.random.rand() to help generate number numbers. "
   ]
  },
  {
   "cell_type": "markdown",
   "metadata": {},
   "source": [
    "# Random number generator\n",
    "A random number generator (RNG) is a device that generates a sequence of numbers or symbols that cannot be reasonably predicted better than by a random chance.\n",
    "\n",
    "There are two ways to generate a random number:\n",
    "\n",
    "## (1) Hardware (True) random number generator\n",
    "\n",
    "The first way of generating random numbers relies on physical phenomena. For example, the next number generated can depend on the level of background noise in your office, the decay of radioactive sources, or even the movement of your mouse. With well-control designs, these sources will be unpredictable and not repetitive. As a result, the numbers will not start repeating the patterns after a cycle. \n",
    "\n",
    "True random number generator is widely used in settings that rely on high-level security, for example, banks, gambling, cybersecurity, or national defense.  \n",
    "\n",
    "## (2) Pseudo-random number generator\n",
    "\n",
    "The second way to generate random numbers is based on computer algorithms. Using these algorithms, we are able to generate numbers that seem to be random, although they will be repeating themselves after a cycle. A good algorithm should be able to produce a long sequence of numbers that follows a random order without repeating themselves for a long sequence.  "
   ]
  },
  {
   "cell_type": "markdown",
   "metadata": {},
   "source": [
    "# Pseudo-Random Numbers\n",
    "In general, a good psuedo-random number generator will fulfill the following:\n",
    "\n",
    "The integers generated in the sequence will appear to be reasonably independent.\n",
    "\n",
    "The integers will be roughly evenly distributed across 0, ..., m-1\n",
    "\n",
    "The next number in the sequence can be calculated quickly."
   ]
  },
  {
   "cell_type": "markdown",
   "metadata": {},
   "source": [
    "..."
   ]
  },
  {
   "cell_type": "code",
   "execution_count": null,
   "metadata": {},
   "outputs": [],
   "source": [
    "a = 7\n",
    "m = 30\n",
    "x = 3\n",
    "c = 0\n",
    "N = 10\n",
    "\n",
    "#loop i through 0, 1, 2, ... N-1\n",
    "for i in range(N):\n",
    "    #update x\n",
    "    x=(a*x+c)%m\n",
    "    #generate a random number\n",
    "    u=x/m\n",
    "    print(u)"
   ]
  },
  {
   "cell_type": "code",
   "execution_count": null,
   "metadata": {},
   "outputs": [],
   "source": [
    "a = 7**5\n",
    "m = 2**31-1\n",
    "x = 20000\n",
    "c = 0\n",
    "N = 10\n",
    "\n",
    " \n",
    "\n",
    "#loop i through 0, 1, 2, ... N-1\n",
    "for i in range(N):\n",
    "    #update x\n",
    "    x=(a*x+c)%m\n",
    "    #generate a random number\n",
    "    u=x/m\n",
    "    print(u)\n",
    "    "
   ]
  },
  {
   "cell_type": "markdown",
   "metadata": {},
   "source": [
    "# Mersenne Twister"
   ]
  },
  {
   "cell_type": "code",
   "execution_count": 1,
   "metadata": {},
   "outputs": [
    {
     "name": "stdout",
     "output_type": "stream",
     "text": [
      "0.21875385307936646\n",
      "[0.67734804]\n",
      "[0.52383844 0.12138566 0.86889863 0.34229292 0.13502069 0.40353002\n",
      " 0.0499818  0.9452394  0.06332538 0.24857977]\n",
      "[[0.22589919 0.002928  ]\n",
      " [0.29913271 0.30799478]\n",
      " [0.38584561 0.33811695]]\n"
     ]
    }
   ],
   "source": [
    "import numpy as np\n",
    "#generate one random number\n",
    "print(np.random.rand())\n",
    "#generate an array with 1 random number\n",
    "print(np.random.rand(1))\n",
    "#generate an array with 10 random numbers\n",
    "print(np.random.rand(10))\n",
    "#generate an array with 3 rows and *2 columns\n",
    "print(np.random.rand(3,2))"
   ]
  },
  {
   "cell_type": "code",
   "execution_count": 2,
   "metadata": {},
   "outputs": [
    {
     "name": "stdout",
     "output_type": "stream",
     "text": [
      "('MT19937', array([3789333924, 4210413443, 2198512940, 2894308303, 3841070581,\n",
      "        291052800,  144631975, 3695955336, 3191019372, 2373135170,\n",
      "       3769311850, 4117644850, 2823906566,  833475620, 3701726026,\n",
      "       1166489812, 1097986857, 1816042152,  227506654, 2246880384,\n",
      "       4247927509, 1581983858, 1046549167, 1685996637, 1527367926,\n",
      "       4167875197, 1917632506, 2785371961,  676684021, 2172815996,\n",
      "       3179512413, 2300426809, 3996954628, 3084152373, 3658436457,\n",
      "       3677224353,   34534089, 1719997468, 1430075076, 1901761934,\n",
      "       3269547177, 1506521453,   66366581,  676389068, 3068961787,\n",
      "       3509599609, 2624026830,  842786047, 3522033314, 3286994154,\n",
      "       3820987385,  254824395, 3967207814, 2165573101, 3288297585,\n",
      "       1790282881, 2358511403, 1506845398,   71902271,  197609708,\n",
      "       1558983259, 3614930121, 3138472024, 3714789519, 2912315502,\n",
      "       3524037677, 4067017167, 2932698070, 3442795108, 4050899069,\n",
      "       1913630817, 2349573192, 2472368725, 3964406314, 4119171859,\n",
      "        949070157, 3474063046,  281881540, 2128867933, 2443035982,\n",
      "       3332505209,   66059822, 1908021948,  625440427, 2039051065,\n",
      "       1026932876, 2521425616,  364025617,  730868280, 1549681432,\n",
      "        727349179, 2372513749, 2180626446, 2497881244, 1133715994,\n",
      "        404094822, 2834503243, 1164541192, 1915939284,  268778761,\n",
      "         95983400, 2983655448,  448318742, 2015861412, 1604660845,\n",
      "        356668772, 2417284290, 2235108594,  630919899,  120185911,\n",
      "       2528671121, 2479776861, 2142046645, 1058405955, 2867493420,\n",
      "       3516249913,  752124836, 4194724008,  885413832, 3379882007,\n",
      "       2898622458, 3101173897, 3991085762, 2569617493, 2204051647,\n",
      "       1247926623, 1372318210, 3805587632,  608405307, 4284484289,\n",
      "       3947733948, 4258702413, 2225637240, 3405416052, 1581906800,\n",
      "        569598768, 1205659011, 1332551563, 3609539300, 2404371731,\n",
      "       2986873439, 3741169780,  373750447, 3341953889, 2616563578,\n",
      "       2797859970,  554888771, 1087862636, 1122933726, 1270297433,\n",
      "       4209365291, 2258353592, 3818029421, 3365510751, 3213740347,\n",
      "       3075773631, 4096645517,  565946181, 2339732604,  102935558,\n",
      "       3600830543, 2810342755, 1708183478, 1825478978, 2478118514,\n",
      "       3079170577, 1041735481, 1965259040,  351978597, 2056637235,\n",
      "        832396572, 1980293187,  727561373, 1155228050, 3478307628,\n",
      "        742345260, 3263374028, 3178363248, 3023106934, 2383762926,\n",
      "       2964795463, 1649055844, 3135104083,  362920085,  634549613,\n",
      "       3396145084,  709575914, 1762488561,  546160365, 3798930694,\n",
      "       1465003724, 4241911346,   66604247, 1703928185, 1251456998,\n",
      "       1991537839, 2350130579,  189629763, 1849687174,   96928595,\n",
      "        313627833,  869827262, 2835212651, 2129378784, 1727215652,\n",
      "       2267209980,  840159149, 3421424189, 3760616489, 3351247230,\n",
      "       3244629684,  409513811, 2811614706, 2942109156, 1942582352,\n",
      "        904446539,  998551340,  390822669, 3081155143,   60210173,\n",
      "         37554378, 2421541116, 3298210248,  460135625,   31249843,\n",
      "       3571821444, 1788688812, 2658849430, 2028069920,  172932789,\n",
      "       3428095058, 3369474157, 3563421347,  611247141, 2081724546,\n",
      "       2904055139, 1622691918, 2749571352, 3221501794, 2328908235,\n",
      "       2060574112, 2616436984, 2016752532, 1702020574, 1740032736,\n",
      "       1307327255, 1856610744,  133631195, 1929707924, 4066276437,\n",
      "       2156082069, 2313191756, 1657723640, 2074989121, 3995535233,\n",
      "       3189453248, 1573880126, 3201665929, 3130914667, 1971367227,\n",
      "       2833128863, 2172336343,  878956210, 3303706246, 2551121865,\n",
      "       2797873624, 1224317679, 3452715872, 3369528055, 2986999205,\n",
      "       3172589096, 1285932649, 2347911043, 3435993798,  804946700,\n",
      "       3795616967, 4078482457, 1256109605,  743648322,  972548620,\n",
      "       2901279231, 2490054455, 3665677756,  325405769, 2066136336,\n",
      "       2142790100, 4001830817,  589178309,  103967555, 1476924372,\n",
      "       2992390570, 4285137286, 2668543183, 3248086965, 2453150185,\n",
      "       1895093327, 1401851807, 2173010126, 3510547839, 1323597215,\n",
      "       2811366756, 3790898648,  991796091, 2986588952, 3160372985,\n",
      "        400659517, 4031430891, 1741076925, 3259084567, 3886240344,\n",
      "       2582512895, 1160668674,  882090754, 3939631066, 1459527231,\n",
      "       1197624270,  508963424, 2567834850, 2112281751, 2262614023,\n",
      "        408679850,  655112583, 2883173679,  914249925, 2459981622,\n",
      "       1546901663, 2670884579,  627571211, 2447020572, 2968117026,\n",
      "        993902588, 2345687723,  744306347, 2050151241,  945704888,\n",
      "       4128580110, 1267637544, 4108409578,   91226758, 2455719844,\n",
      "       1500706724, 1912172290,  631044237, 3764055713, 4190200839,\n",
      "        651247245, 3000034833, 3286241051,  171271939, 3796506609,\n",
      "       1499542160, 3083874012,  684299631, 3341983470,   68532788,\n",
      "       2010170172, 2122082154, 4198025411,  591193914, 1933084035,\n",
      "       2296438822, 1310688340, 2439081975, 3107295897,  655315961,\n",
      "       1320246685, 3500116985,  279275625, 2757795089, 3872768009,\n",
      "       2705608421, 1975429394, 3903248935, 2782561014,  553414637,\n",
      "       3246050689, 3793824432, 3227318656, 2806031233, 2923352389,\n",
      "       3241864972, 3764770185, 2053423554, 1199360679, 4168469636,\n",
      "       3980338100,  610720144, 1933067860,  640578744,   66896464,\n",
      "        881372046, 3106747030,  923540170,  516729808, 2202683740,\n",
      "       1291698054, 1763610856, 1837705714,  523220510, 1431226242,\n",
      "        257193765, 3306678475, 1270169236,  827872372,   77325389,\n",
      "       2194264549, 2760791711,  664351842,  905949497, 2902037925,\n",
      "       2032390453, 3099674093, 3059241401, 2760261354, 3741220367,\n",
      "       1124392456,   32062287, 4019533726, 2887996885,  331906803,\n",
      "       2285938561, 2953627680, 3978046746,  860033583, 1822002015,\n",
      "       1972608728, 3235932833, 3860056936, 3513382984, 1377164270,\n",
      "       3418135514,  361396369, 2048426345, 4022650319,  243391479,\n",
      "       1054685553, 1443626845, 2677896806, 2729110636, 2069202041,\n",
      "       3091361235, 3286257980,  966836577,  234144088, 2989762517,\n",
      "       2465255627, 2276452617, 4089327282, 1923125894,  776248527,\n",
      "       2623606592, 4127502184, 1445507518, 3810936714, 2594370628,\n",
      "       3774012696, 1464712382,  531140299, 2948997183, 2104380955,\n",
      "       1141752726,  914225553,  896207933,  202996067, 2645978613,\n",
      "        401241465, 1568808444, 1914354783,  194815424, 2162164860,\n",
      "       3031939750,  409307759, 3722077854, 1214287139, 3843975495,\n",
      "       1472357271, 1305680831, 3720771402, 4113540569, 1373234179,\n",
      "       3758801833, 1800884708, 1208566935, 3575046820, 1318035556,\n",
      "        757188618, 1105232913, 4114305990, 1354256779,  642357994,\n",
      "        798398127, 3800782441, 4293005806, 1036423658,  516496264,\n",
      "       1313459699, 2558165806, 2566168871, 2372383374, 2861629972,\n",
      "       2833980192,  775785057, 1604371750,  123969193, 1628015450,\n",
      "        519012332,  135586573,  346363111,  667431091, 3533481735,\n",
      "       2853198449, 2482625716,  882522670, 1488396484, 1415196243,\n",
      "       2219704764, 1920349962, 2322748238, 1362367877,  447135180,\n",
      "        911460128, 1853843275, 3909990563, 2160969711, 1656479607,\n",
      "       1558746756, 1183530378,  550128615, 1949297644, 1618989243,\n",
      "       3880767078, 1290032161, 1609027131, 2792932787, 1714529952,\n",
      "       1544733007, 2346272202, 2751680448, 4031644823, 4288646813,\n",
      "       3236926164, 2106771785, 3273473980, 3257154985, 1311271691,\n",
      "       3417961565,  426160760, 4287542972, 2170780127, 3095578110,\n",
      "       3987947029, 3245021377, 3525421458, 3615307358, 2815810412,\n",
      "       2666188936,  471200921, 2322835423,  935868638, 2817025541,\n",
      "       3462522037,  124018144, 3849081605, 1696699123, 2397447085,\n",
      "       1287093867,  876375354,  650548108, 2987997469,  300730223,\n",
      "       2171111409,  197155029, 1737886394, 2280044029, 3490403562,\n",
      "       1166561682, 3282579531,  819822126,  244475931, 1124453751,\n",
      "       3648632453, 1140105375, 1745213411, 3202118113, 4127361265,\n",
      "       2300824384, 1369549656,  822791039,   42771479, 1214584158,\n",
      "       3142706439, 1095190845, 3201655702, 4285124397,  296097496,\n",
      "       3317016816, 4064783643, 2667976013, 3847544901, 2435815922,\n",
      "       1454815525, 3305243286, 1061398989, 4268123955, 1448073460,\n",
      "       2548880311, 2488781430, 3623591201,  532388632, 3437227884,\n",
      "       1414781466,  383361643,  111761045,  775017421, 1935086705,\n",
      "       2677221998, 1197990019, 1638198224, 2270125942, 1334458472,\n",
      "        488631827, 1318389870, 3494483423,  435208762], dtype=uint32), 37, 0, 0.0)\n"
     ]
    }
   ],
   "source": [
    "import numpy as np\n",
    " \n",
    "np.random.rand()\n",
    " \n",
    "print(np.random.get_state())"
   ]
  },
  {
   "cell_type": "code",
   "execution_count": 3,
   "metadata": {},
   "outputs": [
    {
     "name": "stdout",
     "output_type": "stream",
     "text": [
      "0.883616351834163\n",
      "0.5758610681429641\n",
      "0.0410325262820852\n",
      "0.19629034753640517\n"
     ]
    }
   ],
   "source": [
    "import numpy as np\n",
    "#generate the first number \n",
    "R1=np.random.RandomState() \n",
    "R2=np.random.RandomState() \n",
    "#generate the first random number from R1\n",
    "print(R1.rand())\n",
    "#generate the first random number from R2\n",
    "print(R2.rand())\n",
    "#generate the second random number from R1\n",
    "print(R1.rand())\n",
    "#generate the second random number from R2\n",
    "print(R2.rand())"
   ]
  },
  {
   "cell_type": "markdown",
   "metadata": {},
   "source": [
    "# Generating fixed stream"
   ]
  },
  {
   "cell_type": "markdown",
   "metadata": {},
   "source": [
    "## (1) Fixing the seed"
   ]
  },
  {
   "cell_type": "code",
   "execution_count": 4,
   "metadata": {},
   "outputs": [
    {
     "name": "stdout",
     "output_type": "stream",
     "text": [
      "[0.77132064 0.02075195 0.63364823 0.74880388 0.49850701]\n",
      "[0.22479665 0.19806286 0.76053071 0.16911084 0.08833981]\n"
     ]
    }
   ],
   "source": [
    "import numpy as np\n",
    "#set up the seed\n",
    "np.random.seed(10)\n",
    "#generate the first five numbers \n",
    "print(np.random.rand(5))\n",
    "#generate next 5 five numbers \n",
    "print(np.random.rand(5))"
   ]
  },
  {
   "cell_type": "markdown",
   "metadata": {},
   "source": [
    "## (2) Fixing RandomState "
   ]
  },
  {
   "cell_type": "code",
   "execution_count": 5,
   "metadata": {},
   "outputs": [
    {
     "name": "stdout",
     "output_type": "stream",
     "text": [
      "[0.77132064 0.02075195 0.63364823 0.74880388 0.49850701]\n",
      "[0.64414354 0.38074849 0.66304791 0.16365073 0.96260781]\n",
      "[0.22479665 0.19806286 0.76053071 0.16911084 0.08833981]\n"
     ]
    }
   ],
   "source": [
    "import numpy as np\n",
    "#generate the first random state using seed=10\n",
    "R1=np.random.RandomState(seed=10)\n",
    "#generate the second random state using seed=20\n",
    "R2=np.random.RandomState(seed=30)\n",
    "#generate the first 5 random numbers from the first stream\n",
    "print(R1.rand(5))\n",
    "#generate the first 5 random numbers from the second stream\n",
    "print(R2.rand(5))\n",
    "#generate the next 5 random numbers from the first stream\n",
    "print(R1.rand(5))"
   ]
  },
  {
   "cell_type": "markdown",
   "metadata": {},
   "source": [
    "## (3) Using seed and RandomState at the same time."
   ]
  },
  {
   "cell_type": "code",
   "execution_count": 6,
   "metadata": {},
   "outputs": [
    {
     "name": "stdout",
     "output_type": "stream",
     "text": [
      "[0.77132064 0.02075195 0.63364823 0.74880388 0.49850701]\n",
      "[0.77132064 0.02075195 0.63364823 0.74880388 0.49850701]\n",
      "[0.68535982 0.95339335 0.00394827 0.51219226 0.81262096]\n",
      "[0.22479665 0.19806286 0.76053071 0.16911084 0.08833981]\n"
     ]
    }
   ],
   "source": [
    "import numpy as np\n",
    " \n",
    "#generate the first random state using seed=10\n",
    "RNG1=np.random.RandomState(seed=10)\n",
    "#generate the second random state using seed=10\n",
    "RNG2=np.random.RandomState(seed=10)\n",
    "#generate the first 5 random numbers from the first stream\n",
    "print(RNG1.rand(5))\n",
    "#generate the first 5 random numbers from the second stream\n",
    "print(RNG2.rand(5))\n",
    "#generate the first 5 random numbers from the \"global\" stream\n",
    "print(np.random.rand(5))\n",
    "#generate the next 5 random numbers from the first stream\n",
    "print(RNG1.rand(5))\n"
   ]
  },
  {
   "cell_type": "markdown",
   "metadata": {},
   "source": [
    "# Monte-Carlo integration\n",
    "In this lecture, we use the random numbers to perform an important task: Monte-Carlo integration.\n",
    "\n",
    "Learning objective:\n",
    "\n",
    "able to perform one-dimensional integral problems using MC integration\n",
    "\n",
    "get familiar with list and array\n",
    " "
   ]
  }
 ],
 "metadata": {
  "kernelspec": {
   "display_name": "base",
   "language": "python",
   "name": "python3"
  },
  "language_info": {
   "codemirror_mode": {
    "name": "ipython",
    "version": 3
   },
   "file_extension": ".py",
   "mimetype": "text/x-python",
   "name": "python",
   "nbconvert_exporter": "python",
   "pygments_lexer": "ipython3",
   "version": "3.10.9"
  }
 },
 "nbformat": 4,
 "nbformat_minor": 2
}
