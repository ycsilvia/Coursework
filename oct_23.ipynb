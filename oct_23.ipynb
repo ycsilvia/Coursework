{
 "cells": [
  {
   "cell_type": "code",
   "execution_count": null,
   "metadata": {},
   "outputs": [],
   "source": [
    "import numpy as np\n",
    "from scipy.stats import expon, poisson, uniform"
   ]
  },
  {
   "cell_type": "code",
   "execution_count": null,
   "metadata": {},
   "outputs": [],
   "source": [
    "def poisson_pr(lam, T):\n",
    "    S = []\n",
    "    t = 0\n",
    "    dt = expon.rvs(scale=1/lam)\n",
    "    while t + dt < T:\n",
    "        t += dt\n",
    "        S.append(t)\n",
    "        dt = expon.rvs(scale=1/lam)\n",
    "    return S"
   ]
  },
  {
   "cell_type": "code",
   "execution_count": null,
   "metadata": {},
   "outputs": [],
   "source": [
    "def poisson_pr(lam, T):\n",
    "    N = poisson.rvs(lam * T)\n",
    "    Y = T * uniform.rvs(size=N)\n",
    "    return np.sort(Y)"
   ]
  },
  {
   "cell_type": "code",
   "execution_count": null,
   "metadata": {},
   "outputs": [],
   "source": [
    "def nhpp(lam, T, lam_max):\n",
    "    N = poisson.rvs(lam_max * T)\n",
    "    Y = np.sort(T * uniform.rvs(size=N))\n",
    "    S = []\n",
    "    for y in Y:\n",
    "        p = lam(y) / lam_max\n",
    "        if uniform.rvs() < p:\n",
    "            S.append(y)\n",
    "    return S\n"
   ]
  }
 ],
 "metadata": {
  "language_info": {
   "name": "python"
  }
 },
 "nbformat": 4,
 "nbformat_minor": 2
}
