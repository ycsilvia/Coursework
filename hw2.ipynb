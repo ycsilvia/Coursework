{
 "cells": [
  {
   "cell_type": "code",
   "execution_count": 2,
   "metadata": {},
   "outputs": [],
   "source": [
    "import numpy as np\n",
    "from scipy.stats import uniform, poisson, geom, ttest_ind\n",
    "\n",
    "uni = 'yc4153'"
   ]
  },
  {
   "cell_type": "markdown",
   "metadata": {},
   "source": [
    "## Problem\n",
    "\n",
    "An app with microtransactions offers a free but limited tier. The vast majority of customers do not spend any money on the app, a small group spends a small amount, and another, even smaller group consists of very heavy spenders. Let's suppose all spending is integer valued.\n",
    "\n",
    "We can model the pmf of this as follows:\n",
    "\n",
    "$$p(x) = p_1 \\cdot 1_{\\{x=0\\}} + p_2 \\cdot g_2(x) + p_3 \\cdot g_3(x)$$\n",
    "\n",
    "where $p_1 + p_2 + p_3 = 1$, $g_2$ is the pmf of a poisson distribution with parameter $\\lambda$, and $g_3$ is the pmf of $5+Y$ where $Y\\sim geo(q)$.\n",
    "\n",
    "Currently, the parameters here are:\n",
    "\n",
    "$$p_1 = 0.98, p_2=0.019, p_3 = .001, \\lambda=3, q=0.1$$\n",
    "\n",
    "We are never able to observed what group a person is in, just their revenue.\n",
    "\n",
    "Product management has proposed a change in the conversion funnel that they believe will increase conversions, particularly amongst the second group. They want to perform an A/B test of this with $n$ customers. As the distribution of revenues is quite skewed, they wish to explicitly compute the power of this test in the event that the test group has the same values of $\\lambda$ and $q$, but $p_1 = 0.975, p_2=0.024, p_3=.001$ (i.e. the probability of getting a significant result if this particular alternative is true). Assume they are doing a one-sided two-sample t-test with level $\\alpha=0.01$. \n",
    "\n",
    "Write the following functions.\n",
    "\n",
    "- generate_counterfactuals(n, lam, q) which returns an n x 2 array, where the first column is a poisson random variable with parameter lam for each person, and the second column is a geometric random variable with parameter q for each person.\n",
    "\n",
    "- generate_revenues(n, lam, q, p) which calls generate_counterfactuals, and then generates a revenue for each individual. \n",
    "\n",
    "- run_experiment(n, lam, q, p1, p2) which creates the two test groups of size n each, calculates their mean revenue, and performs a two sample t-test on them. It should return a 1 if we reject the null hypothesis that the groups have the same, and 0 if otherwise. Let p1 be the mixing parameters for the control group and p2 be the mixing parameters for experimental group. For the t-test use scipy.stats.ttest_ind, do not assume equal variance between the two groups.\n",
    "\n",
    "- calc_power(n, m, lam, q, p1, p2) which runs the experiment m times to calculate the power. \n",
    "\n",
    "Note: In generate_counterfactuals, the second column should generate a geometric distribution + 5"
   ]
  },
  {
   "cell_type": "code",
   "execution_count": 8,
   "metadata": {},
   "outputs": [],
   "source": [
    "def generate_counterfactuals(n, lam, q):\n",
    "    poisson_samples = poisson.rvs(lam, size=n)\n",
    "    geom_samples = 5 + geom.rvs(q, size=n)\n",
    "    return np.column_stack((poisson_samples, geom_samples))\n",
    "\n",
    "\n",
    "def generate_revenues(n, lam, q, p):\n",
    "    counterfactuals = generate_counterfactuals(n, lam, q)\n",
    "    revenues = np.zeros(n)\n",
    "    for i in range(n):\n",
    "        U = np.random.rand()\n",
    "        if U < p[0]:\n",
    "            revenues[i] = 0\n",
    "        elif U < p[0] + p[1]:\n",
    "            revenues[i] = counterfactuals[i,0]\n",
    "        else:\n",
    "            revenues[i] = counterfactuals[i,1]\n",
    "    return revenues\n",
    "\n",
    "\n",
    "def run_experiment(n, lam, q, p1, p2):\n",
    "    control_revenues = generate_revenues(n, lam, q, p1)\n",
    "    experimental_revenues = generate_revenues(n, lam, q, p2)\n",
    "    \n",
    "    _, p_value = ttest_ind(control_revenues, experimental_revenues, equal_var=False, alternative='less')\n",
    "    \n",
    "    if p_value < 0.01:\n",
    "        return 1\n",
    "    else:\n",
    "        return 0\n",
    "    \n",
    "\n",
    "def calc_power(n, m, lam, q, p1, p2):\n",
    "    rejected_count = 0\n",
    "    for i in range(m):\n",
    "        rejected = run_experiment(n, lam, q, p1, p2)\n",
    "        rejected_count += rejected\n",
    "    power = rejected_count / m\n",
    "    return power\n"
   ]
  },
  {
   "cell_type": "code",
   "execution_count": 4,
   "metadata": {},
   "outputs": [],
   "source": [
    "def generate_counterfactuals(n, lam, q):\n",
    "    poisson_samples = poisson.rvs(lam, size=n)\n",
    "    geom_samples = 5 + geom.rvs(q, size=n)\n",
    "    return np.column_stack((poisson_samples, geom_samples))\n",
    "\n",
    "def generate_revenues(n, lam, q, p):\n",
    "    counterfactuals = generate_counterfactuals(n, lam, q)\n",
    "    revenues = np.zeros(n)\n",
    "    for i in range(n):\n",
    "        sample = np.random.rand()\n",
    "        if sample < p[0]:\n",
    "            revenues[i] = 0\n",
    "        elif sample < p[0] + p[1]:\n",
    "            revenues[i] = counterfactuals[i, 0]\n",
    "        else:\n",
    "            revenues[i] = counterfactuals[i, 1]\n",
    "    return revenues\n",
    "\n",
    "def run_experiment(n, lam, q, p1, p2):\n",
    "    control_revenues = generate_revenues(n, lam, q, p1)\n",
    "    experimental_revenues = generate_revenues(n, lam, q, p2)\n",
    "    _, p_value = ttest_ind(control_revenues, experimental_revenues, equal_var=False, alternative='less')\n",
    "    return 1 if p_value < 0.01 else 0\n",
    "\n",
    "def calc_power(n, m, lam, q, p1, p2):\n",
    "    count = 0\n",
    "    for _ in range(m):\n",
    "        count += run_experiment(n, lam, q, p1, p2)\n",
    "    return count / m"
   ]
  },
  {
   "cell_type": "code",
   "execution_count": 24,
   "metadata": {},
   "outputs": [
    {
     "data": {
      "text/plain": [
       "1.0"
      ]
     },
     "execution_count": 24,
     "metadata": {},
     "output_type": "execute_result"
    }
   ],
   "source": [
    "p1 = [0.98, 0.019, 0.001]\n",
    "p2 = [0.975, 0.024, 0.001]\n",
    "lam = 3\n",
    "q = 0.1\n",
    "calc_power(1000000, 100, lam, q, p1, p2)"
   ]
  },
  {
   "cell_type": "code",
   "execution_count": 15,
   "metadata": {},
   "outputs": [
    {
     "data": {
      "text/plain": [
       "0"
      ]
     },
     "execution_count": 15,
     "metadata": {},
     "output_type": "execute_result"
    }
   ],
   "source": [
    "run_experiment(2, lam, q, p1, p2)"
   ]
  },
  {
   "cell_type": "code",
   "execution_count": 7,
   "metadata": {},
   "outputs": [
    {
     "data": {
      "text/plain": [
       "array([[ 1,  7],\n",
       "       [ 2,  9],\n",
       "       [ 5, 10],\n",
       "       [ 5, 17],\n",
       "       [ 0,  6],\n",
       "       [ 3,  7],\n",
       "       [ 3, 26],\n",
       "       [ 2, 14],\n",
       "       [ 2, 37],\n",
       "       [ 3, 10]], dtype=int64)"
      ]
     },
     "execution_count": 7,
     "metadata": {},
     "output_type": "execute_result"
    }
   ],
   "source": [
    "counterfactuals = generate_counterfactuals(10, lam, q)\n",
    "counterfactuals"
   ]
  },
  {
   "cell_type": "code",
   "execution_count": 19,
   "metadata": {},
   "outputs": [],
   "source": [
    "def generate_counterfactuals(n, lam, q):\n",
    "    poisson_sample = poisson.rvs(mu=lam, size=n)\n",
    "    geo_sample = 5 + geom.rvs(p=q, size=n)\n",
    "    return np.column_stack((poisson_sample, geo_sample))\n",
    "\n",
    "\n",
    "def generate_revenues(n, lam, q, p):\n",
    "    counterfactuals = generate_counterfactuals(n,lam,q)\n",
    "    revenues = np.zeros(n)\n",
    "    for i in range(n):\n",
    "        sample = np.random.rand()\n",
    "        if sample < p[0]:\n",
    "            revenues[i] = 0\n",
    "        elif sample < p[0] + p[1]:\n",
    "            revenues[i] = counterfactuals[i,0]\n",
    "        else:\n",
    "            revenues[i] = counterfactuals[i,1]\n",
    "    return revenues\n",
    "\n",
    "def run_experiment(n, lam, q, p1, p2):\n",
    "    revenue_1 = generate_revenues(n,lam, q, p1)\n",
    "    revenue_2 = generate_revenues(n,lam, q, p2)\n",
    "    t_test, p_value = ttest_ind(revenue_1,revenue_2, equal_var = False)\n",
    "    if p_value < 0.01:\n",
    "        return 1\n",
    "    else:\n",
    "        return 0\n",
    "\n",
    "def calc_power(n, m, lam, q, p1, p2):\n",
    "    experiment = 0\n",
    "    for i in range(m):\n",
    "        experiment += run_experiment(n,lam,q,p1,p2)\n",
    "    power = experiment/m\n",
    "    return power"
   ]
  }
 ],
 "metadata": {
  "kernelspec": {
   "display_name": "base",
   "language": "python",
   "name": "python3"
  },
  "language_info": {
   "codemirror_mode": {
    "name": "ipython",
    "version": 3
   },
   "file_extension": ".py",
   "mimetype": "text/x-python",
   "name": "python",
   "nbconvert_exporter": "python",
   "pygments_lexer": "ipython3",
   "version": "3.10.9"
  }
 },
 "nbformat": 4,
 "nbformat_minor": 2
}
