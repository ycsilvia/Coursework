{
 "cells": [
  {
   "cell_type": "markdown",
   "metadata": {},
   "source": [
    "# 1: Decision Optimization with hyperopt\n",
    "\n",
    "## Overview\n",
    "\n",
    "In this lecture, we give an introduction to decision optimization \n",
    "\n",
    "Course objective:\n",
    "\n",
    "- Understand how to use simulation for decision optimization\n",
    "\n",
    "- Understand the basic idea behind the following search algorithms:\n",
    "\n",
    "    - Grid search\n",
    "\n",
    "    - Random search\n",
    "\n",
    "    - Tree-structured Parzen estimator. \n",
    "\n",
    "- how to use hyperopt to perform search."
   ]
  },
  {
   "cell_type": "markdown",
   "metadata": {},
   "source": [
    "# Decision-making optimization\n",
    "\n",
    "To high-light behind using simulation for decision-making optimization, let's go back to a single-server queueing system. \n",
    "\n",
    "Assume that we have a single-server queueing system with the following elements:\n",
    "\n",
    "- The arrival process follows homogeneous Poisson process with ($\\lambda_\\text{a}$ =7)\n",
    "\n",
    "- Service time follows t=0.2\n",
    "\n",
    "- First come first sequence \n",
    "\n",
    "- Unlimited queues\n",
    "\n",
    "- The shop opens for 8 units of time. At open for 8 hours,  the store finishes serving the current customer and turns away all the other customers. \n",
    "\n",
    "For a customer we finish servicing, the business gets revenue of 4. At the same time, the company also cares about customers who cannot receive the service as they might not come back in the future. The company converts the loss of customers to a loss of revenue of 2. The company wants to maximize 4s−2i between 0 and 8, where s is the number of customers served, and i is the number of customers lost.\n",
    "\n",
    "The company is trying to look for the following options:\n",
    "\n",
    "- Limit the capacity of queue to n. \n",
    "\n",
    "Converting the question to optimization question:\n",
    "\n",
    "Objective function: 4s−2i with no constraints. \n",
    "\n",
    "Constraints: n=1,2,3,...\n",
    "\n",
    "How is this optimization question different from the regular optimization problems we saw from an optimization course? s and i are both complicated functions of system input. In optimization, this is called black-box objective function. As the objective function itself is random, we need to choose a method that is suitable for the optimization in this case. "
   ]
  },
  {
   "cell_type": "markdown",
   "metadata": {},
   "source": [
    "# Optimizing decision variables\n",
    "\n",
    "Let's first look at two simple algorithms: Grid search and Random search \n",
    "\n",
    "- Grid search \n",
    "\n",
    "    - We divide our decision variable into different segments\n",
    "\n",
    "    - We will try out a value in each segment and compute the objective value\n",
    "\n",
    "    - Choose the best value to optimize the objective function\n",
    "\n",
    "- Random search \n",
    "\n",
    "    - Repeat the following N times\n",
    "\n",
    "        - Randomly sample a value from the whole space and compute the objective value \n",
    "\n",
    "    - Choose the best value to optimize the objective function"
   ]
  },
  {
   "cell_type": "markdown",
   "metadata": {},
   "source": [
    "One of the methods is called Tree-structured Parzen estimators (TPE).\n",
    "\n",
    "TPE model is to start from random search. We sample from x from its space and compute the corresponding objective function value y. Once we get enough samples, the model will then split the outcomes using y∗ as the cutoff point.  Without losing generality, assume that we are performing a minimization problem. Then samples with values y < y∗ are all better outcomes, while sample with values y > y∗ are all worse outcomes.\n",
    "\n",
    "Based on the outcomes, we can now construct two distributions of x based on these two sets of samples: One is the distribution constructed using the good sample values x (those leading to small y values), while the other one is the distribution constructed using the bad sample values x (those leading to large y values). More formally, let's define them as \n",
    " \n",
    "$$\\begin{equation}\n",
    "p(x|y) =\n",
    "   \\left\\{\\begin{array}{lr}\n",
    "       l(x), & if y < y* \\\\\n",
    "       g(x), & otherwise \n",
    "    \\end{array}\\right.\n",
    " \\end{equation}$$"
   ]
  },
  {
   "cell_type": "markdown",
   "metadata": {},
   "source": [
    "One easy way to construct these distributions is by using kernel method (for example Gaussian kernel). This can be done easily using scipy.stats.gaussian_kde() . The math behind how to find such distribution is not required. For those who are interested, please refer to this page (https://en.wikipedia.org/wiki/Kernel_density_estimation). \n",
    "\n",
    "It can be proved (page 4, reading) that the next sampling point should be the value that makes $l(x)/g(x)$ largest. The intuition is that the next sample should be the one that are very likely to happen in l(x) but less likely to happen at g(x). In addition, to make sure we still get the exploration going, people usually generate n samples from l distribution and choose the ones with the highest $l(x)/g(x)$ to explore. \n",
    "\n",
    "The following picture shows a visual comparison between grid search and random search. \n",
    "\n",
    "https://medium.com/criteo-engineering/hyper-parameter-optimization-algorithms-2fe447525903"
   ]
  },
  {
   "cell_type": "markdown",
   "metadata": {},
   "source": [
    "# Use hyperopt for search\n",
    "\n",
    "We can use hyperopt to perform TPE. (https://github.com/hyperopt/hyperopt/wiki/FMin)\n",
    "\n",
    "To perform optimization, we need to define two main components:\n",
    "\n",
    "- Objective function. \n",
    "\n",
    "    - This is the function that we want to minimize or maximize\n",
    "\n",
    "    - In the previous example, our function can be defined as "
   ]
  },
  {
   "cell_type": "code",
   "execution_count": 5,
   "metadata": {},
   "outputs": [],
   "source": [
    "def objective(x):\n",
    "    return -(3*x-3)**3+(x+20)**3"
   ]
  },
  {
   "cell_type": "markdown",
   "metadata": {},
   "source": [
    "- use hyperopt.fmin to perform minimization"
   ]
  },
  {
   "cell_type": "code",
   "execution_count": 6,
   "metadata": {},
   "outputs": [
    {
     "ename": "NameError",
     "evalue": "name 'hyperopt' is not defined",
     "output_type": "error",
     "traceback": [
      "\u001b[1;31m---------------------------------------------------------------------------\u001b[0m",
      "\u001b[1;31mNameError\u001b[0m                                 Traceback (most recent call last)",
      "Cell \u001b[1;32mIn[6], line 1\u001b[0m\n\u001b[1;32m----> 1\u001b[0m best \u001b[38;5;241m=\u001b[39m \u001b[43mhyperopt\u001b[49m\u001b[38;5;241m.\u001b[39mfmin(fn\u001b[38;5;241m=\u001b[39mobjective,\n\u001b[0;32m      2\u001b[0m     space\u001b[38;5;241m=\u001b[39mhyperopt\u001b[38;5;241m.\u001b[39mhp\u001b[38;5;241m.\u001b[39muniform(\u001b[38;5;124m'\u001b[39m\u001b[38;5;124mx\u001b[39m\u001b[38;5;124m'\u001b[39m, \u001b[38;5;241m-\u001b[39m\u001b[38;5;241m10\u001b[39m, \u001b[38;5;241m10\u001b[39m),\n\u001b[0;32m      3\u001b[0m     algo\u001b[38;5;241m=\u001b[39mhyperopt\u001b[38;5;241m.\u001b[39mtpe\u001b[38;5;241m.\u001b[39msuggest,\n\u001b[0;32m      4\u001b[0m     max_evals\u001b[38;5;241m=\u001b[39m\u001b[38;5;241m100\u001b[39m)\n",
      "\u001b[1;31mNameError\u001b[0m: name 'hyperopt' is not defined"
     ]
    }
   ],
   "source": [
    "best = hyperopt.fmin(fn=objective,\n",
    "    space=hyperopt.hp.uniform('x', -10, 10),\n",
    "    algo=hyperopt.tpe.suggest,\n",
    "    max_evals=100)"
   ]
  },
  {
   "cell_type": "markdown",
   "metadata": {},
   "source": [
    "- fn gives the callable. If the task is maximization, then the objective function should return -1 times the objective value. \n",
    "\n",
    "- space defines the distribution of the search space \n",
    "\n",
    "    - Access here for a list of commonly used space options\n",
    "\n",
    "    - For discrete uniform, use hyperopt.hp.quniform('x', lower, upper, q)\n",
    "\n",
    "        - For example, if -20,-10,0,10, 20. Use hyperopt.hp.quniform('x', -20, 20, 10)\n",
    "\n",
    "- algo gives the algorithm used for search. \n",
    "\n",
    "    - tpe.suggest uses the tree-structured Parzen estimator.\n",
    "\n",
    "    - rand.suggest uses random search\n",
    "\n",
    "- max_evals specifies how many evaluations should be performed. "
   ]
  },
  {
   "cell_type": "code",
   "execution_count": null,
   "metadata": {},
   "outputs": [
    {
     "name": "stdout",
     "output_type": "stream",
     "text": [
      "100%|██████████| 300/300 [00:10<00:00, 29.18trial/s, best loss: 263.25136559835096]\n",
      "{'x': -4.507111801227611, 'y': -3.0}\n"
     ]
    }
   ],
   "source": [
    "import hyperopt \n",
    "def objective(params):\n",
    "  x=params[0]\n",
    "  y=params[1]\n",
    "  return -1*(-(x+y+12)**3-y**4+x**3)\n",
    "\n",
    "trials=hyperopt.Trials()\n",
    "best = hyperopt.fmin(fn=objective,\n",
    "    space=[hyperopt.hp.uniform('x', -10, 10),hyperopt.hp.quniform('y', -5, 5,1)],\n",
    "    algo=hyperopt.tpe.suggest,\n",
    "    max_evals=300,\n",
    "    trials=trials)\n",
    "print(best)"
   ]
  },
  {
   "cell_type": "markdown",
   "metadata": {},
   "source": [
    "# multiple parameter search and Track history\n",
    "\n",
    "In this example, we study how to maximize the following question\n",
    "\n",
    "- $-(x+y+12)**3 - y**4 + x**3$\n",
    "    - where -10 < x < 10, and y = -10, -9, -8, ..., 9, 10\n",
    "    \n",
    "Again, let's define our objective function"
   ]
  },
  {
   "cell_type": "code",
   "execution_count": null,
   "metadata": {},
   "outputs": [],
   "source": [
    "def objective(params):\n",
    "  x=params[0]\n",
    "  y=params[1]\n",
    "  return -1*(-(x+y+12)**3-y**4+x**3)"
   ]
  },
  {
   "cell_type": "markdown",
   "metadata": {},
   "source": [
    "Notice two important things:\n",
    "\n",
    "- This function can only have one argument. As a result, we pass a list of parameters. The first parameter is assigned to x, while the second parameter is assigned to y.\n",
    "\n",
    "- Since we are performing maximization. We multiple the objective value by minus 1 to convert this question to a minimization question. \n",
    "\n",
    "For the minimization step, we specify"
   ]
  },
  {
   "cell_type": "code",
   "execution_count": null,
   "metadata": {},
   "outputs": [],
   "source": [
    "best = hyperopt.fmin(fn=objective,\n",
    "    space=[hyperopt.hp.uniform('x', -10, 10),hyperopt.hp.quniform('y', -5, 5,1)],\n",
    "    algo=hyperopt.tpe.suggest,\n",
    "    max_evals=300)\n",
    "print(best)"
   ]
  },
  {
   "cell_type": "code",
   "execution_count": null,
   "metadata": {},
   "outputs": [],
   "source": [
    "import hyperopt \n",
    "def objective(params):\n",
    "  x=params[0]\n",
    "  y=params[1]\n",
    "  return -1*(-(x+y+12)**3-y**4+x**3)\n",
    "\n",
    "best = hyperopt.fmin(fn=objective,\n",
    "    space=[hyperopt.hp.uniform('x', -10, 10),hyperopt.hp.quniform('y', -5, 5,1)],\n",
    "    algo=hyperopt.tpe.suggest,\n",
    "    max_evals=300)\n",
    "print(best)\n"
   ]
  },
  {
   "cell_type": "markdown",
   "metadata": {},
   "source": [
    "In addition, if we want to track the optimization history, we can use hyperopt.Trials(). The modification is as follows:"
   ]
  },
  {
   "cell_type": "code",
   "execution_count": null,
   "metadata": {},
   "outputs": [],
   "source": [
    "trials=hyperopt.Trials()\n",
    "\n",
    "best = hyperopt.fmin(fn=objective,\n",
    "    space=[hyperopt.hp.uniform('x', -10, 10),hyperopt.hp.quniform('y', -5, 5,1)],\n",
    "    algo=hyperopt.tpe.suggest,\n",
    "    max_evals=300,\n",
    "    trials=trials)"
   ]
  },
  {
   "cell_type": "markdown",
   "metadata": {},
   "source": [
    "The trials objective is a dictionary that stores all the optimization histories.\n",
    "\n",
    " For example, trials.vals gives the history of x and y values. trial.results gives the minimization outcome from each step. "
   ]
  },
  {
   "cell_type": "code",
   "execution_count": null,
   "metadata": {},
   "outputs": [
    {
     "name": "stdout",
     "output_type": "stream",
     "text": [
      "100%|██████████| 300/300 [00:03<00:00, 80.79trial/s, best loss: 263.5108900840554] \n",
      "{'x': [3.5935744471651105, 8.635121124209817, -7.916771691620834, -8.03184335652681, -8.601394099045551, 1.8495790911143732, 5.123260693700082, -2.1565045799806644, -9.883881344882731, 3.6636499957501716, -5.434435460356721, 7.678439867339822, -1.1237592101654315, -8.261562174787038, 6.108786149126647, 9.783276986052872, 6.1724329733580205, 8.282470238957455, -8.298733555074282, 9.084173500793597, -3.555685305788072, -4.725546450265034, -5.3084372917219005, -4.83955263717494, -5.808420092849731, -0.059399956501061446, -3.145198314211906, -6.4900174157617005, 1.2250282286175516, -4.326866676125135, -1.9428326446344633, -9.926117123987687, 0.16848931043925575, -6.944508244406338, -6.958847425061739, -3.397535531501685, 2.5339088520936794, -1.8963349334783355, -9.855028408612228, -0.36420329686606223, -4.797456440657934, -9.025659766095103, -7.432903699685925, -6.2577491451511, 3.7226105668359826, -0.9612946502907498, 1.1977380725052686, -2.9025151233017272, -9.048586933471618, -4.164131833667398, -2.5732217832525026, -5.1853850160349495, -1.4047895317351284, 2.848642808119986, -7.627034850893725, 4.846367956511626, -5.856162820999158, -4.344168480852302, -9.044934472794473, 0.7092011032960581, -3.935638965906968, -0.6007521624353318, 6.807238679921609, -1.6022407933118452, -8.051417985346056, -2.612443664193278, -4.834600896246984, -4.744641981172128, -3.8279232057805137, -6.672819748755799, -5.731636516846336, -4.407848402785484, -3.3382604022448876, -8.618849523609484, -7.259750674191836, -2.315297148175915, -5.415335419115929, 1.906214280619544, -9.482856843742466, -6.23693838364931, -4.960667700171105, -3.187275642728577, -0.9632548030233248, 0.4399920176492875, -6.013576022048552, -6.975527556132058, -7.826239064116474, -2.0185758676568155, -4.40558724519502, -0.151414314230764, -8.641773579530513, -3.686989653738512, 4.553472398810193, -0.6940213742468151, 1.3188740366516503, -1.2988503051513236, -2.6915194332988155, -6.696005144445453, 3.0789117578990948, -1.6541695886303662, -9.999748742070413, -5.597975780410977, -8.347305434465358, -7.295701476197792, 9.617957192919238, -9.502568697620237, -4.112738172683886, -3.031755457319221, -5.193769591907575, 1.833266668494307, -4.817447323227699, -2.412847532985768, 0.32677998218959203, -6.414102708980407, -7.697798480534363, 5.65532891602106, -3.4981339534099525, -6.013281950755582, 4.07116373602943, 0.9614281217121619, 7.780357695815505, -4.547262414158344, -9.53333909028795, -1.9306477519549325, -3.8876968943757877, -0.43819132066116584, -7.070228206638988, -8.212377361520984, -5.3729897927580605, -8.98547542491075, 1.9907046037301983, -2.8512814963790305, -1.0146078397967373, -1.6347485004544946, 0.06658969220412736, -6.623311973264931, -5.05386424395874, -3.477679929925435, -4.291602546949704, -7.5250133638181325, -2.23964571181609, -5.104699990848052, -5.75386144420066, -8.645234575910575, -6.2953052694868905, -4.670889828078349, -3.035181875600799, -5.619140428853437, -3.9250333596656004, -6.788948981876238, -2.672527646912587, -8.111566988931482, -6.080181512183938, -5.146332600336825, -3.3393197154309773, -0.6526341915993257, -4.239603227436702, -1.3197894666157421, -7.245505648885701, -2.1537698723842187, -5.149842655328906, -3.791264824584185, -9.182908905583016, -7.756062573607775, 0.6127612654057524, -5.485225408147933, -6.484349018037191, -4.550511150206183, 2.429997447543527, -0.10483850417816765, -9.698335671276197, 6.7368526230677155, -8.524596280520042, -2.4639246798482217, -1.6178695429340486, -6.89817553625463, -9.980318960925032, 1.3636672685298248, -4.965992484944016, -3.4820213648954095, -5.848951345129221, -4.043568044976665, -2.9648788151258105, -7.809305489443516, -7.335037041608736, 3.2253715430541954, -6.186957969383306, -9.031390155658537, -0.8873186242898541, -2.064852302929237, -5.28394520531528, -4.645931844681433, 8.68133704678441, -4.580122694189745, -3.1639034476964585, -3.7545165760487316, -1.2799050463471544, -1.7798903911189345, -2.564317058260097, -8.131086047932918, -6.397832199321885, -4.276720459156298, 1.581127529656821, -0.3925705495900944, 0.5601974671819967, -4.257671006332801, 1.0394872838292621, -5.747636237055522, 0.12020114680711647, -7.071790107303455, 4.097762204914009, -2.787885783452446, -4.716487646132228, 2.5880002457805213, -1.0988871120802282, -3.5358369153507265, -6.722716298174214, -1.9851484012447576, -8.783192070924107, -7.520188633933737, -5.566997944195369, -4.029373090720442, -5.949737275257652, -3.0889222369190077, -2.3788229456262644, -0.7560432347838755, -9.381426370997348, -4.451129875915712, -1.5516761660503646, -8.362524692174912, 5.23331579602718, -3.26156897288274, -0.2069042967734429, -6.453302613407182, -3.749137723809353, -5.011092004698997, 0.8707560356703237, -7.0211534960170345, -7.9771722143980215, -6.103212153057552, -9.940531558799279, -2.7572196162871787, -2.228676010949091, 0.2988517329652485, -5.561788565348215, -4.254868711171563, -7.487661364426284, -1.199558763964426, -4.666166429850672, -5.219520934935632, -4.794476892284969, -3.4809357275585078, -1.8139219887420306, -6.8435488536834335, -0.6234754807630658, 2.1843372817757043, -4.029842313261912, -4.706670319563659, -5.974648611672839, -2.980771509193068, -4.598298503069762, -6.4359649143187525, -4.73803428552315, -5.425074555606604, -3.6718989948183536, -7.263323707297316, -2.5721428117179985, -5.778820510822627, -7.779074774342584, -4.514673037787193, -5.086366113418908, -3.230278931863717, -6.618674778537535, -8.447824313948253, -3.832280865998214, -2.2117973640246604, -1.5044632980058616, -6.062336716164757, -5.30888441580902, -2.739856521383128, -8.918108287352261, -4.220663277583596, -4.827855986122668, -6.957125260510008, -3.331392188463507, -1.9262818292450117, -7.632193322695159, -6.317380535226004, -5.678436928852411, -3.6905838790851826, 9.828738870533488, -0.2656494079341165, -1.090332253806754, -4.369942474620762, -8.081429791896277, -2.3731523695306733, -9.410903030533103, -2.9373099267309533, -5.291699751858153, -6.637124245728293], 'y': [1.0, 5.0, -4.0, -2.0, -3.0, -0.0, 1.0, -4.0, -0.0, -0.0, -4.0, 3.0, 2.0, -4.0, -4.0, -2.0, -2.0, -2.0, -5.0, -2.0, -5.0, -3.0, -3.0, -1.0, -3.0, -1.0, -3.0, -1.0, -5.0, 4.0, 1.0, -3.0, -1.0, -3.0, -5.0, -3.0, -4.0, 1.0, 2.0, 0.0, -1.0, -2.0, 5.0, -4.0, 2.0, 1.0, -3.0, -4.0, -5.0, -0.0, -2.0, -5.0, -4.0, 4.0, 0.0, -2.0, -1.0, -3.0, -4.0, -2.0, 3.0, -1.0, -5.0, -3.0, -4.0, -3.0, -2.0, -2.0, -2.0, -3.0, -1.0, -2.0, -1.0, -0.0, -3.0, -4.0, -5.0, -3.0, -2.0, -1.0, -4.0, -5.0, -3.0, -0.0, -2.0, 1.0, -3.0, -4.0, -1.0, -2.0, -4.0, -5.0, 1.0, -3.0, -1.0, -2.0, -0.0, -4.0, -3.0, 3.0, -1.0, -5.0, -2.0, -3.0, -0.0, 2.0, 5.0, 1.0, -4.0, 4.0, -2.0, -1.0, -5.0, -3.0, -4.0, -2.0, 0.0, -3.0, -1.0, -4.0, -2.0, -5.0, -3.0, -4.0, -5.0, -1.0, -2.0, -3.0, -0.0, -1.0, -2.0, -4.0, -5.0, 2.0, -3.0, -3.0, -2.0, -1.0, 1.0, -4.0, -2.0, -0.0, -5.0, -3.0, -4.0, -2.0, -1.0, -2.0, -3.0, -2.0, -3.0, -1.0, -3.0, -2.0, -4.0, -2.0, -1.0, 0.0, -3.0, -4.0, -2.0, -3.0, -2.0, -1.0, -5.0, -3.0, -4.0, 1.0, 0.0, -2.0, -1.0, -4.0, -2.0, 2.0, -3.0, -1.0, -5.0, -3.0, 1.0, -4.0, -5.0, -0.0, -2.0, -1.0, -2.0, -3.0, -4.0, -2.0, -5.0, 4.0, -4.0, -3.0, -3.0, -5.0, -4.0, 3.0, -3.0, -4.0, -5.0, -3.0, -4.0, -3.0, -5.0, -4.0, -5.0, -3.0, -3.0, -4.0, -4.0, 5.0, -5.0, -3.0, -4.0, -1.0, -2.0, -3.0, -1.0, -5.0, -3.0, -2.0, 0.0, -3.0, 3.0, -5.0, -4.0, -2.0, -2.0, -4.0, -1.0, -4.0, -5.0, -3.0, -2.0, 2.0, -0.0, -1.0, -3.0, -4.0, -3.0, -5.0, -2.0, -3.0, 1.0, -4.0, -5.0, -1.0, 4.0, -2.0, -3.0, -3.0, -0.0, -4.0, -2.0, -3.0, -1.0, -4.0, -5.0, -3.0, -3.0, -2.0, -3.0, -2.0, -3.0, -4.0, -4.0, -3.0, -2.0, -3.0, -2.0, -4.0, -3.0, -4.0, -3.0, -2.0, -5.0, -4.0, -3.0, -2.0, -1.0, -5.0, -4.0, -3.0, -2.0, -3.0, -2.0, -1.0, -4.0, -5.0, -3.0, -2.0, -4.0, -5.0, -3.0, -1.0, -4.0, -3.0, -2.0, -3.0, -4.0, -3.0]}\n"
     ]
    }
   ],
   "source": [
    "import hyperopt \n",
    "def objective(params):\n",
    "  x=params[0]\n",
    "  y=params[1]\n",
    "  return -1*(-(x+y+12)**3-y**4+x**3)\n",
    "\n",
    "trials=hyperopt.Trials()\n",
    "best = hyperopt.fmin(fn=objective,\n",
    "    space=[hyperopt.hp.uniform('x', -10, 10),hyperopt.hp.quniform('y', -5, 5,1)],\n",
    "    algo=hyperopt.tpe.suggest,\n",
    "    max_evals=300,\n",
    "    trials=trials)\n",
    " \n",
    "print(trials.vals)"
   ]
  },
  {
   "cell_type": "code",
   "execution_count": 7,
   "metadata": {},
   "outputs": [],
   "source": [
    "import numpy as np\n",
    "import simpy\n",
    "import matplotlib.pyplot as plt \n",
    "import hyperopt\n",
    "%matplotlib inline"
   ]
  },
  {
   "cell_type": "markdown",
   "metadata": {},
   "source": [
    "### ps. Simpy\n",
    "\n",
    "simpy.Environment.process - 添加仿真进程\n",
    "\n",
    "simpy.Environment.event - 创建事件\n",
    "\n",
    "simpy.Environment.timeout - 提供延时(timeout)事件\n",
    "\n",
    "simpy.Environment.until - 仿真结束的条件（时间或事件）\n",
    "\n",
    "simpy.Environment.run - 仿真启动\n",
    "\n",
    "### example \n",
    "\n",
    "定义一个汽车进程\n",
    "\n",
    "def car(env):\n",
    "\n",
    "    while True:\n",
    "\n",
    "        print('Start parking at %d' % env.now)\n",
    "\n",
    "        parking_duration = 5\n",
    "\n",
    "        yield env.timeout(parking_duration) # 进程延时 5s\n",
    "\n",
    "        print('Start driving at %d' % env.now)\n",
    "\n",
    "        trip_duration = 2\n",
    "\n",
    "        yield env.timeout(trip_duration)   # 延时 2s\n",
    "\n",
    "\n",
    "仿真启动\n",
    "\n",
    "env = simpy.Environment()   # 实例化环境\n",
    "\n",
    "env.process(car(env))   # 添加汽车进程\n",
    "\n",
    "env.run(until=15)   # 设定仿真结束条件, 这里是 15s 后停止\n",
    "\n",
    "https://zhuanlan.zhihu.com/p/31526894\n"
   ]
  },
  {
   "cell_type": "code",
   "execution_count": 9,
   "metadata": {},
   "outputs": [],
   "source": [
    "def arrival(env,outcomes,R1,n):\n",
    "    lmbda=7\n",
    "    while True: # always holds, so the process will continue indefinitely\n",
    "        inter_arrival=-1/lmbda*np.log(np.random.rand()) #inter_arrival time: exponential distribution # note 10.4\n",
    "        yield env.timeout(inter_arrival)\n",
    "        if env.now < 8 and len(R1.queue) < n: # if the current simulation time is less than 8\n",
    "            # and the length of the queue of recource R1 is less than n\n",
    "            env.process(service(env,outcomes,R1)) # start a new service process\n",
    "        else:\n",
    "            return # end the arrival process\n",
    "\n",
    "def service(env,outcomes,R1):\n",
    "    #send a request to the server\n",
    "    rqt=R1.request()\n",
    "    close=env.timeout(8-env.now)\n",
    "    result =yield rqt|close # | operaror retrun to the first (request to be processed, time out occur)\n",
    "    #customer gets the server\n",
    "    if rqt in result: # equest was successful before the close timeout\n",
    "        #spend x amount of time with the server\n",
    "        service=env.timeout(0.2)\n",
    "        yield service\n",
    "        #release the server so that the server can take care of the next customer\n",
    "        R1.release(rqt)\n",
    "        outcomes[\"served\"]+=1\n",
    "\n",
    "         \n",
    "def system_sim(n):\n",
    "    env=simpy.Environment()\n",
    "    outcomes={\"served\":0}\n",
    "    R1=simpy.Resource(env,capacity=1) \n",
    "    env.process(arrival(env,outcomes,R1,n))\n",
    "    env.run( )\n",
    "    lost=len(R1.queue) # those who have arrived but haven't been served\n",
    "    return outcomes[\"served\"]*4-lost*2\n",
    "\n",
    "def eval_mean(n): # n represents the capacity of the queue\n",
    "  return -np.mean([system_sim(n) for i in range(100)]) # negative, the lower, the less cost and fewer  lost customers"
   ]
  },
  {
   "cell_type": "markdown",
   "metadata": {},
   "source": [
    "## grid search"
   ]
  },
  {
   "cell_type": "code",
   "execution_count": null,
   "metadata": {},
   "outputs": [
    {
     "name": "stdout",
     "output_type": "stream",
     "text": [
      "0 -0.0\n",
      "1 -13.64\n",
      "2 -25.08\n",
      "3 -38.96\n",
      "4 -50.76\n",
      "5 -62.72\n",
      "6 -77.46\n",
      "7 -91.68\n",
      "8 -102.42\n",
      "9 -110.72\n",
      "10 -118.0\n",
      "11 -130.92\n",
      "12 -133.56\n",
      "13 -134.84\n",
      "14 -138.24\n",
      "15 -138.56\n",
      "16 -139.58\n",
      "17 -136.22\n",
      "18 -136.32\n",
      "19 -135.58\n",
      "20 -131.88\n",
      "21 -132.84\n",
      "22 -131.92\n",
      "23 -130.6\n",
      "24 -128.66\n",
      "25 -128.92\n",
      "26 -127.42\n",
      "27 -126.26\n",
      "28 -125.52\n",
      "29 -124.46\n",
      "30 -125.94\n",
      "31 -125.42\n",
      "32 -123.64\n",
      "33 -125.5\n",
      "34 -123.54\n",
      "35 -126.98\n",
      "36 -123.08\n",
      "37 -124.76\n",
      "38 -125.26\n",
      "39 -125.72\n",
      "40 -123.38\n",
      "41 -124.46\n",
      "42 -126.74\n",
      "43 -124.28\n",
      "44 -126.24\n",
      "45 -123.68\n",
      "46 -127.74\n",
      "47 -122.9\n",
      "48 -123.08\n",
      "49 -127.26\n"
     ]
    }
   ],
   "source": [
    "for i in range(50):\n",
    "  print(i, eval_mean(i)) # use grid search to find the best n"
   ]
  },
  {
   "cell_type": "markdown",
   "metadata": {},
   "source": [
    "## TPE/random search"
   ]
  },
  {
   "cell_type": "code",
   "execution_count": 26,
   "metadata": {},
   "outputs": [
    {
     "name": "stdout",
     "output_type": "stream",
     "text": [
      "  0%|          | 0/100 [00:00<?, ?trial/s, best loss=?]"
     ]
    },
    {
     "name": "stdout",
     "output_type": "stream",
     "text": [
      "100%|██████████| 100/100 [00:17<00:00,  5.66trial/s, best loss: -142.2]\n",
      "{'n': 15.0}\n"
     ]
    }
   ],
   "source": [
    "trials=hyperopt.Trials() # store detailed information about each evaluation during the optimization process\n",
    "best = hyperopt.fmin(fn=eval_mean,\n",
    "    space=hyperopt.hp.quniform('n', 1, 50, 1),\n",
    "    ## random search\n",
    "    #algo=hyperopt.rand.suggest,\n",
    "    ##tpe search \n",
    "    algo=hyperopt.tpe.suggest,\n",
    "    max_evals=100,\n",
    "    trials=trials)\n",
    "print(best)"
   ]
  },
  {
   "cell_type": "markdown",
   "metadata": {},
   "source": [
    "We could also set up an early stopping condition using\n",
    "\n",
    "early_stop_fn=no_progress_loss(iteration_stop_count, percent_increase)\n",
    "\n",
    "stop function that will stop after X iteration if the loss doesn't increase.\n",
    "\n",
    "We can also set timeout= The simulation will stop after certain number of seconds"
   ]
  },
  {
   "cell_type": "code",
   "execution_count": 28,
   "metadata": {},
   "outputs": [
    {
     "name": "stdout",
     "output_type": "stream",
     "text": [
      "  3%|▎         | 3/100 [00:01<00:36,  2.67trial/s, best loss: -129.1]\n",
      "{'n': 24.0}\n"
     ]
    }
   ],
   "source": [
    "from hyperopt.early_stop import no_progress_loss\n",
    "trials=hyperopt.Trials()\n",
    "best = hyperopt.fmin(fn=eval_mean,\n",
    "    space=hyperopt.hp.quniform('n', 1, 50, 1),\n",
    "    ## random search\n",
    "    #algo=hyperopt.rand.suggest,\n",
    "    ##tpe search \n",
    "    algo=hyperopt.tpe.suggest,\n",
    "    max_evals=100,\n",
    "    timeout=1, # if the process will be terminated if it exceeds the 1-second timeout, stop\n",
    "    trials=trials,\n",
    "    early_stop_fn=no_progress_loss(iteration_stop_count=10, \n",
    "    percent_increase=0.0)) # if no improvement in the last 10 iterations, stop\n",
    "print(best)"
   ]
  },
  {
   "cell_type": "code",
   "execution_count": 29,
   "metadata": {},
   "outputs": [
    {
     "name": "stdout",
     "output_type": "stream",
     "text": [
      "  0%|          | 0/100 [00:00<?, ?trial/s, best loss=?]"
     ]
    },
    {
     "name": "stdout",
     "output_type": "stream",
     "text": [
      "  5%|▌         | 5/100 [00:01<00:21,  4.40trial/s, best loss: -132.1]\n",
      "{'n': 12.0}\n"
     ]
    }
   ],
   "source": [
    "from hyperopt.early_stop import no_progress_loss\n",
    "trials=hyperopt.Trials()\n",
    "best = hyperopt.fmin(fn=eval_mean,\n",
    "    space=hyperopt.hp.quniform('n', 1, 50, 1),\n",
    "    ## random search\n",
    "    #algo=hyperopt.rand.suggest,\n",
    "    ##tpe search \n",
    "    algo=hyperopt.tpe.suggest,\n",
    "    max_evals=100,\n",
    "    timeout=1,\n",
    "    trials=trials)\n",
    "print(best)"
   ]
  },
  {
   "cell_type": "markdown",
   "metadata": {},
   "source": [
    "# Additional help from variance reduction\n",
    "\n",
    "Having a smart search sequence can help us reduce the amount of time to run the simulation. However, at the same, notice that we each decision variable values, we need to run the system multiple times to estimate the population mean.  \n",
    "\n",
    "Due to the randomness in the system, each outcome variable will follow a specific distribution. In many cases, we are interested in knowing the population mean of each distribution. Simulation allows us to directly draw random samples from this distribution. Based on these samples, we can use sample mean to approximate the population mean. We could even construct a confidence interval using these samples to help us construct the confidence interval. \n",
    "\n",
    "The question is how can we ensure that our sample mean is close enough to the population mean? To answer this question, remember that the sample mean varies due to the randomness of sampling. Based on the central limit theorem, when the sample size is large enough (that is, if we run the simulation for many rounds and collect the system output multiple times), the variance of sample mean can be approximated using $\\sigma^2/n$ . This suggests two pathways to ensure that our sample mean has a smaller variation and be close to population mean:\n",
    "\n",
    "- Increase n. \n",
    "    - We simply need to simulate the system for more rounds\n",
    "    - However, this means that we need to run the system for much longer time \n",
    "- Reduce $\\sigma^2$\n",
    "    - The idea is to reduce $\\sigma^2$ in order to reduce $\\sigma^2/n$. The idea is to sample from a different population distribution with the same population mean but a smaller variance.   \n",
    "- Changing n and $\\sigma^2$ at the same time\n",
    "    - We could even find a method that changes both n and $\\sigma^2$ to reduce $\\sigma^2/n$ without changing the mean.  As long as we have a method can reduce $\\sigma^2/n$ without increasing much computation time, we achieve our goal.  \n",
    "\n",
    "If we are planning to sample mnumber of sample outcomes y from a different distribution G instead of n number of sample outcomes x from the original distribution F in order to increase our efficiency. We need to make sure  \n",
    "- Whether (E(x)=E(y)) holds. In other words, both distributions should have the same population mean.\n",
    "- Wether Var(y) < Var(x)\n",
    "- In addition, to achieve this variance reduction, we should not be increasing our computation time much. "
   ]
  },
  {
   "cell_type": "markdown",
   "metadata": {},
   "source": [
    "# Illustrating of two methods\n",
    "\n",
    "Let's assume that we are interested in using sample mean to estimate the population mean of a variable X that follows an exponential distribution with $\\lambda$ = 4.  We want the variation of the sample means to be small, as this means when collecting a set of samples, the sample mean as a better chance of being close to the population mean. \n",
    "\n",
    "One method is to generate more samples. \n",
    "\n",
    "Method 1:  let's compare the distribution of sample mean when size=40 versus size=200.\n",
    "\n",
    "It is clear that the variance of the sample mean is much smaller when the sample size increases. \n",
    "\n",
    "One obvious drawback is that we are satisficing the time, as we need to draw more samples.  Can we find an alternative method?\n",
    "\n",
    "Method 2:  Change $\\lambda$ while maintaining μ.\n",
    "\n",
    "Let's assume that an expert told you to try out a normal distribution of mean=0.25 and variance=0.01. You decide to give it a shot and sample 40 from normal distribution instead. let's compare the distribution of sample mean when sampling from our original exponential distribution versus the normal distribution proposed by the other person. In both cases, we use sample size=40 when computing the sample mean. \n",
    "\n",
    "Again, we are able to reduce the variation of the sample mean when sampling from the normal distribution. One can also check the running time to make sure that we are not increasing the running time by too much. Based on the Python demo, we can see that the running time of sampling from a normal distribution is slightly longer but not by much. np.random functions are constructed very efficiently."
   ]
  },
  {
   "cell_type": "code",
   "execution_count": 30,
   "metadata": {},
   "outputs": [],
   "source": [
    "import numpy as np \n",
    "import matplotlib.pyplot as plt \n",
    "%matplotlib inline "
   ]
  },
  {
   "cell_type": "markdown",
   "metadata": {},
   "source": [
    "Let's assume that we are interested in constructing use sample mean to estimate the population mean of an exponential distribution with $\\lambda=4$.\n",
    "\n",
    "Let's use [`np.random.exponential(scale, size=None)`](https://numpy.org/doc/stable/reference/random/generated/numpy.random.exponential.html) to get the job done. \n",
    "Here, `scale` should be equal to $\\frac{1}{\\lambda}$\n",
    "\n",
    "Method 1: Increase sample size "
   ]
  },
  {
   "cell_type": "code",
   "execution_count": 31,
   "metadata": {},
   "outputs": [
    {
     "data": {
      "image/png": "[encoded data removed]",
      "text/plain": [
       "<Figure size 640x480 with 1 Axes>"
      ]
     },
     "metadata": {},
     "output_type": "display_data"
    }
   ],
   "source": [
    "def simulation_exp(n):\n",
    "    lm=4\n",
    "    samples=np.random.exponential(1/lm,n)\n",
    "    return np.mean(samples)\n",
    "\n",
    "exp_means_40=[simulation_exp(40) for i in range(1000)]\n",
    "exp_means_200=[simulation_exp(200) for i in range(1000)]\n",
    "\n",
    "plt.hist(np.array(exp_means_40),bins=30,density=True,label=\"s=40\",alpha=0.5)\n",
    "plt.hist(np.array(exp_means_200),bins=30,density=True,label=\"s=200\",alpha=0.5)\n",
    "plt.legend()\n",
    "plt.title(\"distribution of sample mean size=40 v.s. 200\")\n",
    "plt.show()"
   ]
  },
  {
   "cell_type": "markdown",
   "metadata": {},
   "source": [
    "Method 2: sample from a different distribution \n",
    "\n",
    "Let's assume that another person told you that a normal distribution of mean=0.25 and variance=0.01 can be a good candidate. You decide to give it a shot and sample 40 from normal distribution instead. \n",
    "\n",
    "Let's use [`np.random.normal(loc=0.0, scale=1.0, size=None)`](https://numpy.org/doc/stable/reference/random/generated/numpy.random.normal.html) to get the job done. \n",
    "\n",
    "Here, `loc` is the population mean, while `scale` is the population standard deviation."
   ]
  },
  {
   "cell_type": "code",
   "execution_count": 32,
   "metadata": {},
   "outputs": [
    {
     "data": {
      "image/png": "[encoded data removed]",
      "text/plain": [
       "<Figure size 640x480 with 1 Axes>"
      ]
     },
     "metadata": {},
     "output_type": "display_data"
    }
   ],
   "source": [
    "def simulation_exp(n):\n",
    "    lm=4\n",
    "    samples=np.random.exponential(1/lm,n)\n",
    "    return np.mean(samples)\n",
    "\n",
    "def simulation_norm(n):\n",
    "     \n",
    "    samples=np.random.normal(0.25, 0.01**0.5,n)\n",
    "    return np.mean(samples)\n",
    "\n",
    "exp_means_exp=[simulation_exp(40) for i in range(1000)]\n",
    "exp_means_norm=[simulation_norm(40) for i in range(1000)]\n",
    "\n",
    "plt.hist(np.array(exp_means_exp),bins=30,density=True,label=r\"exp$(\\lambda=4)$\",alpha=0.5)\n",
    "plt.hist(np.array(exp_means_norm),bins=30,density=True,label=r\"norm$(\\mu=0.25, \\sigma^2=0.01)$\",alpha=0.5)\n",
    "plt.legend()\n",
    "plt.title(\"distribution of sample mean with size=40, Exp dist v.s. Norm dist\")\n",
    "plt.show()"
   ]
  },
  {
   "cell_type": "code",
   "execution_count": 33,
   "metadata": {},
   "outputs": [
    {
     "name": "stdout",
     "output_type": "stream",
     "text": [
      "12 ms ± 1.81 ms per loop (mean ± std. dev. of 7 runs, 100 loops each)\n"
     ]
    }
   ],
   "source": [
    "%%timeit \n",
    "exp_means_exp=[simulation_exp(40) for i in range(1000)]"
   ]
  },
  {
   "cell_type": "code",
   "execution_count": 34,
   "metadata": {},
   "outputs": [
    {
     "name": "stdout",
     "output_type": "stream",
     "text": [
      "10.4 ms ± 273 µs per loop (mean ± std. dev. of 7 runs, 100 loops each)\n"
     ]
    }
   ],
   "source": [
    "%%timeit\n",
    "exp_means_norm=[simulation_norm(40) for i in range(1000)]"
   ]
  },
  {
   "cell_type": "markdown",
   "metadata": {},
   "source": [
    "## in class example"
   ]
  },
  {
   "cell_type": "code",
   "execution_count": 35,
   "metadata": {},
   "outputs": [],
   "source": [
    "import hyperopt\n",
    "import numpy as np\n",
    "import simpy\n",
    "\n",
    "from scipy.stats import uniform, poisson, expon"
   ]
  },
  {
   "cell_type": "code",
   "execution_count": 36,
   "metadata": {},
   "outputs": [
    {
     "name": "stdout",
     "output_type": "stream",
     "text": [
      "100%|██████████| 50/50 [00:49<00:00,  1.01trial/s, best loss: -474.69]\n"
     ]
    },
    {
     "data": {
      "text/plain": [
       "{'n1': 3.0, 'n2': 2.0, 'n3': 2.0, 'n4': 5.0, 'n5': 4.0}"
      ]
     },
     "execution_count": 36,
     "metadata": {},
     "output_type": "execute_result"
    }
   ],
   "source": [
    "n_layer = 5 # mutilayer server\n",
    "\n",
    "lambdas = np.array([1, 2, 1, 2, 1, 2])\n",
    "\n",
    "def arrivals(env, servers, revenue):\n",
    "    N_t = poisson.rvs(100 * lambdas[0]) # total number of arrivals\n",
    "    arrival_times = uniform.rvs(size=N_t) * 100 # uniformly distributed arrival times over 100-unit time period\n",
    "    arrival_times = np.sort(np.insert(arrival_times, 0, 0)) # insert 0 at the begining\n",
    "    dt = arrival_times[1:] - arrival_times[:-1] # calculate for the each inter-arrival times\n",
    "    service_times = expon.rvs(size=(N_t, n_layer), scale=1 / lambdas[1:])\n",
    "    for i in range(0, len(dt)): # iterates through each arrival\n",
    "        yield env.timeout(dt[i])\n",
    "        env.process(service(env, servers, revenue, service_times[i,:]))\n",
    "\n",
    "\n",
    "def service(env, servers, revenue, st):\n",
    "    for i in range(0, len(st)):\n",
    "        rqt = servers[i].request()\n",
    "        yield rqt\n",
    "        yield env.timeout(st[i])\n",
    "        servers[i].release(rqt)\n",
    "        revenue.append(1)\n",
    "\n",
    "\n",
    "def simulate(n):\n",
    "    revenue = []\n",
    "    env = simpy.Environment()\n",
    "    servers = [simpy.Resource(capacity=n[i], env=env) for i in range(0, n_layer)] # n_layer servers\n",
    "    env.process(arrivals(env, servers, revenue))\n",
    "    env.run(until=100)\n",
    "    return np.sum(revenue) - n[0] * 2 - n[1] * 1 - n[2] * 2 - n[3]* 0.5 - n[4] * 1.5 # every layer server has different revenue\n",
    "\n",
    "def run_simulations(n):\n",
    "    np.random.seed(42)\n",
    "    X = [simulate(n) for i in range(100)]\n",
    "    return (-1) * np.mean(X)\n",
    "\n",
    "hyperopt.fmin(fn=run_simulations,\n",
    "    space=[hyperopt.hp.quniform('n1', 1, 10, 1),\n",
    "           hyperopt.hp.quniform('n2', 1, 10, 1),\n",
    "           hyperopt.hp.quniform('n3', 1, 10, 1),\n",
    "           hyperopt.hp.quniform('n4', 1, 10, 1),\n",
    "           hyperopt.hp.quniform('n5', 1, 10, 1),\n",
    "           ],\n",
    "    algo=hyperopt.tpe.suggest,\n",
    "    max_evals=50)"
   ]
  },
  {
   "cell_type": "markdown",
   "metadata": {},
   "source": [
    "# 2. Antithetic Method\n",
    "\n",
    "## Overview\n",
    "In this lecture, we study how to use anti-thetic method for variance reduction. \n",
    "\n",
    "Learning objective:\n",
    "\n",
    "Understand how antithetical method and control variates can be applied\n",
    "\n",
    "## Antithetic method\n",
    "Antithetic  method can be used to find a distribution that has the same mean but with a much smaller variance comparing to the distribution of our original system output. \n",
    "\n",
    "For the regular method, we generate n independent samples of random variable X to get x1,x2,x3,...,xn. We then use $\\sum \\limits _{i=1} ^ {n} X_{i}$ estimate the populate mean.\n",
    "\n",
    "Antithetic method proposes that us to find variable X that satisfies\n",
    "\n",
    "- E(X') = E(X)\n",
    "- Var(X') = Var(X)\n",
    "- Cov(X',X) < 0\n",
    "\n",
    "We can generate ​$n/2$ independent samples of $Y=(X'+X)/2$ to get y1,y2,...,yn/2. We then use $2/n\\sum \\limits _{i=1} ^ {n/2} y_{i}$ estimate the populate mean. \n",
    "\n",
    "We can use convolution to get the sampling done\n",
    "- generate $x_1,x_2,...,x_{n/2}$\n",
    "- generate $x_1',x_2',...,x_{n/2}'$\n",
    "- compute $y_1 = (x_1 + x_1')/2, (x_2 + x_2')/2,...,(x_{n/2} + x_{n/2}')/2$"
   ]
  },
  {
   "cell_type": "markdown",
   "metadata": {},
   "source": [
    "## Constructing X'\n",
    "\n",
    "If X = h(U1,U2,U3,...), where U1,U2,U3,... all follow a uniform distribution between 0 and 1, then X' = h(1-U1,1-U2,1-U3,...) might be such a candidate.\n",
    "\n",
    "To see why this is the case, we need to check our assumptions\n",
    "\n",
    "- U1,U2,U3,...all follow a uniform distribution. 1-U1,1-U2,1-U3,...will follow a uniform distribution between 0 and 1 as well. As a result, X and X′ both follow the same distribution, which gives us E(X) and E(X') and Var(X) = Var(X')\n",
    "\n",
    "- $Cov(U_i,1-U_i) = E(U_i*(1-U_i)) - E(U_i)E(1-U_i) = E(U_i) - E(U_i)^2 - E(U_i)E(1-U_i) = 0.5 -Var(U_i) - E(U_i)^2 - 0.25 = -Var(U_i) = -1/12 $\n",
    "    - We used property that $Var(x) = E(x^2) - E(x)^2$\n",
    "\n",
    "Since all the inputs are negatively correlated, it is very likely the output X and \n",
    "X′ are negatively correlated as well. This is especially true if h is a monotone (either increasing or decreasing) function with each of its coordinates.  Based on our discussion above, we can use the following step to perform antithetic variance reduction. Thus, we can \n",
    "- sample $u_1,u_2,...u_{n/2}$ to generate samples of X\n",
    "- sample $u_1',u_2',...u_{n/2}'$ to generate samples of X'\n",
    "- compute $y_i=(x_i+x_i')/2$\n",
    "- sample $y_1,y_2,...y_{n/2}$ to generate samples of X"
   ]
  },
  {
   "cell_type": "markdown",
   "metadata": {},
   "source": [
    "Example 1:    \n",
    "Estimating the mean of an exponential distribution.  Notice that u and X shared a monotonic relationship. \n",
    "\n",
    "In this demo, we use s^2/n to estimate the variance of the sample mean. Here, s^2 is the sample variance, while n is the number of samples."
   ]
  },
  {
   "cell_type": "code",
   "execution_count": 3,
   "metadata": {},
   "outputs": [
    {
     "name": "stdout",
     "output_type": "stream",
     "text": [
      "0.8628211766369721 0.008832428634632856\n",
      "0.9237412894101782 0.0016305204179539636\n"
     ]
    }
   ],
   "source": [
    "import numpy as np\n",
    "\n",
    "#sample size 100\n",
    "size1=100\n",
    "lmbda=1\n",
    "x=-1/lmbda*np.log(np.random.rand(size1)) # exponential random variables\n",
    "sm_var=np.var(x,ddof=1)/(size1)\n",
    "sm=np.mean(x)\n",
    "print(sm,sm_var)\n",
    "\n",
    "\n",
    "#sample size 50\n",
    "size2=int(size1/2)\n",
    "u=np.random.rand(size2)\n",
    "x_original=-1/lmbda*np.log(u)\n",
    "x_anti=-1/lmbda*np.log(1-u)\n",
    "y=(x_original+x_anti)/2\n",
    "\n",
    "sm_var1=np.var(y,ddof=1)/(size2)\n",
    "sm1=np.mean(y)\n",
    "print(sm1,sm_var1)"
   ]
  },
  {
   "cell_type": "markdown",
   "metadata": {},
   "source": [
    "Case 2\n",
    "When X is generated from a normal distribution N(μ,σ^2), 2μ−x will be from the same normal distribution and negatively correlated with x. \n",
    "\n",
    "Samples from a normal distribution are also converted from u. If we cannot recover u in this case, we could use the fact that if x is converted from u, then 2μ−x is converted from 1−u.\n",
    "\n",
    "Thus, we can use x and 2μ−x as pairs."
   ]
  },
  {
   "cell_type": "code",
   "execution_count": null,
   "metadata": {},
   "outputs": [],
   "source": [
    "import numpy as np\n",
    "\n",
    "size1=100\n",
    "x=np.random.normal(5,1,size1)\n",
    "sm_var=np.var(x,ddof=1)/(size1)\n",
    "sm=np.mean(x)\n",
    "print(sm,sm_var)\n",
    "\n",
    "size2=50\n",
    "x_original=np.random.normal(5,1,size2)\n",
    "x_anti=10-x_original\n",
    "y=(x_original+x_anti)/2\n",
    "sm_var1=np.var(y,ddof=1)/(size2)\n",
    "sm1=np.mean(y)\n",
    "print(sm1,sm_var1)"
   ]
  },
  {
   "cell_type": "markdown",
   "metadata": {},
   "source": [
    "Extension\n",
    "Using scipy to help find the original part and antithetic part.\n",
    "\n",
    "For the common distributions that have been programmed in scipy.stats , we can use the following two steps to find the antithetic part:\n",
    "\n",
    "use u=np.random.rand() to a random number\n",
    "\n",
    "use ppf(u) and ppf(1-u) function to find out the corresponding x and x′ sample \n",
    "\n",
    "For example,  the following method can generate samples for original and antithetic of Poisson samples. "
   ]
  },
  {
   "cell_type": "code",
   "execution_count": 1,
   "metadata": {},
   "outputs": [
    {
     "name": "stdout",
     "output_type": "stream",
     "text": [
      "20.18 0.14674343434343431\n",
      "20.0 0.0016326530612244896\n",
      "[19. 22. 23. 22. 17. 15. 33. 16. 18. 19. 17. 27. 18. 19. 15. 15. 17. 29.\n",
      " 20. 20. 23. 22. 17. 16. 13. 21. 20. 19. 22. 20. 20. 17. 15. 12. 18. 17.\n",
      " 22. 16. 21. 24. 16. 16. 20. 28. 19. 24. 17. 30. 17. 20.] [20. 18. 17. 18. 22. 25.  9. 24. 22. 21. 23. 13. 22. 21. 25. 25. 23. 12.\n",
      " 20. 19. 17. 18. 22. 24. 27. 19. 20. 20. 18. 19. 19. 23. 26. 29. 22. 23.\n",
      " 18. 24. 19. 16. 24. 24. 20. 13. 21. 16. 23. 11. 23. 20.]\n"
     ]
    }
   ],
   "source": [
    "import numpy as np\n",
    "import scipy.stats as spst\n",
    "\n",
    "##original method \n",
    "lmbda=20\n",
    "size1=100\n",
    "x=np.random.poisson(lmbda,size1)\n",
    "sm_var=np.var(x,ddof=1)/(size1)\n",
    "sm=np.mean(x)\n",
    "print(sm,sm_var)\n",
    "\n",
    "##antithetic method \n",
    "lmbda=20\n",
    "size2=int(size1/2)\n",
    "u=np.random.rand(size2)\n",
    "x_original=spst.poisson.ppf(u,lmbda)\n",
    "x_anti=spst.poisson.ppf(1-u,lmbda)\n",
    "\n",
    "y=(x_original+x_anti)/2\n",
    "sm_var1=np.var(y,ddof=1)/(size2)\n",
    "sm1=np.mean(y)\n",
    "print(sm1,sm_var1)\n",
    "print(x_original,x_anti)"
   ]
  },
  {
   "cell_type": "markdown",
   "metadata": {},
   "source": [
    "## Applying antithetic method to system simulation\n",
    "the basic single queueing system, we have two sets of samples to feed into the system\n",
    "\n",
    "- (1) the inter-arrival time for each customer\n",
    "\n",
    "- (2) the service time for each customer\n",
    "\n",
    "Let's assume that we are interested in measuring the average time consumers spend in the system. We call this our system output.\n",
    "\n",
    "To make sure that anti-thetic method is applied, we need to make sure that \n",
    "\n",
    "- In each round of the simulation, we need to make sure that the inter-arrival times and the service time as still generated from the same distribution. This makes sure that our system output is still generated from the same distribution\n",
    "\n",
    "- We need to make sure that if one round of simulation gives a large system output, we need to make sure that the next round will, in general, give us a smaller system output. Vice versa. \n",
    "\n",
    "If the samples are generated using the inverse transform method or from a normal distribution, it will be very easy to generate the original parts and the anti-thetic parts using the technique we discussed in class. We need to think about whether feeding the original part and the anti-thetic part will lead to a negative correlation in the actual system output.\n",
    "\n",
    "(1) larger inter-arrival time v.s. smaller inter-arrival time\n",
    "\n",
    "Having larger inter-arrival time means consumers in this round of simulation are arrival at a lower frequency. In this case, we might be expecting fewer people to line up, which will lead to a lower average time in the system. \n",
    "\n",
    "If the inter-arrival times fed into the system are generally large, we should expect the antithetic part to be generally small. Thus, we will be able to produce negatively correlated system outputs.\n",
    "\n",
    "(2) larger service time v.s. smaller service time\n",
    "\n",
    "Larger service time has two impacts\n",
    "\n",
    "- a. More people might line up. Thus, consumers might wait for a longer time before getting the service\n",
    "\n",
    "- b. The actual service time is part of the time in the system for a consumer. Longer service time will directly contribute to a longer time in the system.\n",
    "\n",
    "Thus, having when service time for two rounds of simulating being negatively correlated can also help to generate negatively correlated system output."
   ]
  },
  {
   "cell_type": "markdown",
   "metadata": {},
   "source": [
    "## Algorithm:\n",
    "- If we want to apply anti-thetic method to system input 1 and 2 among all the inputs, then we need to repeat the following multiple times\n",
    "\n",
    "    - Generate R1, R2 random states\n",
    "\n",
    "    - Copy R1, R2 random states to get R1c, R2c \n",
    "\n",
    "    - Use R1, R2 to generate the random numbers used for the original round of simulation, which produces output x original\n",
    "\n",
    "    - Use R1c, R2c to generate the random numbers used for the original round of simulation, which produces output x anti\n",
    "​\n",
    "    - compute the average of the two y = (x original +x anti)/2\n",
    "​\n",
    "- construct the sample mean and confidence interval using all the y's collected"
   ]
  },
  {
   "cell_type": "code",
   "execution_count": 4,
   "metadata": {},
   "outputs": [],
   "source": [
    "import numpy as np\n",
    "import simpy\n",
    "\n",
    "from scipy.stats import expon"
   ]
  },
  {
   "cell_type": "code",
   "execution_count": 18,
   "metadata": {},
   "outputs": [
    {
     "data": {
      "text/plain": [
       "array([0.53524935, 0.03341483])"
      ]
     },
     "execution_count": 18,
     "metadata": {},
     "output_type": "execute_result"
    }
   ],
   "source": [
    "dt1 = expon.rvs(scale=scale)\n",
    "dt1"
   ]
  },
  {
   "cell_type": "code",
   "execution_count": 19,
   "metadata": {},
   "outputs": [
    {
     "data": {
      "text/plain": [
       "array([0.88073845, 3.41541622])"
      ]
     },
     "execution_count": 19,
     "metadata": {},
     "output_type": "execute_result"
    }
   ],
   "source": [
    "dt = expon.ppf(1 - expon.cdf(dt1, scale=scale), scale=scale)\n",
    "dt"
   ]
  },
  {
   "cell_type": "code",
   "execution_count": 5,
   "metadata": {},
   "outputs": [],
   "source": [
    "## antithetic samples\n",
    "\n",
    "lmbda_1 = 1.\n",
    "lmbda_2 = 1.\n",
    "\n",
    "def arrivals(env, server, T, anti):\n",
    "    scale = np.power([lmbda_1, lmbda_2],-1) # 倒数\n",
    "    for i in range(0, 100):\n",
    "        dt = expon.rvs(scale=scale) # expon: intterarrival in poisson process\n",
    "        if anti == True:\n",
    "            dt = expon.ppf(1 - expon.cdf(dt, scale=scale), scale=scale)\n",
    "            # dt\n",
    "            # expon.cdf(dt, scale=scale): the probability that less than or equal to dt\n",
    "            # 1 - expon.cdf(dt, scale=scale): complement of cdf -> prob that greater than dt\n",
    "            # expon.ppf(1 - expon.cdf(dt, scale=scale), scale=scale): the value that cdf equal to the complement\n",
    "            # -> the opposite of the original dt\n",
    "        yield env.timeout(dt[0])\n",
    "        env.process(service(env, server, dt, T))\n",
    "\n",
    "def service(env, server, dt, T):\n",
    "    t0 = env.now\n",
    "    rqt = server.request()\n",
    "    yield rqt\n",
    "    yield env.timeout(dt[1])\n",
    "    server.release(rqt)\n",
    "    t1 = env.now\n",
    "    T.append(t1 - t0)\n",
    "    \n",
    "\n",
    "def simulate(anti):\n",
    "    T = []\n",
    "    env = simpy.Environment()\n",
    "    server = simpy.Resource(env, capacity=1)\n",
    "    env.process(arrivals(env, server, T, anti))\n",
    "    env.run()\n",
    "    return np.mean(T)\n",
    "\n",
    "def eval_mean(n, seed):\n",
    "    np.random.seed(seed)\n",
    "    T_1 = [simulate(False) for i in range(0, n)]\n",
    "    np.random.seed(seed)\n",
    "    T_2 = [simulate(True) for i in range(0, n)]\n",
    "    T_1 = np.array(T_1)\n",
    "    T_2 = np.array(T_2)\n",
    "    T_means = (T_1 + T_2) / 2\n",
    "    return np.mean(T_means)"
   ]
  },
  {
   "cell_type": "code",
   "execution_count": 6,
   "metadata": {},
   "outputs": [
    {
     "data": {
      "text/plain": [
       "7.879790550213511"
      ]
     },
     "execution_count": 6,
     "metadata": {},
     "output_type": "execute_result"
    }
   ],
   "source": [
    "eval_mean(100, 42)"
   ]
  },
  {
   "cell_type": "markdown",
   "metadata": {},
   "source": [
    "# 3. Common Random Numbers\n",
    "\n",
    "## Overview\n",
    "In this lecture, we discuss how to use the common random number method to reduce variance when we need to compare differen policies.\n",
    "\n",
    "Learning objective:\n",
    "\n",
    "- Understand how and when common random numbers strategy can be used. "
   ]
  },
  {
   "cell_type": "markdown",
   "metadata": {},
   "source": [
    "## Common random number algorithm\n",
    "Common random number algorithm is a commonly used variance reduction technique when comparing different policies. \n",
    "\n",
    "Let's assume that we have configuration 1 and 2 (for example one server v.s. two servers). On ith round of simulation, each configuration generates its respective system output sample of X1i and X2i respectively. We are interested in comparing different difference between the system outputs due to two different configurations. Thus, we compute run each configuration N rounds independently to get "
   ]
  },
  {
   "cell_type": "markdown",
   "metadata": {},
   "source": [
    "If we can find a way to introduce a positive correlation between x 1i and x 2i, then we achieve variance reduction.\n",
    "\n",
    "Answer: common random numbers might do the trick. \n",
    "\n",
    "Reason: if two settings have the same system input (determined by u), then under two different settings the outcomes might both tend to tilt towards the same direction.\n",
    "\n",
    "For example, we might be interested in comparing the difference in the average time in the system under one-server and two-server. When we use the same set of service times and the arrival times for both simulations, the system output might tilt toward the same direction. For example, if ithe iteration gives very large inter-arrival times and short service times, no matter whether we use one server or two servers, the average time in the system will both be very low, thus a positive correlation.\n",
    "\n",
    "Notice that common random numbers might not always induce positive correlations. If negative correlations are induced, we will see a variance increase. "
   ]
  },
  {
   "cell_type": "markdown",
   "metadata": {},
   "source": [
    "Example: Assume that Y1 = log(X) and Y2 = log(X+1), where X~Exp(0.2). Estimate E(Y1) - E(Y2)"
   ]
  },
  {
   "cell_type": "code",
   "execution_count": 20,
   "metadata": {},
   "outputs": [
    {
     "name": "stdout",
     "output_type": "stream",
     "text": [
      "-0.5130305690679271 0.04793979114309394\n",
      "-0.49752800712812295 0.01957605746717936\n"
     ]
    }
   ],
   "source": [
    "import numpy as np \n",
    "\n",
    "#no common random number\n",
    "U=np.random.rand(1000)\n",
    "lm=0.2\n",
    "X=-1/lm*np.log(U)\n",
    "Y1=np.log(X)\n",
    "U=np.random.rand(1000)\n",
    "lm=0.2\n",
    "X=-1/lm*np.log(U)\n",
    "Y2=np.log(X+1)\n",
    "print(np.mean(Y1)-np.mean(Y2),np.std(Y1-Y2,ddof=1)/1000**0.5)\n",
    "\n",
    "\n",
    "##with common random variable\n",
    "U=np.random.rand(1000)\n",
    "lm=0.2\n",
    "X=-1/lm*np.log(U)\n",
    "Y1=np.log(X)\n",
    "Y2=np.log(X+1) # y1, y2 positive correlated\n",
    "print(np.mean(Y1)-np.mean(Y2),np.std(Y1-Y2,ddof=1)/1000**0.5)"
   ]
  },
  {
   "cell_type": "markdown",
   "metadata": {},
   "source": [
    "Example:  Assume that Y1 = log(X) and Y2 = -log(X+1), where X~Exp(0.2). Estimate E(Y1) - E(Y2). In this example, Y1 and Y2 are negatively correlated if we use common random number"
   ]
  },
  {
   "cell_type": "code",
   "execution_count": 21,
   "metadata": {},
   "outputs": [
    {
     "name": "stdout",
     "output_type": "stream",
     "text": [
      "2.5203170223220233 0.04589849017860493\n",
      "2.534726289599544 0.062378017490919986\n"
     ]
    }
   ],
   "source": [
    "import numpy as np \n",
    "\n",
    "#no common random number\n",
    "U=np.random.rand(1000)\n",
    "lm=0.2\n",
    "X=-1/lm*np.log(U)\n",
    "Y1=np.log(X)\n",
    "U=np.random.rand(1000)\n",
    "lm=0.2\n",
    "X=-1/lm*np.log(U)\n",
    "Y2=-np.log(X+1)\n",
    "print(np.mean(Y1)-np.mean(Y2),np.std(Y1-Y2,ddof=1)/1000**0.5)\n",
    "\n",
    "\n",
    "##with common random variable\n",
    "##this one is bad because using common random numbers \n",
    "#produced a negative correlation\n",
    "U=np.random.rand(1000)\n",
    "lm=0.2\n",
    "X=-1/lm*np.log(U)\n",
    "Y1=np.log(X)\n",
    "Y2=-np.log(X+1)\n",
    "print(np.mean(Y1)-np.mean(Y2),np.std(Y1-Y2,ddof=1)/1000**0.5)"
   ]
  },
  {
   "cell_type": "markdown",
   "metadata": {},
   "source": [
    "Solution?"
   ]
  },
  {
   "cell_type": "code",
   "execution_count": 22,
   "metadata": {},
   "outputs": [
    {
     "name": "stdout",
     "output_type": "stream",
     "text": [
      "2.5930015101530657 0.04709807031871637\n",
      "2.553255743549584 0.017181483567398726\n"
     ]
    }
   ],
   "source": [
    "import numpy as np \n",
    "\n",
    "#no common random number\n",
    "U=np.random.rand(1000)\n",
    "lm=0.2\n",
    "X=-1/lm*np.log(U)\n",
    "Y1=np.log(X)\n",
    "U=np.random.rand(1000)\n",
    "lm=0.2\n",
    "X=-1/lm*np.log(U)\n",
    "Y2=-np.log(X+1)\n",
    "print(np.mean(Y1)-np.mean(Y2),np.std(Y1-Y2,ddof=1)/1000**0.5)\n",
    "\n",
    "##with common random variable\n",
    "U=np.random.rand(1000)\n",
    "lm=0.2\n",
    "X1=-1/lm*np.log(U)\n",
    "X2=-1/lm*np.log(1-U) # x1, x2 negative correlated\n",
    "Y1=np.log(X1)\n",
    "Y2=-np.log(X2+1) # y1, y2 positive correlated\n",
    "print(np.mean(Y1)-np.mean(Y2),np.std(Y1-Y2,ddof=1)/1000**0.5)"
   ]
  },
  {
   "cell_type": "code",
   "execution_count": 23,
   "metadata": {},
   "outputs": [],
   "source": [
    "import hyperopt\n",
    "import numpy as np\n",
    "import simpy\n",
    "\n",
    "from scipy.stats import expon"
   ]
  },
  {
   "cell_type": "code",
   "execution_count": 24,
   "metadata": {},
   "outputs": [],
   "source": [
    "## without variance reduction\n",
    "\n",
    "lmbda = [20, 10, 30, 10]\n",
    "\n",
    "def arrivals(env, servers,T):\n",
    "    while True:\n",
    "        dt = expon.rvs(scale=1/lmbda[0])\n",
    "        if env.now + dt > 1:\n",
    "            break\n",
    "        yield env.timeout(dt)\n",
    "        env.process(service(env, servers, T))\n",
    "\n",
    "        \n",
    "def service(env,servers, T): # 依次经过三个处理器\n",
    "    t0 = env.now\n",
    "    for i, server in enumerate(servers):\n",
    "        rqt = server.request()\n",
    "        yield rqt\n",
    "        dt = expon.rvs(scale=1/lmbda[i+1])\n",
    "        yield env.timeout(dt)\n",
    "        server.release(rqt)\n",
    "    t1 = env.now\n",
    "    T.append(t1-t0)\n",
    "\n",
    "def simulate(n1, n2):\n",
    "    T = []\n",
    "    env = simpy.Environment()\n",
    "    servers = [simpy.Resource(env, capacity=n1),\n",
    "               simpy.Resource(env, capacity=n2),\n",
    "               simpy.Resource(env, capacity=20 - n2 - n1)]\n",
    "    env.process(arrivals(env, servers, T))\n",
    "    env.run()\n",
    "    return np.mean(T)\n",
    "\n",
    "def eval_mean(n):\n",
    "    n1 = n[0]\n",
    "    n2 = n[1]\n",
    "    X = [simulate(n1,n2) for i in range(0, 100)]\n",
    "    return np.mean(X)"
   ]
  },
  {
   "cell_type": "code",
   "execution_count": 29,
   "metadata": {},
   "outputs": [
    {
     "name": "stdout",
     "output_type": "stream",
     "text": [
      "100%|██████████| 50/50 [00:17<00:00,  2.90trial/s, best loss: 0.22936534918010282]\n",
      "{'n1': 7.0, 'n2': 5.0}\n"
     ]
    }
   ],
   "source": [
    "best = hyperopt.fmin(fn=eval_mean,\n",
    "    space=[hyperopt.hp.quniform('n1', 1, 9, 1),hyperopt.hp.quniform('n2', 1, 9,1)],\n",
    "    algo=hyperopt.tpe.suggest,\n",
    "    max_evals=50)\n",
    "print(best)"
   ]
  },
  {
   "cell_type": "code",
   "execution_count": 25,
   "metadata": {},
   "outputs": [
    {
     "data": {
      "text/plain": [
       "[[0.3395208142060733,\n",
       "  0.25515099181120454,\n",
       "  0.2416810506323877,\n",
       "  0.23647641188947519,\n",
       "  0.23509093674528408,\n",
       "  0.2304365022197428,\n",
       "  0.23799314706813468,\n",
       "  0.23462491866914992],\n",
       " [0.34520937027027004,\n",
       "  0.2495212622603207,\n",
       "  0.23864117919251754,\n",
       "  0.23069516517298794,\n",
       "  0.2346818052667881,\n",
       "  0.2342372560480877,\n",
       "  0.24287807644188167,\n",
       "  0.2329225688120939],\n",
       " [0.32797403690143795,\n",
       "  0.25314089389722194,\n",
       "  0.23970179732418123,\n",
       "  0.23511319790496,\n",
       "  0.2359678846192341,\n",
       "  0.22918641421198896,\n",
       "  0.23040274650759585,\n",
       "  0.2351246129661397],\n",
       " [0.3624007789818875,\n",
       "  0.2552977311309171,\n",
       "  0.2396646287421201,\n",
       "  0.23334170089162087,\n",
       "  0.23020641892766686,\n",
       "  0.2411415678341837,\n",
       "  0.23503480086696324,\n",
       "  0.22987722834262617],\n",
       " [0.33288627511910207,\n",
       "  0.24926286076338525,\n",
       "  0.235558111242966,\n",
       "  0.23318988050508796,\n",
       "  0.2303333954142138,\n",
       "  0.2353086852278555,\n",
       "  0.23456762171026527,\n",
       "  0.238408376057428],\n",
       " [0.32443035349079863,\n",
       "  0.2544005119682958,\n",
       "  0.2356406941735088,\n",
       "  0.22578308832473115,\n",
       "  0.23240651414913066,\n",
       "  0.22762764052509316,\n",
       "  0.2385690669127915,\n",
       "  0.2418885074707191],\n",
       " [0.31190134668932507,\n",
       "  0.24572277956599958,\n",
       "  0.23529477634212964,\n",
       "  0.2379527327617499,\n",
       "  0.23561754489049466,\n",
       "  0.23727922072249946,\n",
       "  0.23927240304014372,\n",
       "  0.24998484405466542],\n",
       " [0.33833383679069023,\n",
       "  0.2605207873387377,\n",
       "  0.23617381643179697,\n",
       "  0.23087112725738812,\n",
       "  0.23152937655265565,\n",
       "  0.23995570752653955,\n",
       "  0.2622820773066083,\n",
       "  0.35308219412795694]]"
      ]
     },
     "execution_count": 25,
     "metadata": {},
     "output_type": "execute_result"
    }
   ],
   "source": [
    "X = [[eval_mean([i,j]) for i in range(2,10)] for j in range(2,10)]\n",
    "X"
   ]
  },
  {
   "cell_type": "code",
   "execution_count": 26,
   "metadata": {},
   "outputs": [],
   "source": [
    "## with common random numbers\n",
    "\n",
    "lmbda = [20., 10., 30., 10.]\n",
    "\n",
    "def arrivals(env, servers,T):\n",
    "    i = 0\n",
    "    while True:\n",
    "        dt = expon.rvs(scale=np.power(lmbda,-1)) # 一次性生成随机数，所以在每个server里用到的都是这一组\n",
    "        if env.now + dt[0] > 1:\n",
    "            break\n",
    "        yield env.timeout(dt[0])\n",
    "        env.process(service(env, servers, T, dt, i))\n",
    "        i = i + 1\n",
    "\n",
    "        \n",
    "def service(env,servers, T, dt, i):\n",
    "    t0 = env.now\n",
    "    for j, server in enumerate(servers):\n",
    "        rqt = server.request()\n",
    "        yield rqt\n",
    "        yield env.timeout(dt[j+1])\n",
    "        server.release(rqt)\n",
    "    t1 = env.now\n",
    "    T.append(t1-t0)\n",
    "\n",
    "def simulate(n1, n2):\n",
    "    T = []\n",
    "    env = simpy.Environment()\n",
    "    servers = [simpy.Resource(env, capacity=n1),\n",
    "               simpy.Resource(env, capacity=n2),\n",
    "               simpy.Resource(env, capacity=(20 - n2 - n1))]\n",
    "    env.process(arrivals(env, servers, T))\n",
    "    env.run()\n",
    "    return np.mean(T)\n",
    "\n",
    "def eval_mean(n):\n",
    "    np.random.seed(42)\n",
    "    n1 = n[0]\n",
    "    n2 = n[1]\n",
    "    X = [simulate(n1, n2) for i in range(0, 100)]\n",
    "    return np.mean(X)"
   ]
  },
  {
   "cell_type": "code",
   "execution_count": 27,
   "metadata": {},
   "outputs": [
    {
     "name": "stdout",
     "output_type": "stream",
     "text": [
      "100%|██████████| 25/25 [00:07<00:00,  3.16trial/s, best loss: 0.22935072235676948]\n",
      "{'n1': 8.0, 'n2': 4.0}\n"
     ]
    }
   ],
   "source": [
    "best = hyperopt.fmin(fn=eval_mean,\n",
    "    space=[hyperopt.hp.quniform('n1', 1, 9, 1),hyperopt.hp.quniform('n2', 1, 9,1)],\n",
    "    algo=hyperopt.tpe.suggest,\n",
    "    max_evals=25)\n",
    "print(best)"
   ]
  },
  {
   "cell_type": "code",
   "execution_count": 28,
   "metadata": {},
   "outputs": [
    {
     "data": {
      "text/plain": [
       "[[0.3360132492314921,\n",
       "  0.25447533697451874,\n",
       "  0.23632519330049384,\n",
       "  0.23288108108178193,\n",
       "  0.2324145820939136,\n",
       "  0.2322144442779959,\n",
       "  0.23221473738464232],\n",
       " [0.3340772072468707,\n",
       "  0.25202932048415805,\n",
       "  0.23390436651070823,\n",
       "  0.23036630254999468,\n",
       "  0.22976537043935086,\n",
       "  0.22956808701052542,\n",
       "  0.229538952878036],\n",
       " [0.3339256916283854,\n",
       "  0.25183542192638453,\n",
       "  0.23370431981029202,\n",
       "  0.23017484971307925,\n",
       "  0.2295501787731977,\n",
       "  0.22936886763417325,\n",
       "  0.22935072235676948],\n",
       " [0.33391193894574045,\n",
       "  0.25182580834807244,\n",
       "  0.23369197243751486,\n",
       "  0.23016141606781917,\n",
       "  0.229536191195917,\n",
       "  0.22936534918010282,\n",
       "  0.22937031491100787],\n",
       " [0.33391193894574045,\n",
       "  0.25182580834807244,\n",
       "  0.23369197243751486,\n",
       "  0.23016425474923763,\n",
       "  0.22954764173849831,\n",
       "  0.22939911987006828,\n",
       "  0.2294984377783414],\n",
       " [0.33391193894574045,\n",
       "  0.25182580834807244,\n",
       "  0.2336948111189333,\n",
       "  0.23017570529181897,\n",
       "  0.22957756172715624,\n",
       "  0.2295272427374018,\n",
       "  0.23032410482117194],\n",
       " [0.33391193894574045,\n",
       "  0.25182580834807244,\n",
       "  0.23370626166151465,\n",
       "  0.2302065127906392,\n",
       "  0.22970939323079662,\n",
       "  0.230358131330268,\n",
       "  0.23426414710925755]]"
      ]
     },
     "execution_count": 28,
     "metadata": {},
     "output_type": "execute_result"
    }
   ],
   "source": [
    "X = [[eval_mean([i,j]) for i in range(2,9)] for j in range(2,9)]\n",
    "X"
   ]
  },
  {
   "cell_type": "markdown",
   "metadata": {},
   "source": [
    "# 4. Control Variate\n",
    "\n",
    "## Overview\n",
    "In this lecture, we study how to use variance reduction to improve the efficiency of the simulation.\n",
    "\n",
    "Course objective:\n",
    "\n",
    "- Understand when variance reduction technique should be used\n",
    "\n",
    "- Understand how antithetical method and control variates can be applied"
   ]
  },
  {
   "cell_type": "markdown",
   "metadata": {},
   "source": [
    "# Control variate method\n",
    "\n",
    "Again, our task is to reduce Var(X).\n",
    "\n",
    "Suppose we can easily generate a variable Z that with a known mean μz and correlated with X. \n",
    "\n",
    "Can we use Z to help us achieve variance reduction?\n",
    "\n",
    "Thus, there are three key points we are looking for:\n",
    "\n",
    "1. Z is easy to generate \n",
    "\n",
    "2. E(Z) has a closed-form solution\n",
    "\n",
    "3. Z and X are correlated."
   ]
  },
  {
   "cell_type": "markdown",
   "metadata": {},
   "source": [
    "Algorithm:\n",
    "- Step 1: Generate a set of x samples and also a set of z samples.\n",
    "\n",
    "- Step 2: estimate $c=-cov(x,z)/var(z)$ based on the samples we have\n",
    "\n",
    "- Step 3: Generate y samples using x+c(z−μz)\n",
    "\n",
    "- Step 4: Construct the confidence interval using the y samples\n",
    "\n",
    "Extension: \n",
    "\n",
    "- In practice, it is very likely that we do not know Cov(x,z). One possible solution is to estimate this correlation based on the simulation results. This c might make the Var(Y) slightly larger. However, we should still gain from the efficiency. \n",
    "\n",
    "- Remember, μ should use the theoretical mean, not the sample mean"
   ]
  },
  {
   "cell_type": "markdown",
   "metadata": {},
   "source": [
    "## Applying control variates method to system simulation\n",
    "Again,  Let's assume that we are still interested in constructing the confidence interval for the system output for the same system we studied before.\n",
    "\n",
    "How do we find the variables that are correlated with the average time?\n",
    "\n",
    "Many options:\n",
    "\n",
    "Average inter-arrival time: This should be negatively correlated with the system output. The expected value should be equal to 1/10. Also, this value can be easily computed.\n",
    "\n",
    "Average service time: This should be positively correlated with the system output. The expected value should be equal to 1/11. Also, this value can be easily computed."
   ]
  },
  {
   "cell_type": "markdown",
   "metadata": {},
   "source": [
    "## Including several control variates"
   ]
  },
  {
   "cell_type": "code",
   "execution_count": 3,
   "metadata": {},
   "outputs": [],
   "source": [
    "import numpy as np\n",
    "import simpy\n",
    "\n",
    "from scipy.stats import expon"
   ]
  },
  {
   "cell_type": "code",
   "execution_count": 8,
   "metadata": {},
   "outputs": [
    {
     "data": {
      "text/plain": [
       "7.991927811598808"
      ]
     },
     "execution_count": 8,
     "metadata": {},
     "output_type": "execute_result"
    }
   ],
   "source": [
    "## control variates\n",
    "\n",
    "lmbda_1 = 1.\n",
    "lmbda_2 = 1.\n",
    "\n",
    "def arrivals(env, server, T, IT, ST):\n",
    "    scale = np.power([lmbda_1, lmbda_2],-1)\n",
    "    for i in range(0, 100):\n",
    "        dt = expon.rvs(scale=scale)\n",
    "        IT.append(dt[0])\n",
    "        ST.append(dt[1])\n",
    "        yield env.timeout(dt[0])\n",
    "        env.process(service(env, server, dt, T))\n",
    "\n",
    "def service(env, server, dt, T):\n",
    "    t0 = env.now\n",
    "    rqt = server.request()\n",
    "    yield rqt\n",
    "    yield env.timeout(dt[1])\n",
    "    server.release(rqt)\n",
    "    t1 = env.now\n",
    "    T.append(t1 - t0)\n",
    "    \n",
    "def simulate():\n",
    "    T = []\n",
    "    IT = []\n",
    "    ST = []\n",
    "    env = simpy.Environment()\n",
    "    server = simpy.Resource(env, capacity=1)\n",
    "    env.process(arrivals(env, server, T, IT, ST))\n",
    "    env.run()\n",
    "    return np.mean(T), np.mean(IT), np.mean(ST)\n",
    "\n",
    "def eval_mean(n):\n",
    "    T_means = np.zeros(n)\n",
    "    IT_means = np.zeros(n)\n",
    "    ST_means = np.zeros(n)\n",
    "    for i in range(0, n):\n",
    "        t, it, st = simulate()\n",
    "        T_means[i] = t\n",
    "        IT_means[i] = it\n",
    "        ST_means[i] = st\n",
    "    c1 = -np.cov(T_means, IT_means)[0][1] / np.var(IT_means)\n",
    "    c2 = -np.cov(T_means, ST_means)[0][1] / np.var(ST_means)\n",
    "    T_tilde = T_means + c1 * (IT_means - 1 / lmbda_1) + c2 * (ST_means - 1 / lmbda_2)\n",
    "    return np.mean(T_tilde)\n",
    "\n",
    "eval_mean(100)"
   ]
  },
  {
   "cell_type": "markdown",
   "metadata": {},
   "source": [
    "# 5. Variance Reduction by Conditioning"
   ]
  },
  {
   "cell_type": "markdown",
   "metadata": {},
   "source": [
    "## An insurance example\n",
    "\n",
    "Suppose an insurance company has a very large number of policies, and the probability of a policy making a claim in a given year is small. Then the number of claims in that year will be approximately Poisson distributed. Let's further suppose that the size of each claim is an independent and identically distributed positive random variable.\n",
    "\n",
    "Then the size of the total claims in a given year can be thought as: $\\sum \\limits _{j=1} ^ {N} X_{j}$  where X∼g where g is some arbitrary positive distribution, and N∼Poisson(λ) where λ is the expected number of claims. This is called a mixed Poisson distribution. Depending on what g is, calculating the closed form solution for this will be hard.\n",
    "\n",
    "We can sample from S_i according to the following procedure:\n",
    "\n",
    "(1) Generate Ni\n",
    "​\n",
    "\n",
    "(2) Generate Xi,1 ,...,Xi,Ni, and take Si to be the sum of those.\n",
    "\n",
    "Suppose we want to estimate $p_c=P(S>c)$. If c is large, this will presumably be a quite small; however, being able to accurately estimate it might be important (for the insurance company's capital requirements, etc).\n",
    "\n",
    "We might naively calculate this probability using $f(S)=1(S>C)$, and using $theta = 1/n \\sum \\limits _{i=1} ^ {n} f(S_i)$\n",
    "\n",
    "However, this will have variance $p_c(1-p_c)/n$ which will potentially be quite largely relative to the true value of p_c; our percentage error will likely be quite large.\n",
    "\n",
    "Let's consider the following alternative approach:\n",
    "\n",
    "(1) We generate  $X_i,j$ until $\\sum \\limits _{j=1}^{} kX_i,j > c$\n",
    "\n",
    "(2) Let Mi = min $ until $\\sum \\limits _{j=1}^{} kX_i,j > c$\n",
    "\n",
    "(3) Repeat this procedure for i = 1,..., n\n",
    "\n",
    "Further more, we can note  $\\sum \\limits _{j=1}^{N} X_j > c$ only if $N>=M$, hence: $E[f(S)|M=m] = P(N>=m)$ which 1 = F_lambda(m-1) whre F_lambda is the corresponding poisson cdf.\n",
    "\n",
    "Actually, we can improve this even more, by adding a control variate:\n",
    "\n",
    "Let $Y_i=\\sum \\limits _{j=1}^{N} (X_i,j - \\mu)$; it can be shown that this has expectation zero. Moreover, it will have a large magnitude of correlation with M: if M is large, then the X_i's should have been small, and vice versa."
   ]
  },
  {
   "cell_type": "code",
   "execution_count": 1,
   "metadata": {},
   "outputs": [
    {
     "name": "stdout",
     "output_type": "stream",
     "text": [
      "0.001\n",
      "0.000999499874937461\n",
      "0.000323238200240464\n",
      "0.0001162288467788396\n"
     ]
    }
   ],
   "source": [
    "import numpy as np\n",
    "\n",
    "from scipy.stats import poisson, expon\n",
    "\n",
    "# naive\n",
    "\n",
    "\n",
    "lmbda = 10\n",
    "mu = 10\n",
    "c = 300\n",
    "\n",
    "def sample_S(n):\n",
    "    S= np.zeros(n)\n",
    "    N = poisson.rvs(lmbda, size=n)\n",
    "    for i in range(0, n):\n",
    "        X = expon.rvs(scale=mu, size=N[i])\n",
    "        S[i] = np.sum(X)\n",
    "    return S\n",
    "\n",
    "n = 1_000\n",
    "\n",
    "S = sample_S(n)\n",
    "f = (S > c).astype(int)\n",
    "print(np.mean(f))\n",
    "print(np.std(f)/np.sqrt(n))\n",
    "\n",
    "def sample_M(n):\n",
    "    M = np.zeros(n)\n",
    "    for i in range(0, n):\n",
    "        S_tmp = 0\n",
    "        j = 0\n",
    "        while S_tmp <= c:\n",
    "            S_tmp += expon.rvs(scale=mu) \n",
    "            j = j + 1\n",
    "        M[i] = j\n",
    "    return M\n",
    "\n",
    "def E_F_M(M):\n",
    "    return 1 - poisson.cdf(M-1, lmbda)\n",
    "\n",
    "M = sample_M(n)\n",
    "efm = E_F_M(M)\n",
    "\n",
    "print(np.mean(efm))\n",
    "print(np.std(efm)/np.sqrt(n))"
   ]
  },
  {
   "cell_type": "markdown",
   "metadata": {},
   "source": [
    "## A queueing example\n",
    "\n",
    "Suppose we want to estimate the total time in system of the first n customers in a queuing system.\n",
    "\n",
    "Suppose Wi is the time in system for the ith customer.\n",
    "\n",
    "Then θ=E[∑Wi]. \n",
    "\n",
    "Suppose Si is the state of the system when customer i arrives.\n",
    "\n",
    "Then: $\\sum \\limits _{i=1} ^ {n} E[W_I|S_i]$ will be an unbiased estimator θ with less variance (assuming we can calculate $E[W_I|S_i]$ explicitly).\n",
    "\n",
    "Let's look at the more specific example of a single-server system with exp(λ) service times. Then Si = Ni - the number of people in the system when person i arrives. Then, $E[W_I|S_i] = (1+N_i)/\\lambda$\n",
    "\n",
    " since the Ni people in front of person i need to be service in addition to person i."
   ]
  },
  {
   "cell_type": "code",
   "execution_count": 2,
   "metadata": {},
   "outputs": [
    {
     "name": "stdout",
     "output_type": "stream",
     "text": [
      "0.45496097166730887\n",
      "0.030965919817678416\n",
      "0.4482\n",
      "0.017611575738700952\n"
     ]
    }
   ],
   "source": [
    "import numpy as np\n",
    "import simpy\n",
    "\n",
    "from scipy.stats import expon\n",
    "\n",
    "## naive way\n",
    "\n",
    "lmbda_1 = 4.\n",
    "lmbda_2 = 5.\n",
    "\n",
    "np.random.seed(42)\n",
    "def arrivals(env, server, T):\n",
    "    for i in range(0, 10):\n",
    "        dt = expon.rvs(scale=np.power([lmbda_1, lmbda_2],-1))\n",
    "        yield env.timeout(dt[0])\n",
    "        env.process(service(env, server, dt, T))\n",
    "\n",
    "def service(env, server, dt, T):\n",
    "    t0 = env.now\n",
    "    rqt = server.request()\n",
    "    yield rqt\n",
    "    yield env.timeout(dt[1])\n",
    "    server.release(rqt)\n",
    "    t1 = env.now\n",
    "    T.append(t1 - t0)\n",
    "    \n",
    "\n",
    "def simulate():\n",
    "    T = []\n",
    "    env = simpy.Environment()\n",
    "    server = simpy.Resource(env, capacity=1)\n",
    "    env.process(arrivals(env, server, T))\n",
    "    env.run()\n",
    "    return np.mean(T)\n",
    "\n",
    "n = 100\n",
    "T = [simulate() for i in range(0, n)]\n",
    "print(np.mean(T))\n",
    "print(np.std(T)/np.sqrt(n))\n",
    "\n",
    "## with variance reduction\n",
    "\n",
    "lmbda_1 = 4.\n",
    "lmbda_2 = 5.\n",
    "\n",
    "np.random.seed(42)\n",
    "def arrivals(env, server, N):\n",
    "    for i in range(0, 10):\n",
    "        dt = expon.rvs(scale=np.power([lmbda_1, lmbda_2],-1))\n",
    "        yield env.timeout(dt[0])\n",
    "        N.append(len(server.queue) + server.count)\n",
    "        env.process(service(env, server, dt))\n",
    "\n",
    "def service(env, server, dt):\n",
    "    rqt = server.request()\n",
    "    yield rqt\n",
    "    yield env.timeout(dt[1])\n",
    "    server.release(rqt)\n",
    "    \n",
    "\n",
    "def simulate():\n",
    "    N = []\n",
    "    env = simpy.Environment()\n",
    "    server = simpy.Resource(env, capacity=1)\n",
    "    env.process(arrivals(env, server, N))\n",
    "    env.run()\n",
    "    N = np.array(N)\n",
    "    E_W = (N + 1) / lmbda_2\n",
    "    return np.mean(E_W)\n",
    "\n",
    "n = 100\n",
    "T = [simulate() for i in range(0, n)]\n",
    "print(np.mean(T))\n",
    "print(np.std(T)/np.sqrt(n))"
   ]
  },
  {
   "cell_type": "markdown",
   "metadata": {},
   "source": [
    "# 6: Stratification\n",
    "\n",
    "Note: suppose we want to calculate a confidence interval for our estimate of θ; we can estimate the variance of the estimator E as follows:\n",
    "\n",
    "1. Let $S_i^2$ be the sample variance for the samples of X∣Y=yi\n",
    "2. $\\sigma^2 = 1/n \\sum p_iS_i^2$ is an unbiased estimator for the variance of E\n",
    "\n",
    "Another reasonable question might be - if I have the choice between using Y and a control variate or as a stratifying variable, what is the better choice? It can, in fact, be shown that the stratified estimator will always lead to a greater (or at least equal to) variance reduction when compared to the control variate estimator for the same variable. There is a proof in the textbook."
   ]
  },
  {
   "cell_type": "code",
   "execution_count": 1,
   "metadata": {},
   "outputs": [],
   "source": [
    "import numpy as np\n",
    "from scipy.stats import uniform\n",
    "\n",
    "n = 1000\n",
    "\n",
    "def h(x):\n",
    "    return x**2\n",
    "\n",
    "j = np.arange(0, n)\n",
    "\n",
    "U_j = (1 / n) * (uniform.rvs(size=n) + j)\n",
    "\n",
    "theta_hat = np.mean(h(U_j))"
   ]
  },
  {
   "cell_type": "markdown",
   "metadata": {},
   "source": [
    "## Stratification for Queueing Systems\n",
    "A focus in this course has been analyzing the outputs of discrete event simulations. These are often driven by an arrival process which has a known discrete distribution (for the number of arrivals by the end of the simulation N(T)). This would, of course, be a good candidate for the stratifying variable Y, as we have methods of generating arrivals time conditional on the number of arrivals, and then can run our system as usual given said arrival times. The issue, though, is that the distribution of this variable (typically Poisson) is not going to be have finite support. We can resolve this issue by stratifying on the following events: N(T)=j for  j=1,...,m and N(T)>m for some carefully chosen value of m.\n",
    "\n",
    "If N is a poisson process with intensity λ, then $N(T) \\sim Poisson(\\lambda T)$.\n",
    "\n",
    "If we want to sample the arrival times conditional on N(T)=j, then we can simply fix j, and generate the unordered arrival time steps, like we do in the ordered statistics method; this is equivalent to skipping generating a poisson random variable, and just plugging in the deterministic value for j. Likewise, to sample from N(T)>m, we can just sample poisson random variables, and reject them until we get a sample that satisfies the condition, and proceed with the ordered statistics method from there."
   ]
  },
  {
   "cell_type": "markdown",
   "metadata": {},
   "source": [
    "### Post-Stratification\n",
    "Post-stratification is a related technique. Suppose we have a discrete random variable Y that has a discrete support y1,...,yk with known probabilities pi=P(Y=yi). Perhaps we don't know how to sample from X∣Y=yi or it somehow otherwise difficult to do so. \n",
    "\n",
    "Y can be sampled alongside X though, i.e. every simulation of X also gives us a simulation of Y.\n",
    "\n",
    "Not having to estimate these quantities gives the post-stratification estimator an edge over the regular sample mean in terms of having less variance.\n",
    "\n",
    "It's typically much easier to do post-stratification if have a working implementation of our sampler; implement stratification directly often involves making changes to how the sampler is implemented, whereas post-stratification can be done simply on the output of the simulations."
   ]
  }
 ],
 "metadata": {
  "kernelspec": {
   "display_name": "base",
   "language": "python",
   "name": "python3"
  },
  "language_info": {
   "codemirror_mode": {
    "name": "ipython",
    "version": 3
   },
   "file_extension": ".py",
   "mimetype": "text/x-python",
   "name": "python",
   "nbconvert_exporter": "python",
   "pygments_lexer": "ipython3",
   "version": "3.10.9"
  }
 },
 "nbformat": 4,
 "nbformat_minor": 2
}
