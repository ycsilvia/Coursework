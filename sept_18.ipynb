{
 "cells": [
  {
   "cell_type": "code",
   "execution_count": 1,
   "metadata": {},
   "outputs": [],
   "source": [
    "import numpy as np \n",
    "\n",
    "from scipy.stats import uniform, norm"
   ]
  },
  {
   "cell_type": "code",
   "execution_count": 2,
   "metadata": {},
   "outputs": [],
   "source": [
    "n = 500_000\n",
    "U = uniform.rvs(size=n, random_state=42)"
   ]
  },
  {
   "cell_type": "code",
   "execution_count": 3,
   "metadata": {},
   "outputs": [
    {
     "name": "stdout",
     "output_type": "stream",
     "text": [
      "0.805162852349192\n",
      "0.8032500006800553 0.8070757040183288\n"
     ]
    }
   ],
   "source": [
    "# integrate f(x) = (1 + x^3)^(-2) from 0 to infinity\n",
    "\n",
    "f = lambda x: (1 + x**3)**(-2)\n",
    "h = lambda x: (1 - x)**(-1) - 1\n",
    "h_prime = lambda x: (1-x)**(-2)\n",
    "\n",
    "sims = f(h(U))* h_prime(U)\n",
    "theta_hat = np.mean(sims)\n",
    "print(theta_hat)\n",
    "\n",
    "S = np.std(sims)\n",
    "se = norm.isf(.025) * S /np.sqrt(n)\n",
    "ci_low = theta_hat - se\n",
    "ci_high = theta_hat + se\n",
    "\n",
    "print(ci_low, ci_high)"
   ]
  },
  {
   "cell_type": "code",
   "execution_count": 4,
   "metadata": {},
   "outputs": [
    {
     "name": "stdout",
     "output_type": "stream",
     "text": [
      "0.444952990276736\n"
     ]
    }
   ],
   "source": [
    "## integrate f(x,y) = x^2 * y^2 from -1 to 1 and -1 to 1 for each of x and y\n",
    "\n",
    "U = uniform.rvs(size=(n, 2))\n",
    "\n",
    "f = lambda x: x[:,0]**2 * x[:,1]**2\n",
    "def g(x):\n",
    "    g_x = np.zeros(x.shape)\n",
    "    g_x[:,0] = -1 + 2 * x[:,0]\n",
    "    g_x[:,1] = -1 + 2 * x[:,1]\n",
    "    return g_x\n",
    "j_g = lambda x: 4\n",
    "\n",
    "sims = f(g(U)) * j_g(U)\n",
    "theta_hat = np.mean(sims)\n",
    "print(theta_hat)\n",
    "\n"
   ]
  },
  {
   "cell_type": "code",
   "execution_count": 5,
   "metadata": {},
   "outputs": [
    {
     "name": "stdout",
     "output_type": "stream",
     "text": [
      "0.1307920456552757\n"
     ]
    }
   ],
   "source": [
    "## integrate f(x,y) = x^2 * y^2 over the unit disk\n",
    "\n",
    "U = uniform.rvs(size=(n, 2))\n",
    "\n",
    "\n",
    "def g(x):\n",
    "    g_x = np.zeros(x.shape)\n",
    "    g_x[:,0] = -1 + 2 * x[:,0]\n",
    "    g_x[:,1] = -1 + 2 * x[:,1]\n",
    "    return g_x\n",
    "j_g = lambda x: 4\n",
    "\n",
    "def f(x):\n",
    "    f_0 = (x[:,0] ** 2) * (x[:,1] **2)\n",
    "    ind = (x[:,0]**2 + x[:,1] **2) < 1\n",
    "    f_0[~ind] = 0\n",
    "    return f_0\n",
    "\n",
    "\n",
    "sims = f(g(U)) * j_g(U)\n",
    "theta_hat = np.mean(sims)\n",
    "print(theta_hat)\n",
    "\n"
   ]
  }
 ],
 "metadata": {
  "kernelspec": {
   "display_name": "base",
   "language": "python",
   "name": "python3"
  },
  "language_info": {
   "codemirror_mode": {
    "name": "ipython",
    "version": 3
   },
   "file_extension": ".py",
   "mimetype": "text/x-python",
   "name": "python",
   "nbconvert_exporter": "python",
   "pygments_lexer": "ipython3",
   "version": "3.10.9"
  },
  "orig_nbformat": 4
 },
 "nbformat": 4,
 "nbformat_minor": 2
}
